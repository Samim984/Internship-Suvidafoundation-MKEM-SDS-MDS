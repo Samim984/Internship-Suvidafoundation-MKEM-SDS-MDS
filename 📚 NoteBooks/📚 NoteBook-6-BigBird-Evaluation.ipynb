{
 "cells": [
  {
   "cell_type": "markdown",
   "id": "e6f987fc",
   "metadata": {},
   "source": [
    "# 📚 NoteBook 7 BigBird Evaluation"
   ]
  },
  {
   "cell_type": "markdown",
   "id": "62327182",
   "metadata": {},
   "source": [
    "# 🚀 PROJECT PLAN\n",
    "\n",
    "MKEM Implementation – Transformer-Based Abstractive Text Summarization"
   ]
  },
  {
   "cell_type": "markdown",
   "id": "c6a579b5",
   "metadata": {},
   "source": [
    "# 🎯 Problem Statement Recap"
   ]
  },
  {
   "cell_type": "markdown",
   "id": "c5b725e3",
   "metadata": {},
   "source": [
    "# 🔍 Objective:\n",
    "    \n",
    "To build and compare transformer-based summarization models (T5, BART, Pegasus,BARTScore,ProphetNet,BigBird,LED,mTS,FLAN-T5,GPT 3.5 Turbo) and then enhance them using MKEM (Multi-Knowledge-Enhanced Model) on curated English news datasets."
   ]
  },
  {
   "cell_type": "markdown",
   "id": "7aeefb9c",
   "metadata": {},
   "source": [
    "# 📌 Phase-1 Objective\n",
    "\n",
    "✅ Implement the following 3 summarization models:\n",
    "\n",
    "PEGASUS (Google)---NoteBook(2)\n",
    "\n",
    "BART (Facebook)---NoteBook(3)\n",
    "\n",
    "T5 (Google)---NoteBook(1)\n",
    "\n",
    "Final Comparison + MKEM---NoteBook(4)\n",
    "\n",
    "NewsSum(Indian Newspaper)---NoteBook(5)\n",
    "\n",
    "BARTScore---NoteBook(6)\n",
    "\n",
    "ProphetNet---NoteBook(7)\n",
    "\n",
    "BigBird-Pegasus---NoteBook(8)\n",
    "\n",
    "LED(Longformer)---NoteBook(9)\n",
    "\n",
    "mTS ---NoteBook(10)\n",
    "\n",
    "FLAN-T5---NoteBook(11)\n",
    "\n",
    "GPT-3.5 Turbo---NoteBook(12)"
   ]
  },
  {
   "cell_type": "markdown",
   "id": "582d1f79",
   "metadata": {},
   "source": [
    "# ✅ Evaluate on 3 benchmark datasets:\n",
    "    \n",
    "CNN/DailyMail\n",
    "\n",
    "Newssum (IndianNewsPaper)"
   ]
  },
  {
   "cell_type": "markdown",
   "id": "b99cef5a",
   "metadata": {},
   "source": [
    "# ✅ Evaluation Metrics:\n",
    "    \n",
    "ROUGE-1\n",
    "\n",
    "ROUGE-2\n",
    "\n",
    "ROUGE-L\n",
    "\n",
    "BERTScore"
   ]
  },
  {
   "cell_type": "markdown",
   "id": "1dd3529e",
   "metadata": {},
   "source": [
    "# 📊 Final Output (Per Model × Dataset):\n",
    "    \n",
    "You must submit structured results:\n",
    "\n",
    "Dataset name\n",
    "\n",
    "Model used\n",
    "\n",
    "ROUGE-1, ROUGE-2, ROUGE-L, BERTScore\n",
    "\n",
    "Inference Time\n",
    "\n",
    "GPU used\n",
    "\n",
    "Short analysis/observations"
   ]
  },
  {
   "cell_type": "markdown",
   "id": "1e20ad6e",
   "metadata": {},
   "source": [
    "# 1.🚀 BigBird on CNN Dataset"
   ]
  },
  {
   "cell_type": "markdown",
   "id": "252461b1",
   "metadata": {},
   "source": [
    "**✏️ Step 1: Install & Import Libraries**"
   ]
  },
  {
   "cell_type": "code",
   "execution_count": 1,
   "id": "65832fe8",
   "metadata": {},
   "outputs": [],
   "source": [
    "!pip install transformers evaluate bert_score -q"
   ]
  },
  {
   "cell_type": "code",
   "execution_count": 2,
   "id": "40e1eef7",
   "metadata": {},
   "outputs": [
    {
     "name": "stderr",
     "output_type": "stream",
     "text": [
      "C:\\Users\\SAMIM IMTIAZ\\anaconda3\\Lib\\site-packages\\torch\\utils\\_pytree.py:185: FutureWarning: optree is installed but the version is too old to support PyTorch Dynamo in C++ pytree. C++ pytree support is disabled. Please consider upgrading optree using `python3 -m pip install --upgrade 'optree>=0.13.0'`.\n",
      "  warnings.warn(\n"
     ]
    }
   ],
   "source": [
    "import torch\n",
    "from transformers import AutoTokenizer, AutoModelForSeq2SeqLM\n",
    "import pandas as pd\n",
    "import time\n",
    "import evaluate\n",
    "import bert_score"
   ]
  },
  {
   "cell_type": "markdown",
   "id": "307889ca",
   "metadata": {},
   "source": [
    "**✏️ Step 2: Load Model & Tokenizer**"
   ]
  },
  {
   "cell_type": "code",
   "execution_count": 3,
   "id": "d0c30624",
   "metadata": {},
   "outputs": [],
   "source": [
    "from transformers import AutoTokenizer, AutoModelForSeq2SeqLM\n",
    "import torch\n",
    "\n",
    "# Set device\n",
    "device = 'cuda' if torch.cuda.is_available() else 'cpu'\n",
    "\n",
    "# ✅ Use BigBird Pegasus pre-trained on arXiv\n",
    "model_id = \"google/bigbird-pegasus-large-arxiv\"\n",
    "\n",
    "tokenizer_bigbird = AutoTokenizer.from_pretrained(model_id)\n",
    "model_bigbird = AutoModelForSeq2SeqLM.from_pretrained(model_id).to(device)"
   ]
  },
  {
   "cell_type": "markdown",
   "id": "80972e7d",
   "metadata": {},
   "source": [
    "**✏️ Step 3: Load CNN Dataset**"
   ]
  },
  {
   "cell_type": "code",
   "execution_count": 4,
   "id": "2168ef24",
   "metadata": {},
   "outputs": [
    {
     "data": {
      "text/html": [
       "<div>\n",
       "<style scoped>\n",
       "    .dataframe tbody tr th:only-of-type {\n",
       "        vertical-align: middle;\n",
       "    }\n",
       "\n",
       "    .dataframe tbody tr th {\n",
       "        vertical-align: top;\n",
       "    }\n",
       "\n",
       "    .dataframe thead th {\n",
       "        text-align: right;\n",
       "    }\n",
       "</style>\n",
       "<table border=\"1\" class=\"dataframe\">\n",
       "  <thead>\n",
       "    <tr style=\"text-align: right;\">\n",
       "      <th></th>\n",
       "      <th>article</th>\n",
       "      <th>highlights</th>\n",
       "      <th>id</th>\n",
       "    </tr>\n",
       "  </thead>\n",
       "  <tbody>\n",
       "    <tr>\n",
       "      <th>0</th>\n",
       "      <td>LONDON, England (Reuters) -- Harry Potter star...</td>\n",
       "      <td>Harry Potter star Daniel Radcliffe gets £20M f...</td>\n",
       "      <td>42c027e4ff9730fbb3de84c1af0d2c506e41c3e4</td>\n",
       "    </tr>\n",
       "    <tr>\n",
       "      <th>1</th>\n",
       "      <td>Editor's note: In our Behind the Scenes series...</td>\n",
       "      <td>Mentally ill inmates in Miami are housed on th...</td>\n",
       "      <td>ee8871b15c50d0db17b0179a6d2beab35065f1e9</td>\n",
       "    </tr>\n",
       "    <tr>\n",
       "      <th>2</th>\n",
       "      <td>MINNEAPOLIS, Minnesota (CNN) -- Drivers who we...</td>\n",
       "      <td>NEW: \"I thought I was going to die,\" driver sa...</td>\n",
       "      <td>06352019a19ae31e527f37f7571c6dd7f0c5da37</td>\n",
       "    </tr>\n",
       "    <tr>\n",
       "      <th>3</th>\n",
       "      <td>WASHINGTON (CNN) -- Doctors removed five small...</td>\n",
       "      <td>Five small polyps found during procedure; \"non...</td>\n",
       "      <td>24521a2abb2e1f5e34e6824e0f9e56904a2b0e88</td>\n",
       "    </tr>\n",
       "    <tr>\n",
       "      <th>4</th>\n",
       "      <td>(CNN)  -- The National Football League has ind...</td>\n",
       "      <td>NEW: NFL chief, Atlanta Falcons owner critical...</td>\n",
       "      <td>7fe70cc8b12fab2d0a258fababf7d9c6b5e1262a</td>\n",
       "    </tr>\n",
       "  </tbody>\n",
       "</table>\n",
       "</div>"
      ],
      "text/plain": [
       "                                             article  \\\n",
       "0  LONDON, England (Reuters) -- Harry Potter star...   \n",
       "1  Editor's note: In our Behind the Scenes series...   \n",
       "2  MINNEAPOLIS, Minnesota (CNN) -- Drivers who we...   \n",
       "3  WASHINGTON (CNN) -- Doctors removed five small...   \n",
       "4  (CNN)  -- The National Football League has ind...   \n",
       "\n",
       "                                          highlights  \\\n",
       "0  Harry Potter star Daniel Radcliffe gets £20M f...   \n",
       "1  Mentally ill inmates in Miami are housed on th...   \n",
       "2  NEW: \"I thought I was going to die,\" driver sa...   \n",
       "3  Five small polyps found during procedure; \"non...   \n",
       "4  NEW: NFL chief, Atlanta Falcons owner critical...   \n",
       "\n",
       "                                         id  \n",
       "0  42c027e4ff9730fbb3de84c1af0d2c506e41c3e4  \n",
       "1  ee8871b15c50d0db17b0179a6d2beab35065f1e9  \n",
       "2  06352019a19ae31e527f37f7571c6dd7f0c5da37  \n",
       "3  24521a2abb2e1f5e34e6824e0f9e56904a2b0e88  \n",
       "4  7fe70cc8b12fab2d0a258fababf7d9c6b5e1262a  "
      ]
     },
     "execution_count": 4,
     "metadata": {},
     "output_type": "execute_result"
    }
   ],
   "source": [
    "df_cnn = pd.read_csv(\"cnn_dailymail.csv\")\n",
    "\n",
    "# Drop missing or empty values\n",
    "df_cnn.dropna(subset=[\"article\", \"highlights\"], inplace=True)\n",
    "df_cnn = df_cnn[df_cnn[\"article\"].str.strip().astype(bool)]\n",
    "\n",
    "# Optional: Subset for testing\n",
    "df_cnn = df_cnn[:5]\n",
    "\n",
    "df_cnn.head()"
   ]
  },
  {
   "cell_type": "markdown",
   "id": "dd401c06",
   "metadata": {},
   "source": [
    "**✏️ Step 4: Define Summarization Function**"
   ]
  },
  {
   "cell_type": "code",
   "execution_count": 5,
   "id": "878d1375",
   "metadata": {},
   "outputs": [],
   "source": [
    "def summarize_with_bigbird(text):\n",
    "    # Tokenize and truncate input to BigBird Pegasus limits\n",
    "    inputs = tokenizer_bigbird(\n",
    "        text,\n",
    "        return_tensors=\"pt\",\n",
    "        truncation=True,\n",
    "        padding=\"longest\",\n",
    "        max_length=1024  \n",
    "    ).to(device)\n",
    "    \n",
    "    # Generate summary\n",
    "    summary_ids = model_bigbird.generate(\n",
    "        inputs[\"input_ids\"],\n",
    "        max_length=160,   \n",
    "        min_length=40,\n",
    "        length_penalty=2.0,\n",
    "        num_beams=4,\n",
    "        early_stopping=True\n",
    "    )\n",
    "    \n",
    "    # Decode and return summary\n",
    "    return tokenizer_bigbird.decode(summary_ids[0], skip_special_tokens=True)"
   ]
  },
  {
   "cell_type": "markdown",
   "id": "d7b4283f",
   "metadata": {},
   "source": [
    "**✏️ Step 5: Generate Predictions**"
   ]
  },
  {
   "cell_type": "code",
   "execution_count": 6,
   "id": "a2916147",
   "metadata": {},
   "outputs": [
    {
     "name": "stderr",
     "output_type": "stream",
     "text": [
      "Attention type 'block_sparse' is not possible if sequence_length: 560 <= num global tokens: 2 * config.block_size + min. num sliding tokens: 3 * config.block_size + config.num_random_blocks * config.block_size + additional buffer: config.num_random_blocks * config.block_size = 704 with config.block_size = 64, config.num_random_blocks = 3. Changing attention type to 'original_full'...\n"
     ]
    },
    {
     "name": "stdout",
     "output_type": "stream",
     "text": [
      "🕒 Inference Time: 718.42 seconds\n"
     ]
    }
   ],
   "source": [
    "start_time = time.time()\n",
    "\n",
    "bigbird_preds = [summarize_with_bigbird(article) for article in df_cnn[\"article\"]]\n",
    "bigbird_refs = df_cnn[\"highlights\"].tolist()\n",
    "\n",
    "end_time = time.time()\n",
    "inference_time = round(end_time - start_time, 2)\n",
    "print(\"🕒 Inference Time:\", inference_time, \"seconds\")"
   ]
  },
  {
   "cell_type": "markdown",
   "id": "554b5524",
   "metadata": {},
   "source": [
    "**✏️ Step 6: Evaluate with ROUGE & BERTScore**"
   ]
  },
  {
   "cell_type": "code",
   "execution_count": 7,
   "id": "6c387357",
   "metadata": {},
   "outputs": [
    {
     "name": "stderr",
     "output_type": "stream",
     "text": [
      "Some weights of RobertaModel were not initialized from the model checkpoint at roberta-large and are newly initialized: ['pooler.dense.bias', 'pooler.dense.weight']\n",
      "You should probably TRAIN this model on a down-stream task to be able to use it for predictions and inference.\n",
      "C:\\Users\\SAMIM IMTIAZ\\anaconda3\\Lib\\site-packages\\torch\\nn\\modules\\module.py:1750: FutureWarning: `encoder_attention_mask` is deprecated and will be removed in version 4.55.0 for `RobertaSdpaSelfAttention.forward`.\n",
      "  return forward_call(*args, **kwargs)\n"
     ]
    },
    {
     "name": "stdout",
     "output_type": "stream",
     "text": [
      "📊 ROUGE Scores:\n",
      " {'rouge1': 0.0713815392469786, 'rouge2': 0.0, 'rougeL': 0.05693226960623641, 'rougeLsum': 0.0633391344260503}\n",
      "📊 BERTScore (F1 average): 0.786\n"
     ]
    }
   ],
   "source": [
    "# ROUGE\n",
    "rouge = evaluate.load(\"rouge\")\n",
    "rouge_scores = rouge.compute(predictions=bigbird_preds, references=bigbird_refs)\n",
    "\n",
    "# BERTScore\n",
    "bertscore = evaluate.load(\"bertscore\")\n",
    "bert_scores = bertscore.compute(predictions=bigbird_preds, references=bigbird_refs, lang=\"en\")\n",
    "\n",
    "# Display results\n",
    "print(\"📊 ROUGE Scores:\\n\", rouge_scores)\n",
    "print(\"📊 BERTScore (F1 average):\", round(sum(bert_scores[\"f1\"]) / len(bert_scores[\"f1\"]), 4))"
   ]
  },
  {
   "cell_type": "markdown",
   "id": "dd6e841f",
   "metadata": {},
   "source": [
    "# 💾 Save the Scores to .CSV Files\n",
    "\n",
    "**So that we can use to comapair models in different NoteBooks**"
   ]
  },
  {
   "cell_type": "code",
   "execution_count": 8,
   "id": "4a17f4dd",
   "metadata": {},
   "outputs": [
    {
     "data": {
      "text/html": [
       "<div>\n",
       "<style scoped>\n",
       "    .dataframe tbody tr th:only-of-type {\n",
       "        vertical-align: middle;\n",
       "    }\n",
       "\n",
       "    .dataframe tbody tr th {\n",
       "        vertical-align: top;\n",
       "    }\n",
       "\n",
       "    .dataframe thead th {\n",
       "        text-align: right;\n",
       "    }\n",
       "</style>\n",
       "<table border=\"1\" class=\"dataframe\">\n",
       "  <thead>\n",
       "    <tr style=\"text-align: right;\">\n",
       "      <th></th>\n",
       "      <th>Dataset</th>\n",
       "      <th>Model</th>\n",
       "      <th>ROUGE-1</th>\n",
       "      <th>ROUGE-2</th>\n",
       "      <th>ROUGE-L</th>\n",
       "      <th>BERTScore</th>\n",
       "      <th>Inference Time (s)</th>\n",
       "      <th>GPU Used</th>\n",
       "    </tr>\n",
       "  </thead>\n",
       "  <tbody>\n",
       "    <tr>\n",
       "      <th>0</th>\n",
       "      <td>CNN</td>\n",
       "      <td>BigBird-Pegasus</td>\n",
       "      <td>0.071382</td>\n",
       "      <td>0.0</td>\n",
       "      <td>0.056932</td>\n",
       "      <td>0.786</td>\n",
       "      <td>718.42</td>\n",
       "      <td>CPU</td>\n",
       "    </tr>\n",
       "  </tbody>\n",
       "</table>\n",
       "</div>"
      ],
      "text/plain": [
       "  Dataset            Model   ROUGE-1  ROUGE-2   ROUGE-L  BERTScore  \\\n",
       "0     CNN  BigBird-Pegasus  0.071382      0.0  0.056932      0.786   \n",
       "\n",
       "   Inference Time (s) GPU Used  \n",
       "0              718.42      CPU  "
      ]
     },
     "execution_count": 8,
     "metadata": {},
     "output_type": "execute_result"
    }
   ],
   "source": [
    "# Create summary dictionary\n",
    "bigbird_result = {\n",
    "    \"Dataset\": [\"CNN\"],\n",
    "    \"Model\": [\"BigBird-Pegasus\"],\n",
    "    \"ROUGE-1\": [rouge_scores[\"rouge1\"]],\n",
    "    \"ROUGE-2\": [rouge_scores[\"rouge2\"]],\n",
    "    \"ROUGE-L\": [rouge_scores[\"rougeL\"]],\n",
    "    \"BERTScore\": [round(sum(bert_scores[\"f1\"]) / len(bert_scores[\"f1\"]), 4)],\n",
    "    \"Inference Time (s)\": [inference_time],\n",
    "    \"GPU Used\": [torch.cuda.get_device_name(0) if torch.cuda.is_available() else \"CPU\"]\n",
    "}\n",
    "\n",
    "df_bigbird_eval = pd.DataFrame(bigbird_result)\n",
    "df_bigbird_eval.to_csv(\"BigBird_CNN_Evaluation.csv\", index=False)\n",
    "df_bigbird_eval"
   ]
  },
  {
   "cell_type": "markdown",
   "id": "25954ca5",
   "metadata": {},
   "source": [
    "# 2.🚀 BigBird on NewsSum Dataset"
   ]
  },
  {
   "cell_type": "markdown",
   "id": "dd010418",
   "metadata": {},
   "source": [
    "**✏️ Step 1: Load NewsSum Dataset**"
   ]
  },
  {
   "cell_type": "code",
   "execution_count": 9,
   "id": "d50aacbf",
   "metadata": {},
   "outputs": [
    {
     "data": {
      "text/html": [
       "<div>\n",
       "<style scoped>\n",
       "    .dataframe tbody tr th:only-of-type {\n",
       "        vertical-align: middle;\n",
       "    }\n",
       "\n",
       "    .dataframe tbody tr th {\n",
       "        vertical-align: top;\n",
       "    }\n",
       "\n",
       "    .dataframe thead th {\n",
       "        text-align: right;\n",
       "    }\n",
       "</style>\n",
       "<table border=\"1\" class=\"dataframe\">\n",
       "  <thead>\n",
       "    <tr style=\"text-align: right;\">\n",
       "      <th></th>\n",
       "      <th>Headline</th>\n",
       "      <th>Article</th>\n",
       "      <th>Category</th>\n",
       "      <th>Summary</th>\n",
       "    </tr>\n",
       "  </thead>\n",
       "  <tbody>\n",
       "    <tr>\n",
       "      <th>0</th>\n",
       "      <td>Elephant death brings to fore man-animal confl...</td>\n",
       "      <td>The death of a pregnant elephant in the buffer...</td>\n",
       "      <td>Local News</td>\n",
       "      <td>Thousands of farmers in Kerala have either aba...</td>\n",
       "    </tr>\n",
       "    <tr>\n",
       "      <th>1</th>\n",
       "      <td>Cases filed after two â€˜commit suicideâ€™ in ...</td>\n",
       "      <td>Two suicides were reported from Vadodara and D...</td>\n",
       "      <td>Crime and Justice</td>\n",
       "      <td>In the first incident, a 30-year-old woman all...</td>\n",
       "    </tr>\n",
       "    <tr>\n",
       "      <th>2</th>\n",
       "      <td>Woman alleges father tied to MP hospital bed o...</td>\n",
       "      <td>A day after a woman alleged that her father ha...</td>\n",
       "      <td>Health and Wellness</td>\n",
       "      <td>The hospital denied the allegation, saying the...</td>\n",
       "    </tr>\n",
       "    <tr>\n",
       "      <th>3</th>\n",
       "      <td>Sena member, author, app designer â€“ the many...</td>\n",
       "      <td>Assistant police inspector Sachin Vaze, who wa...</td>\n",
       "      <td>Defense</td>\n",
       "      <td>On Saturday, Vaze along with police constables...</td>\n",
       "    </tr>\n",
       "    <tr>\n",
       "      <th>4</th>\n",
       "      <td>Manager, owner of resort where Gujarat Congres...</td>\n",
       "      <td>The manager and owner of a resort in Rajkot, w...</td>\n",
       "      <td>Politics</td>\n",
       "      <td>The resort is reportedly owned by Indranil Raj...</td>\n",
       "    </tr>\n",
       "  </tbody>\n",
       "</table>\n",
       "</div>"
      ],
      "text/plain": [
       "                                            Headline  \\\n",
       "0  Elephant death brings to fore man-animal confl...   \n",
       "1  Cases filed after two â€˜commit suicideâ€™ in ...   \n",
       "2  Woman alleges father tied to MP hospital bed o...   \n",
       "3  Sena member, author, app designer â€“ the many...   \n",
       "4  Manager, owner of resort where Gujarat Congres...   \n",
       "\n",
       "                                             Article             Category  \\\n",
       "0  The death of a pregnant elephant in the buffer...           Local News   \n",
       "1  Two suicides were reported from Vadodara and D...    Crime and Justice   \n",
       "2  A day after a woman alleged that her father ha...  Health and Wellness   \n",
       "3  Assistant police inspector Sachin Vaze, who wa...              Defense   \n",
       "4  The manager and owner of a resort in Rajkot, w...             Politics   \n",
       "\n",
       "                                             Summary  \n",
       "0  Thousands of farmers in Kerala have either aba...  \n",
       "1  In the first incident, a 30-year-old woman all...  \n",
       "2  The hospital denied the allegation, saying the...  \n",
       "3  On Saturday, Vaze along with police constables...  \n",
       "4  The resort is reportedly owned by Indranil Raj...  "
      ]
     },
     "execution_count": 9,
     "metadata": {},
     "output_type": "execute_result"
    }
   ],
   "source": [
    "import pandas as pd\n",
    "\n",
    "# Load cleaned NewsSum dataset\n",
    "df_newsum = pd.read_csv(\"newsum_cleaned.csv\")\n",
    "\n",
    "# Drop missing or empty articles/summaries\n",
    "df_newsum = df_newsum.dropna(subset=[\"Article\", \"Summary\"])\n",
    "df_newsum = df_newsum[df_newsum[\"Article\"].str.strip().astype(bool)]\n",
    "\n",
    "# Optional: limit for quick test\n",
    "df_newsum = df_newsum[:5]\n",
    "\n",
    "df_newsum.head()"
   ]
  },
  {
   "cell_type": "markdown",
   "id": "4a7150e5",
   "metadata": {},
   "source": [
    "**✏️Step 2: Generate Summaries with BigBird**"
   ]
  },
  {
   "cell_type": "code",
   "execution_count": 10,
   "id": "23613587",
   "metadata": {},
   "outputs": [
    {
     "name": "stdout",
     "output_type": "stream",
     "text": [
      "🕒 Inference Time: 513.18 seconds\n"
     ]
    }
   ],
   "source": [
    "def summarize_with_bigbird(text):\n",
    "    inputs = tokenizer_bigbird(\n",
    "        text, return_tensors=\"pt\",\n",
    "        truncation=True, padding=\"longest\",\n",
    "        max_length=4096\n",
    "    ).to(device)\n",
    "\n",
    "    summary_ids = model_bigbird.generate(\n",
    "        inputs[\"input_ids\"],\n",
    "        max_length=150, min_length=40,\n",
    "        length_penalty=2.0, num_beams=4\n",
    "    )\n",
    "\n",
    "    return tokenizer_bigbird.decode(summary_ids[0], skip_special_tokens=True)\n",
    "\n",
    "start_time = time.time()\n",
    "\n",
    "# Generate predictions\n",
    "bigbird_newsum_preds = [summarize_with_bigbird(article) for article in df_newsum[\"Article\"]]\n",
    "bigbird_newsum_refs = df_newsum[\"Summary\"].tolist()\n",
    "\n",
    "end_time = time.time()\n",
    "inference_time = round(end_time - start_time, 2)\n",
    "print(\"🕒 Inference Time:\", inference_time, \"seconds\")"
   ]
  },
  {
   "cell_type": "markdown",
   "id": "468af92c",
   "metadata": {},
   "source": [
    "**✏️Step 3: Evaluate with ROUGE and BERTScore**"
   ]
  },
  {
   "cell_type": "code",
   "execution_count": 27,
   "id": "97b6b729",
   "metadata": {},
   "outputs": [
    {
     "name": "stderr",
     "output_type": "stream",
     "text": [
      "Some weights of RobertaModel were not initialized from the model checkpoint at roberta-large and are newly initialized: ['pooler.dense.bias', 'pooler.dense.weight']\n",
      "You should probably TRAIN this model on a down-stream task to be able to use it for predictions and inference.\n",
      "C:\\Users\\SAMIM IMTIAZ\\anaconda3\\Lib\\site-packages\\torch\\nn\\modules\\module.py:1750: FutureWarning: `encoder_attention_mask` is deprecated and will be removed in version 4.55.0 for `RobertaSdpaSelfAttention.forward`.\n",
      "  return forward_call(*args, **kwargs)\n"
     ]
    }
   ],
   "source": [
    "import evaluate\n",
    "rouge = evaluate.load(\"rouge\")\n",
    "bertscore = evaluate.load(\"bertscore\")\n",
    "\n",
    "# ROUGE\n",
    "rouge_results = rouge.compute(predictions=bigbird_newsum_preds, references=bigbird_newsum_refs)\n",
    "\n",
    "# BERTScore\n",
    "bertscore_results = bertscore.compute(predictions=bigbird_newsum_preds, references=bigbird_newsum_refs, lang=\"en\")\n",
    "\n",
    "# Combine scores\n",
    "bigbird_newsum_scores = {\n",
    "    \"Dataset\": [\"NewsSum\"],   \n",
    "    \"Model\": [\"BigBird-Pegasus\"],\n",
    "    \"ROUGE-1\": [rouge_results[\"rouge1\"]],\n",
    "    \"ROUGE-2\": [rouge_results[\"rouge2\"]],\n",
    "    \"ROUGE-L\": [rouge_results[\"rougeL\"]],\n",
    "    \"BERTScore\": [round(sum(bertscore_results[\"f1\"]) / len(bertscore_results[\"f1\"]), 4)],\n",
    "    \"Inference Time (s)\": [inference_time],\n",
    "    \"GPU Used\": [torch.cuda.get_device_name(0) if torch.cuda.is_available() else \"CPU\"]\n",
    "}\n",
    "\n",
    "# Save\n",
    "bigbird_newsum_scores_df = pd.DataFrame(bigbird_newsum_scores)\n",
    "bigbird_newsum_scores_df.to_csv(\"bigbird_newsum_scores.csv\", index=False)"
   ]
  },
  {
   "cell_type": "markdown",
   "id": "d3347be5",
   "metadata": {},
   "source": [
    "**💾 Step 4: Save Evaluation Scores to CSV**"
   ]
  },
  {
   "cell_type": "code",
   "execution_count": 25,
   "id": "8d6534ed",
   "metadata": {},
   "outputs": [
    {
     "name": "stdout",
     "output_type": "stream",
     "text": [
      "✅ BigBird NewsSum scores saved to bigbird_newsum_scores.csv\n"
     ]
    }
   ],
   "source": [
    "bigbird_newsum_scores_df = pd.DataFrame(bigbird_newsum_scores)  # use the NewsSum dict\n",
    "bigbird_newsum_scores_df.to_csv(\"bigbird_newsum_scores.csv\", index=False)\n",
    "print(\"✅ BigBird NewsSum scores saved to bigbird_newsum_scores.csv\")"
   ]
  },
  {
   "cell_type": "code",
   "execution_count": 28,
   "id": "d4477120",
   "metadata": {},
   "outputs": [
    {
     "name": "stdout",
     "output_type": "stream",
     "text": [
      "✅ BigBird CNN + NewsSum scores saved to bigbird_all_scores.csv\n"
     ]
    },
    {
     "data": {
      "text/html": [
       "<div>\n",
       "<style scoped>\n",
       "    .dataframe tbody tr th:only-of-type {\n",
       "        vertical-align: middle;\n",
       "    }\n",
       "\n",
       "    .dataframe tbody tr th {\n",
       "        vertical-align: top;\n",
       "    }\n",
       "\n",
       "    .dataframe thead th {\n",
       "        text-align: right;\n",
       "    }\n",
       "</style>\n",
       "<table border=\"1\" class=\"dataframe\">\n",
       "  <thead>\n",
       "    <tr style=\"text-align: right;\">\n",
       "      <th></th>\n",
       "      <th>Dataset</th>\n",
       "      <th>Model</th>\n",
       "      <th>ROUGE-1</th>\n",
       "      <th>ROUGE-2</th>\n",
       "      <th>ROUGE-L</th>\n",
       "      <th>BERTScore</th>\n",
       "      <th>Inference Time (s)</th>\n",
       "      <th>GPU Used</th>\n",
       "    </tr>\n",
       "  </thead>\n",
       "  <tbody>\n",
       "    <tr>\n",
       "      <th>0</th>\n",
       "      <td>CNN</td>\n",
       "      <td>BigBird-Pegasus</td>\n",
       "      <td>0.071382</td>\n",
       "      <td>0.000000</td>\n",
       "      <td>0.056932</td>\n",
       "      <td>0.786</td>\n",
       "      <td>718.42</td>\n",
       "      <td>CPU</td>\n",
       "    </tr>\n",
       "    <tr>\n",
       "      <th>1</th>\n",
       "      <td>NewsSum</td>\n",
       "      <td>BigBird-Pegasus</td>\n",
       "      <td>0.107180</td>\n",
       "      <td>0.007547</td>\n",
       "      <td>0.066587</td>\n",
       "      <td>0.781</td>\n",
       "      <td>513.18</td>\n",
       "      <td>CPU</td>\n",
       "    </tr>\n",
       "  </tbody>\n",
       "</table>\n",
       "</div>"
      ],
      "text/plain": [
       "   Dataset            Model   ROUGE-1   ROUGE-2   ROUGE-L  BERTScore  \\\n",
       "0      CNN  BigBird-Pegasus  0.071382  0.000000  0.056932      0.786   \n",
       "1  NewsSum  BigBird-Pegasus  0.107180  0.007547  0.066587      0.781   \n",
       "\n",
       "   Inference Time (s) GPU Used  \n",
       "0              718.42      CPU  \n",
       "1              513.18      CPU  "
      ]
     },
     "execution_count": 28,
     "metadata": {},
     "output_type": "execute_result"
    }
   ],
   "source": [
    "import pandas as pd\n",
    "\n",
    "# Load individual score files\n",
    "cnn_scores = pd.read_csv(\"BigBird_CNN_Evaluation.csv\")\n",
    "bigbird_newsum_scores_df = pd.read_csv(\"bigbird_newsum_scores.csv\")\n",
    "\n",
    "# Merge into one DataFrame\n",
    "bigbird_all_scores = pd.concat([cnn_scores, bigbird_newsum_scores_df], ignore_index=True)\n",
    "bigbird_all_scores.to_csv(\"bigbird_all_scores.csv\", index=False)\n",
    "bigbird_all_scores\n",
    "\n",
    "# Save merged scores\n",
    "bigbird_all_scores.to_csv(\"bigbird_all_scores.csv\", index=False)\n",
    "\n",
    "print(\"✅ BigBird CNN + NewsSum scores saved to bigbird_all_scores.csv\")\n",
    "bigbird_all_scores\n"
   ]
  }
 ],
 "metadata": {
  "kernelspec": {
   "display_name": "Python 3",
   "language": "python",
   "name": "python3"
  },
  "language_info": {
   "codemirror_mode": {
    "name": "ipython",
    "version": 3
   },
   "file_extension": ".py",
   "mimetype": "text/x-python",
   "name": "python",
   "nbconvert_exporter": "python",
   "pygments_lexer": "ipython3",
   "version": "3.11.5"
  }
 },
 "nbformat": 4,
 "nbformat_minor": 5
}
