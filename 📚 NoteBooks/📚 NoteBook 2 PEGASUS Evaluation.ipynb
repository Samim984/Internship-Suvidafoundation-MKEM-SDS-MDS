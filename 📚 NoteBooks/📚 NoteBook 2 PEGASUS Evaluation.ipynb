{
 "cells": [
  {
   "cell_type": "markdown",
   "id": "6be5ae9d",
   "metadata": {},
   "source": [
    "# 📚 NoteBook 2 PEGASUS Evaluation"
   ]
  },
  {
   "cell_type": "markdown",
   "id": "8adcbdbc",
   "metadata": {},
   "source": [
    "# 🚀 PROJECT PLAN\n",
    "MKEM Implementation – Transformer-Based Abstractive Text Summarization"
   ]
  },
  {
   "cell_type": "markdown",
   "id": "63ed5549",
   "metadata": {},
   "source": [
    "# 🎯 Problem Statement Recap"
   ]
  },
  {
   "cell_type": "markdown",
   "id": "ac15e3d3",
   "metadata": {},
   "source": [
    "# 🔍 Objective:\n",
    "To build and compare transformer-based summarization models (T5, BART, Pegasus) and then enhance them using MKEM (Multi-Knowledge-Enhanced Model) on curated English news datasets."
   ]
  },
  {
   "cell_type": "markdown",
   "id": "2f3b9a50",
   "metadata": {},
   "source": [
    "# 📌 Phase-1 Objective"
   ]
  },
  {
   "cell_type": "markdown",
   "id": "ae15a0ea",
   "metadata": {},
   "source": [
    "# ✅ Implement the following 3 summarization models:\n",
    "    \n",
    "PEGASUS (Google)---NoteBook(2)\n",
    "\n",
    "BART (Facebook)---NoteBook(3)\n",
    "\n",
    "T5 (Google)---NoteBook(1)"
   ]
  },
  {
   "cell_type": "markdown",
   "id": "e0dfb9ec",
   "metadata": {},
   "source": [
    "# ✅ Evaluate on 3 benchmark datasets:\n",
    "    \n",
    "CNN/DailyMail\n",
    "\n",
    "XSum\n",
    "\n",
    "MultiNews"
   ]
  },
  {
   "cell_type": "markdown",
   "id": "54587351",
   "metadata": {},
   "source": [
    "# ✅ Evaluation Metrics:\n",
    "    \n",
    "ROUGE-1\n",
    "\n",
    "ROUGE-2\n",
    "\n",
    "ROUGE-L\n",
    "\n",
    "BERTScore"
   ]
  },
  {
   "cell_type": "markdown",
   "id": "f332c288",
   "metadata": {},
   "source": [
    "# 📊 Final Output (Per Model × Dataset):\n",
    "    \n",
    "You must submit structured results:\n",
    "\n",
    "Dataset name\n",
    "\n",
    "Model used\n",
    "\n",
    "ROUGE-1, ROUGE-2, ROUGE-L, BERTScore\n",
    "\n",
    "Short analysis/observations"
   ]
  },
  {
   "cell_type": "markdown",
   "id": "0bf62708",
   "metadata": {},
   "source": [
    "# 📌 Phase-2 Objective:Final Comparison + MKEM-- NoteBook (4)"
   ]
  },
  {
   "cell_type": "markdown",
   "id": "b2ff3371",
   "metadata": {},
   "source": [
    "**🎯 Task: Model Comparison + MKEM Fusion**"
   ]
  },
  {
   "cell_type": "markdown",
   "id": "476155a5",
   "metadata": {},
   "source": [
    "# 🚀PEGASUS Implementation Plan"
   ]
  },
  {
   "cell_type": "markdown",
   "id": "b1fd88ca",
   "metadata": {},
   "source": [
    "# **1.🚀PEGASUS on CNN**"
   ]
  },
  {
   "cell_type": "markdown",
   "id": "853529f4",
   "metadata": {},
   "source": [
    "**🔹 Step 1: Install & Import**"
   ]
  },
  {
   "cell_type": "code",
   "execution_count": 4,
   "id": "1c1b98a1",
   "metadata": {},
   "outputs": [],
   "source": [
    "from transformers import PegasusTokenizer, PegasusForConditionalGeneration\n",
    "import torch\n",
    "import pandas as pd"
   ]
  },
  {
   "cell_type": "code",
   "execution_count": 2,
   "id": "5bf2a8a8",
   "metadata": {},
   "outputs": [
    {
     "name": "stdout",
     "output_type": "stream",
     "text": [
      "None\n"
     ]
    }
   ],
   "source": [
    "import torch\n",
    "print(torch.version.cuda)"
   ]
  },
  {
   "cell_type": "code",
   "execution_count": 3,
   "id": "88892939",
   "metadata": {
    "collapsed": true
   },
   "outputs": [
    {
     "name": "stdout",
     "output_type": "stream",
     "text": [
      "Looking in indexes: https://download.pytorch.org/whl/cpu\n",
      "Requirement already satisfied: torch==2.6.0+cpu in c:\\users\\samim imtiaz\\anaconda3\\lib\\site-packages (2.6.0+cpu)\n",
      "Requirement already satisfied: filelock in c:\\users\\samim imtiaz\\anaconda3\\lib\\site-packages (from torch==2.6.0+cpu) (3.9.0)\n",
      "Requirement already satisfied: typing-extensions>=4.10.0 in c:\\users\\samim imtiaz\\anaconda3\\lib\\site-packages (from torch==2.6.0+cpu) (4.12.2)\n",
      "Requirement already satisfied: networkx in c:\\users\\samim imtiaz\\anaconda3\\lib\\site-packages (from torch==2.6.0+cpu) (3.1)\n",
      "Requirement already satisfied: jinja2 in c:\\users\\samim imtiaz\\anaconda3\\lib\\site-packages (from torch==2.6.0+cpu) (3.1.2)\n",
      "Requirement already satisfied: fsspec in c:\\users\\samim imtiaz\\anaconda3\\lib\\site-packages (from torch==2.6.0+cpu) (2025.3.0)\n",
      "Requirement already satisfied: sympy==1.13.1 in c:\\users\\samim imtiaz\\anaconda3\\lib\\site-packages (from torch==2.6.0+cpu) (1.13.1)\n",
      "Requirement already satisfied: mpmath<1.4,>=1.1.0 in c:\\users\\samim imtiaz\\anaconda3\\lib\\site-packages (from sympy==1.13.1->torch==2.6.0+cpu) (1.3.0)\n",
      "Requirement already satisfied: MarkupSafe>=2.0 in c:\\users\\samim imtiaz\\anaconda3\\lib\\site-packages (from jinja2->torch==2.6.0+cpu) (2.1.1)\n"
     ]
    },
    {
     "name": "stderr",
     "output_type": "stream",
     "text": [
      "\n",
      "[notice] A new release of pip is available: 24.3.1 -> 25.2\n",
      "[notice] To update, run: python.exe -m pip install --upgrade pip\n"
     ]
    }
   ],
   "source": [
    "!pip install torch==2.6.0+cpu --index-url https://download.pytorch.org/whl/cpu"
   ]
  },
  {
   "cell_type": "markdown",
   "id": "bbdc5571",
   "metadata": {},
   "source": [
    "**🔹 Step 2: Load PEGASUS model & tokenizer**"
   ]
  },
  {
   "cell_type": "code",
   "execution_count": 5,
   "id": "1f8e2b4d",
   "metadata": {},
   "outputs": [
    {
     "name": "stderr",
     "output_type": "stream",
     "text": [
      "Some weights of PegasusForConditionalGeneration were not initialized from the model checkpoint at google/pegasus-cnn_dailymail and are newly initialized: ['model.decoder.embed_positions.weight', 'model.encoder.embed_positions.weight']\n",
      "You should probably TRAIN this model on a down-stream task to be able to use it for predictions and inference.\n"
     ]
    },
    {
     "data": {
      "application/vnd.jupyter.widget-view+json": {
       "model_id": "92f5fdfe58874c3fae10b30be984ebae",
       "version_major": 2,
       "version_minor": 0
      },
      "text/plain": [
       "generation_config.json:   0%|          | 0.00/280 [00:00<?, ?B/s]"
      ]
     },
     "metadata": {},
     "output_type": "display_data"
    },
    {
     "name": "stderr",
     "output_type": "stream",
     "text": [
      "C:\\Users\\SAMIM IMTIAZ\\anaconda3\\Lib\\site-packages\\huggingface_hub\\file_download.py:143: UserWarning: `huggingface_hub` cache-system uses symlinks by default to efficiently store duplicated files but your machine does not support them in C:\\Users\\SAMIM IMTIAZ\\.cache\\huggingface\\hub\\models--google--pegasus-cnn_dailymail. Caching files will still work but in a degraded version that might require more space on your disk. This warning can be disabled by setting the `HF_HUB_DISABLE_SYMLINKS_WARNING` environment variable. For more details, see https://huggingface.co/docs/huggingface_hub/how-to-cache#limitations.\n",
      "To support symlinks on Windows, you either need to activate Developer Mode or to run Python as an administrator. In order to activate developer mode, see this article: https://docs.microsoft.com/en-us/windows/apps/get-started/enable-your-device-for-development\n",
      "  warnings.warn(message)\n"
     ]
    }
   ],
   "source": [
    "model_name = \"google/pegasus-cnn_dailymail\"\n",
    "tokenizer = PegasusTokenizer.from_pretrained(model_name)\n",
    "model = PegasusForConditionalGeneration.from_pretrained(model_name)\n",
    "\n",
    "device = torch.device(\"cuda\" if torch.cuda.is_available() else \"cpu\")\n",
    "model = model.to(device)"
   ]
  },
  {
   "cell_type": "markdown",
   "id": "641c966a",
   "metadata": {},
   "source": [
    "**🔹 Step 3: Load Dataset from CSV**"
   ]
  },
  {
   "cell_type": "code",
   "execution_count": 34,
   "id": "3465f5c5",
   "metadata": {},
   "outputs": [],
   "source": [
    "# Load full datasets \n",
    "from datasets import load_dataset\n",
    "\n",
    "cnn_dailymail = load_dataset(\"cnn_dailymail\", \"3.0.0\")"
   ]
  },
  {
   "cell_type": "code",
   "execution_count": 36,
   "id": "838bf935",
   "metadata": {},
   "outputs": [
    {
     "name": "stdout",
     "output_type": "stream",
     "text": [
      "📊 CNN/DailyMail Test Set: (11490, 3)\n"
     ]
    }
   ],
   "source": [
    "print(\"📊 CNN/DailyMail Test Set:\", cnn_dailymail['test'].shape)"
   ]
  },
  {
   "cell_type": "code",
   "execution_count": 37,
   "id": "2d4ebdb4",
   "metadata": {},
   "outputs": [],
   "source": [
    "# Load CNN dataset saved from Notebook 1\n",
    "df_cnn = pd.read_csv(\"cnn_dailymail.csv\")"
   ]
  },
  {
   "cell_type": "markdown",
   "id": "265755bc",
   "metadata": {},
   "source": [
    "**🔹Step 4: Inspect the Data**"
   ]
  },
  {
   "cell_type": "code",
   "execution_count": 8,
   "id": "68a57f01",
   "metadata": {},
   "outputs": [
    {
     "data": {
      "text/html": [
       "<div>\n",
       "<style scoped>\n",
       "    .dataframe tbody tr th:only-of-type {\n",
       "        vertical-align: middle;\n",
       "    }\n",
       "\n",
       "    .dataframe tbody tr th {\n",
       "        vertical-align: top;\n",
       "    }\n",
       "\n",
       "    .dataframe thead th {\n",
       "        text-align: right;\n",
       "    }\n",
       "</style>\n",
       "<table border=\"1\" class=\"dataframe\">\n",
       "  <thead>\n",
       "    <tr style=\"text-align: right;\">\n",
       "      <th></th>\n",
       "      <th>article</th>\n",
       "      <th>highlights</th>\n",
       "      <th>id</th>\n",
       "    </tr>\n",
       "  </thead>\n",
       "  <tbody>\n",
       "    <tr>\n",
       "      <th>0</th>\n",
       "      <td>LONDON, England (Reuters) -- Harry Potter star...</td>\n",
       "      <td>Harry Potter star Daniel Radcliffe gets £20M f...</td>\n",
       "      <td>42c027e4ff9730fbb3de84c1af0d2c506e41c3e4</td>\n",
       "    </tr>\n",
       "    <tr>\n",
       "      <th>1</th>\n",
       "      <td>Editor's note: In our Behind the Scenes series...</td>\n",
       "      <td>Mentally ill inmates in Miami are housed on th...</td>\n",
       "      <td>ee8871b15c50d0db17b0179a6d2beab35065f1e9</td>\n",
       "    </tr>\n",
       "    <tr>\n",
       "      <th>2</th>\n",
       "      <td>MINNEAPOLIS, Minnesota (CNN) -- Drivers who we...</td>\n",
       "      <td>NEW: \"I thought I was going to die,\" driver sa...</td>\n",
       "      <td>06352019a19ae31e527f37f7571c6dd7f0c5da37</td>\n",
       "    </tr>\n",
       "    <tr>\n",
       "      <th>3</th>\n",
       "      <td>WASHINGTON (CNN) -- Doctors removed five small...</td>\n",
       "      <td>Five small polyps found during procedure; \"non...</td>\n",
       "      <td>24521a2abb2e1f5e34e6824e0f9e56904a2b0e88</td>\n",
       "    </tr>\n",
       "    <tr>\n",
       "      <th>4</th>\n",
       "      <td>(CNN)  -- The National Football League has ind...</td>\n",
       "      <td>NEW: NFL chief, Atlanta Falcons owner critical...</td>\n",
       "      <td>7fe70cc8b12fab2d0a258fababf7d9c6b5e1262a</td>\n",
       "    </tr>\n",
       "  </tbody>\n",
       "</table>\n",
       "</div>"
      ],
      "text/plain": [
       "                                             article  \\\n",
       "0  LONDON, England (Reuters) -- Harry Potter star...   \n",
       "1  Editor's note: In our Behind the Scenes series...   \n",
       "2  MINNEAPOLIS, Minnesota (CNN) -- Drivers who we...   \n",
       "3  WASHINGTON (CNN) -- Doctors removed five small...   \n",
       "4  (CNN)  -- The National Football League has ind...   \n",
       "\n",
       "                                          highlights  \\\n",
       "0  Harry Potter star Daniel Radcliffe gets £20M f...   \n",
       "1  Mentally ill inmates in Miami are housed on th...   \n",
       "2  NEW: \"I thought I was going to die,\" driver sa...   \n",
       "3  Five small polyps found during procedure; \"non...   \n",
       "4  NEW: NFL chief, Atlanta Falcons owner critical...   \n",
       "\n",
       "                                         id  \n",
       "0  42c027e4ff9730fbb3de84c1af0d2c506e41c3e4  \n",
       "1  ee8871b15c50d0db17b0179a6d2beab35065f1e9  \n",
       "2  06352019a19ae31e527f37f7571c6dd7f0c5da37  \n",
       "3  24521a2abb2e1f5e34e6824e0f9e56904a2b0e88  \n",
       "4  7fe70cc8b12fab2d0a258fababf7d9c6b5e1262a  "
      ]
     },
     "execution_count": 8,
     "metadata": {},
     "output_type": "execute_result"
    }
   ],
   "source": [
    "df_cnn.head()"
   ]
  },
  {
   "cell_type": "markdown",
   "id": "f7eecd2e",
   "metadata": {},
   "source": [
    "**🔹 Step 5: Define Generation Function**"
   ]
  },
  {
   "cell_type": "code",
   "execution_count": 9,
   "id": "f907c886",
   "metadata": {},
   "outputs": [],
   "source": [
    "def generate_summary(text):\n",
    "    inputs = tokenizer(text, truncation=True, padding=\"longest\", return_tensors=\"pt\").to(device)\n",
    "    summary_ids = model.generate(inputs[\"input_ids\"], max_length=60, min_length=10, length_penalty=2.0, num_beams=4, early_stopping=True)\n",
    "    return tokenizer.decode(summary_ids[0], skip_special_tokens=True)\n"
   ]
  },
  {
   "cell_type": "markdown",
   "id": "2350ad6a",
   "metadata": {},
   "source": [
    "**🔹 Step 6: Generate Summaries for Evaluation**"
   ]
  },
  {
   "cell_type": "code",
   "execution_count": 11,
   "id": "78ed843f",
   "metadata": {},
   "outputs": [
    {
     "name": "stdout",
     "output_type": "stream",
     "text": [
      "\n",
      "📰 Original Article #1:\n",
      " LONDON, England (Reuters) -- Harry Potter star Daniel Radcliffe gains access to a reported £20 million ($41.1 million) fortune as he turns 18 on Monday, but he insists the money won't cast a spell on him. Daniel Radcliffe as Harry Potter in \"Harry Potter and the Order of the Phoenix\" To the disappointment of gossip columnists around the world, the young actor says he has no plans to fritter his cash away on fast cars, drink and celebrity parties. \"I don't plan to be one of those people who, as s ...\n",
      "\n",
      "✍️ PEGASUS Summary #1:\n",
      " Harry Potter star Daniel Radcliffe gains access to a reported £20 million fortune .<n>Young actor says he has no plans to fritter his cash away .<n>Radcliffe's earnings from the first five Potter films have been held in a trust fund .\n",
      "--------------------------------------------------------------------------------\n",
      "\n",
      "📰 Original Article #2:\n",
      " Editor's note: In our Behind the Scenes series, CNN correspondents share their experiences in covering news and analyze the stories behind the events. Here, Soledad O'Brien takes users inside a jail where many of the inmates are mentally ill. An inmate housed on the \"forgotten floor,\" where many mentally ill inmates are housed in Miami before trial. MIAMI, Florida (CNN) -- The ninth floor of the Miami-Dade pretrial detention facility is dubbed the \"forgotten floor.\" Here, inmates with the most s ...\n",
      "\n",
      "✍️ PEGASUS Summary #2:\n",
      " Mentally ill inmates in Miami are housed on the \"forgotten floor\"<n>Judge Steven Leifman says the system is unjust .<n>Leifman: \"It's brutally unjust, in his mind, and he has become a strong advocate\"\n",
      "--------------------------------------------------------------------------------\n",
      "\n",
      "📰 Original Article #3:\n",
      " MINNEAPOLIS, Minnesota (CNN) -- Drivers who were on the Minneapolis bridge when it collapsed told harrowing tales of survival. \"The whole bridge from one side of the Mississippi to the other just completely gave way, fell all the way down,\" survivor Gary Babineau told CNN. \"I probably had a 30-, 35-foot free fall. And there's cars in the water, there's cars on fire. The whole bridge is down.\" He said his back was injured but he determined he could move around. \"I realized there was a school bus  ...\n",
      "\n",
      "✍️ PEGASUS Summary #3:\n",
      " \"It just gave a rumble real quick, and it all just gave way, and it just fell completely,\" driver says .<n>Driver: \"I probably had a 30-, 35-foot free fall. And there's cars in the water\"<n>Ambulances were having a\n",
      "--------------------------------------------------------------------------------\n"
     ]
    }
   ],
   "source": [
    "sample_articles = df_cnn[\"article\"][:3] \n",
    "generated_summaries = []\n",
    "\n",
    "for i, article in enumerate(sample_articles):\n",
    "    print(f\"\\n📰 Original Article #{i+1}:\\n\", article[:500], \"...\\n\")\n",
    "    \n",
    "    summary = generate_summary(article)\n",
    "    generated_summaries.append(summary)\n",
    "    \n",
    "    print(f\"✍️ PEGASUS Summary #{i+1}:\\n\", summary)\n",
    "    print(\"-\" * 80)"
   ]
  },
  {
   "cell_type": "markdown",
   "id": "b096f0d1",
   "metadata": {},
   "source": [
    "**Define CNN predictions and references**"
   ]
  },
  {
   "cell_type": "code",
   "execution_count": 12,
   "id": "e1229443",
   "metadata": {},
   "outputs": [],
   "source": [
    "pegasus_cnn_preds = generated_summaries\n",
    "pegasus_cnn_refs = df_cnn[\"highlights\"][:len(generated_summaries)]"
   ]
  },
  {
   "cell_type": "markdown",
   "id": "fbd7d1a9",
   "metadata": {},
   "source": [
    "**🔹 Step 7: Evaluate with ROUGE & BERTScore**"
   ]
  },
  {
   "cell_type": "code",
   "execution_count": 15,
   "id": "9dda9d65",
   "metadata": {},
   "outputs": [],
   "source": [
    "from evaluate import load\n",
    "import pandas as pd\n",
    "\n",
    "# Load evaluation metrics\n",
    "rouge = load(\"rouge\")\n",
    "bertscore = load(\"bertscore\")\n",
    "\n",
    "# Global list to collect results\n",
    "summary_results = []\n",
    "\n",
    "# Define evaluation function\n",
    "def evaluate_metrics(dataset_name, predictions, references):\n",
    "    # ROUGE computation\n",
    "    rouge_scores = rouge.compute(predictions=predictions, references=references, use_stemmer=True)\n",
    "\n",
    "    # BERTScore computation\n",
    "    bert_scores = bertscore.compute(predictions=predictions, references=references, lang=\"en\")\n",
    "    avg_bertscore = sum(bert_scores[\"f1\"]) / len(bert_scores[\"f1\"])\n",
    "\n",
    "    # Append results\n",
    "    summary_results.append({\n",
    "        \"Dataset\": dataset_name,\n",
    "        \"ROUGE-1\": round(rouge_scores[\"rouge1\"], 4),\n",
    "        \"ROUGE-2\": round(rouge_scores[\"rouge2\"], 4),\n",
    "        \"ROUGE-L\": round(rouge_scores[\"rougeL\"], 4),\n",
    "        \"BERTScore\": round(avg_bertscore, 4)\n",
    "    })\n"
   ]
  },
  {
   "cell_type": "code",
   "execution_count": 16,
   "id": "216fe8f2",
   "metadata": {},
   "outputs": [
    {
     "name": "stderr",
     "output_type": "stream",
     "text": [
      "Some weights of RobertaModel were not initialized from the model checkpoint at roberta-large and are newly initialized: ['pooler.dense.bias', 'pooler.dense.weight']\n",
      "You should probably TRAIN this model on a down-stream task to be able to use it for predictions and inference.\n",
      "C:\\Users\\SAMIM IMTIAZ\\anaconda3\\Lib\\site-packages\\torch\\nn\\modules\\module.py:1750: FutureWarning: `encoder_attention_mask` is deprecated and will be removed in version 4.55.0 for `RobertaSdpaSelfAttention.forward`.\n",
      "  return forward_call(*args, **kwargs)\n"
     ]
    }
   ],
   "source": [
    "evaluate_metrics(\"CNN DailyMail\", pegasus_cnn_preds, pegasus_cnn_refs)"
   ]
  },
  {
   "cell_type": "markdown",
   "id": "20494226",
   "metadata": {},
   "source": [
    "**🔹Step 8: PEGASUS with CNN ROUGE & BERTScore**"
   ]
  },
  {
   "cell_type": "code",
   "execution_count": 17,
   "id": "1d35eb12",
   "metadata": {},
   "outputs": [
    {
     "name": "stdout",
     "output_type": "stream",
     "text": [
      "✅ PEGASUS Model ROUGE + BERTScore Summary\n",
      "      Dataset  ROUGE-1  ROUGE-2  ROUGE-L  BERTScore\n",
      "CNN DailyMail   0.5595   0.4425   0.5201     0.9102\n"
     ]
    }
   ],
   "source": [
    "df_summary = pd.DataFrame(summary_results)\n",
    "print(\"✅ PEGASUS Model ROUGE + BERTScore Summary\")\n",
    "print(df_summary.to_string(index=False))"
   ]
  },
  {
   "cell_type": "markdown",
   "id": "16990c02",
   "metadata": {},
   "source": [
    "# 2.🚀PEGASUS on XSUM"
   ]
  },
  {
   "cell_type": "markdown",
   "id": "29e9cda4",
   "metadata": {},
   "source": [
    "**🔹 Step 9: Load XSum Dataset**"
   ]
  },
  {
   "cell_type": "code",
   "execution_count": 38,
   "id": "199bd75d",
   "metadata": {},
   "outputs": [
    {
     "name": "stderr",
     "output_type": "stream",
     "text": [
      "Using the latest cached version of the dataset since xsum couldn't be found on the Hugging Face Hub\n",
      "WARNING:datasets.load:Using the latest cached version of the dataset since xsum couldn't be found on the Hugging Face Hub\n",
      "Found the latest cached dataset configuration 'default' at C:\\Users\\SAMIM IMTIAZ\\.cache\\huggingface\\datasets\\xsum\\default\\1.2.0\\082863bf4754ee058a5b6f6525d0cb2b18eadb62c7b370b095d1364050a52b71 (last modified on Sun Aug  3 14:51:50 2025).\n",
      "WARNING:datasets.packaged_modules.cache.cache:Found the latest cached dataset configuration 'default' at C:\\Users\\SAMIM IMTIAZ\\.cache\\huggingface\\datasets\\xsum\\default\\1.2.0\\082863bf4754ee058a5b6f6525d0cb2b18eadb62c7b370b095d1364050a52b71 (last modified on Sun Aug  3 14:51:50 2025).\n"
     ]
    }
   ],
   "source": [
    "# ✅ Load datasets properly\n",
    "from datasets import load_dataset\n",
    "\n",
    "# XSum (extreme summarization)\n",
    "xsum = load_dataset(\"xsum\")"
   ]
  },
  {
   "cell_type": "code",
   "execution_count": 39,
   "id": "8ec09da9",
   "metadata": {},
   "outputs": [
    {
     "name": "stdout",
     "output_type": "stream",
     "text": [
      "📊 XSum Test Set: (11334, 3)\n"
     ]
    }
   ],
   "source": [
    "# ✅ Show original dataset sizes (test set only or all splits as needed)\n",
    "print(\"📊 XSum Test Set:\", xsum['test'].shape)"
   ]
  },
  {
   "cell_type": "code",
   "execution_count": 18,
   "id": "5ccbacd5",
   "metadata": {},
   "outputs": [],
   "source": [
    "import pandas as pd\n",
    "\n",
    "# Load XSum dataset saved from Notebook 1\n",
    "df_xsum = pd.read_csv(\"xsum.csv\")"
   ]
  },
  {
   "cell_type": "markdown",
   "id": "05e42252",
   "metadata": {},
   "source": [
    "**🔹Step 10: Inspect the Data**"
   ]
  },
  {
   "cell_type": "code",
   "execution_count": 19,
   "id": "43327e76",
   "metadata": {},
   "outputs": [
    {
     "data": {
      "text/html": [
       "<div>\n",
       "<style scoped>\n",
       "    .dataframe tbody tr th:only-of-type {\n",
       "        vertical-align: middle;\n",
       "    }\n",
       "\n",
       "    .dataframe tbody tr th {\n",
       "        vertical-align: top;\n",
       "    }\n",
       "\n",
       "    .dataframe thead th {\n",
       "        text-align: right;\n",
       "    }\n",
       "</style>\n",
       "<table border=\"1\" class=\"dataframe\">\n",
       "  <thead>\n",
       "    <tr style=\"text-align: right;\">\n",
       "      <th></th>\n",
       "      <th>document</th>\n",
       "      <th>summary</th>\n",
       "      <th>id</th>\n",
       "    </tr>\n",
       "  </thead>\n",
       "  <tbody>\n",
       "    <tr>\n",
       "      <th>0</th>\n",
       "      <td>The full cost of damage in Newton Stewart, one...</td>\n",
       "      <td>Clean-up operations are continuing across the ...</td>\n",
       "      <td>35232142</td>\n",
       "    </tr>\n",
       "    <tr>\n",
       "      <th>1</th>\n",
       "      <td>A fire alarm went off at the Holiday Inn in Ho...</td>\n",
       "      <td>Two tourist buses have been destroyed by fire ...</td>\n",
       "      <td>40143035</td>\n",
       "    </tr>\n",
       "    <tr>\n",
       "      <th>2</th>\n",
       "      <td>Ferrari appeared in a position to challenge un...</td>\n",
       "      <td>Lewis Hamilton stormed to pole position at the...</td>\n",
       "      <td>35951548</td>\n",
       "    </tr>\n",
       "    <tr>\n",
       "      <th>3</th>\n",
       "      <td>John Edward Bates, formerly of Spalding, Linco...</td>\n",
       "      <td>A former Lincolnshire Police officer carried o...</td>\n",
       "      <td>36266422</td>\n",
       "    </tr>\n",
       "    <tr>\n",
       "      <th>4</th>\n",
       "      <td>Patients and staff were evacuated from Cerahpa...</td>\n",
       "      <td>An armed man who locked himself into a room at...</td>\n",
       "      <td>38826984</td>\n",
       "    </tr>\n",
       "  </tbody>\n",
       "</table>\n",
       "</div>"
      ],
      "text/plain": [
       "                                            document  \\\n",
       "0  The full cost of damage in Newton Stewart, one...   \n",
       "1  A fire alarm went off at the Holiday Inn in Ho...   \n",
       "2  Ferrari appeared in a position to challenge un...   \n",
       "3  John Edward Bates, formerly of Spalding, Linco...   \n",
       "4  Patients and staff were evacuated from Cerahpa...   \n",
       "\n",
       "                                             summary        id  \n",
       "0  Clean-up operations are continuing across the ...  35232142  \n",
       "1  Two tourist buses have been destroyed by fire ...  40143035  \n",
       "2  Lewis Hamilton stormed to pole position at the...  35951548  \n",
       "3  A former Lincolnshire Police officer carried o...  36266422  \n",
       "4  An armed man who locked himself into a room at...  38826984  "
      ]
     },
     "execution_count": 19,
     "metadata": {},
     "output_type": "execute_result"
    }
   ],
   "source": [
    "df_xsum.head()"
   ]
  },
  {
   "cell_type": "markdown",
   "id": "277d51fd",
   "metadata": {},
   "source": [
    "**🔹 Step 11: Generate PEGASUS Summaries for XSum**"
   ]
  },
  {
   "cell_type": "code",
   "execution_count": 20,
   "id": "909a2fdd",
   "metadata": {},
   "outputs": [
    {
     "name": "stdout",
     "output_type": "stream",
     "text": [
      "\n",
      "📰 Original XSum Article #1:\n",
      " The full cost of damage in Newton Stewart, one of the areas worst affected, is still being assessed.\n",
      "Repair work is ongoing in Hawick and many roads in Peeblesshire remain badly affected by standing water.\n",
      "Trains on the west coast mainline face disruption due to damage at the Lamington Viaduct.\n",
      "Many businesses and householders were affected by flooding in Newton Stewart after the River Cree overflowed into the town.\n",
      "First Minister Nicola Sturgeon visited the area to inspect the damage.\n",
      "The water ...\n",
      "\n",
      "✍️ PEGASUS Summary #1:\n",
      " Many roads in Peeblesshire remain badly affected by standing water .<n>Trains on the west coast mainline face disruption due to damage at the Lamington Viaduct .<n>First Minister Nicola Sturgeon visited the area to inspect the damage .\n",
      "--------------------------------------------------------------------------------\n",
      "\n",
      "📰 Original XSum Article #2:\n",
      " A fire alarm went off at the Holiday Inn in Hope Street at about 04:20 BST on Saturday and guests were asked to leave the hotel.\n",
      "As they gathered outside they saw the two buses, parked side-by-side in the car park, engulfed by flames.\n",
      "One of the tour groups is from Germany, the other from China and Taiwan. It was their first night in Northern Ireland.\n",
      "The driver of one of the buses said many of the passengers had left personal belongings on board and these had been destroyed.\n",
      "Both groups have or ...\n",
      "\n",
      "✍️ PEGASUS Summary #2:\n",
      " Fire alarm went off at a Holiday Inn in Belfast on Saturday .<n>Guests gathered outside to see two buses engulfed in flames .<n>One of the tour groups was from Germany, the other from China and Taiwan .\n",
      "--------------------------------------------------------------------------------\n",
      "\n",
      "📰 Original XSum Article #3:\n",
      " Ferrari appeared in a position to challenge until the final laps, when the Mercedes stretched their legs to go half a second clear of the red cars.\n",
      "Sebastian Vettel will start third ahead of team-mate Kimi Raikkonen.\n",
      "The world champion subsequently escaped punishment for reversing in the pit lane, which could have seen him stripped of pole.\n",
      "But stewards only handed Hamilton a reprimand, after governing body the FIA said \"no clear instruction was given on where he should park\".\n",
      "Belgian Stoffel Va ...\n",
      "\n",
      "✍️ PEGASUS Summary #3:\n",
      " Lewis Hamilton will start on pole for Sunday's Bahrain Grand Prix .<n>Sebastian Vettel will start third ahead of team-mate Kimi Raikkonen .<n>Hamilton handed a reprimand by stewards for reversing in the pit lane .<n>Stoffel Vandoorne out-qualified McLaren team\n",
      "--------------------------------------------------------------------------------\n"
     ]
    }
   ],
   "source": [
    "sample_articles = df_xsum[\"document\"][:3]\n",
    "generated_summaries = []\n",
    "\n",
    "for i, article in enumerate(sample_articles):\n",
    "    print(f\"\\n📰 Original XSum Article #{i+1}:\\n\", article[:500], \"...\\n\")\n",
    "    \n",
    "    summary = generate_summary(article)\n",
    "    generated_summaries.append(summary)\n",
    "    \n",
    "    print(f\"✍️ PEGASUS Summary #{i+1}:\\n\", summary)\n",
    "    print(\"-\" * 80)\n",
    "\n",
    "# Store predictions and references\n",
    "pegasus_xsum_preds = generated_summaries\n",
    "pegasus_xsum_refs = df_xsum[\"summary\"][:3]"
   ]
  },
  {
   "cell_type": "markdown",
   "id": "dd1fccb6",
   "metadata": {},
   "source": [
    "**🔹 Step 11: Evaluate with ROUGE & BERTScore**"
   ]
  },
  {
   "cell_type": "code",
   "execution_count": 21,
   "id": "4659a6be",
   "metadata": {},
   "outputs": [
    {
     "name": "stderr",
     "output_type": "stream",
     "text": [
      "C:\\Users\\SAMIM IMTIAZ\\anaconda3\\Lib\\site-packages\\torch\\nn\\modules\\module.py:1750: FutureWarning: `encoder_attention_mask` is deprecated and will be removed in version 4.55.0 for `RobertaSdpaSelfAttention.forward`.\n",
      "  return forward_call(*args, **kwargs)\n"
     ]
    }
   ],
   "source": [
    "evaluate_metrics(\"XSum\", pegasus_xsum_preds, pegasus_xsum_refs) "
   ]
  },
  {
   "cell_type": "markdown",
   "id": "56a35a94",
   "metadata": {},
   "source": [
    "**🔹Step 12: PEGASUS with CNN & XSUM ROUGE & BERTScore**"
   ]
  },
  {
   "cell_type": "code",
   "execution_count": 23,
   "id": "afff409b",
   "metadata": {},
   "outputs": [
    {
     "name": "stdout",
     "output_type": "stream",
     "text": [
      "✅ PEGASUS Model ROUGE + BERTScore Summary\n",
      "      Dataset  ROUGE-1  ROUGE-2  ROUGE-L  BERTScore\n",
      "CNN DailyMail   0.5595   0.4425   0.5201     0.9102\n",
      "         XSum   0.2265   0.0681   0.1677     0.8609\n"
     ]
    }
   ],
   "source": [
    "df_summary = pd.DataFrame(summary_results)\n",
    "print(\"✅ PEGASUS Model ROUGE + BERTScore Summary\")\n",
    "print(df_summary.to_string(index=False))"
   ]
  },
  {
   "cell_type": "markdown",
   "id": "178bbca0",
   "metadata": {},
   "source": [
    "# 3.🚀PEGASUS on MultiNews"
   ]
  },
  {
   "cell_type": "markdown",
   "id": "a827373d",
   "metadata": {},
   "source": [
    "**🔹Step 13: Load MultiNews Dataset**"
   ]
  },
  {
   "cell_type": "code",
   "execution_count": 40,
   "id": "87aa4ace",
   "metadata": {},
   "outputs": [
    {
     "name": "stderr",
     "output_type": "stream",
     "text": [
      "Using the latest cached version of the dataset since multi_news couldn't be found on the Hugging Face Hub\n",
      "WARNING:datasets.load:Using the latest cached version of the dataset since multi_news couldn't be found on the Hugging Face Hub\n",
      "Found the latest cached dataset configuration 'default' at C:\\Users\\SAMIM IMTIAZ\\.cache\\huggingface\\datasets\\multi_news\\default\\1.0.0\\2f1f69a2bedc8ad1c5d8ae5148e4755ee7095f465c1c01ae8f85454342065a72 (last modified on Sun Aug  3 14:55:04 2025).\n",
      "WARNING:datasets.packaged_modules.cache.cache:Found the latest cached dataset configuration 'default' at C:\\Users\\SAMIM IMTIAZ\\.cache\\huggingface\\datasets\\multi_news\\default\\1.0.0\\2f1f69a2bedc8ad1c5d8ae5148e4755ee7095f465c1c01ae8f85454342065a72 (last modified on Sun Aug  3 14:55:04 2025).\n"
     ]
    }
   ],
   "source": [
    "# ✅ Load datasets properly\n",
    "from datasets import load_dataset\n",
    "\n",
    "# MultiNews (multi-document summarization)\n",
    "multi_news = load_dataset(\"multi_news\")"
   ]
  },
  {
   "cell_type": "code",
   "execution_count": 41,
   "id": "6f633945",
   "metadata": {},
   "outputs": [
    {
     "name": "stdout",
     "output_type": "stream",
     "text": [
      "📊 MultiNews Test Set: (5622, 2)\n"
     ]
    }
   ],
   "source": [
    "# ✅ Show original dataset sizes (test set only or all splits as needed)\n",
    "print(\"📊 MultiNews Test Set:\", multi_news['test'].shape)"
   ]
  },
  {
   "cell_type": "code",
   "execution_count": 24,
   "id": "5d73fce2",
   "metadata": {},
   "outputs": [],
   "source": [
    "import pandas as pd\n",
    "\n",
    "# Load dataset saved in Notebook 1\n",
    "df_multi = pd.read_csv(\"multi_news.csv\")"
   ]
  },
  {
   "cell_type": "markdown",
   "id": "9bc11f5a",
   "metadata": {},
   "source": [
    "**🔹Step 14: Inspect the Data**"
   ]
  },
  {
   "cell_type": "code",
   "execution_count": 25,
   "id": "ddcf6704",
   "metadata": {},
   "outputs": [
    {
     "data": {
      "text/html": [
       "<div>\n",
       "<style scoped>\n",
       "    .dataframe tbody tr th:only-of-type {\n",
       "        vertical-align: middle;\n",
       "    }\n",
       "\n",
       "    .dataframe tbody tr th {\n",
       "        vertical-align: top;\n",
       "    }\n",
       "\n",
       "    .dataframe thead th {\n",
       "        text-align: right;\n",
       "    }\n",
       "</style>\n",
       "<table border=\"1\" class=\"dataframe\">\n",
       "  <thead>\n",
       "    <tr style=\"text-align: right;\">\n",
       "      <th></th>\n",
       "      <th>document</th>\n",
       "      <th>summary</th>\n",
       "    </tr>\n",
       "  </thead>\n",
       "  <tbody>\n",
       "    <tr>\n",
       "      <th>0</th>\n",
       "      <td>National Archives \\n \\n Yes, it’s that time ag...</td>\n",
       "      <td>– The unemployment rate dropped to 8.2% last m...</td>\n",
       "    </tr>\n",
       "    <tr>\n",
       "      <th>1</th>\n",
       "      <td>LOS ANGELES (AP) — In her first interview sinc...</td>\n",
       "      <td>– Shelly Sterling plans \"eventually\" to divorc...</td>\n",
       "    </tr>\n",
       "    <tr>\n",
       "      <th>2</th>\n",
       "      <td>GAITHERSBURG, Md. (AP) — A small, private jet ...</td>\n",
       "      <td>– A twin-engine Embraer jet that the FAA descr...</td>\n",
       "    </tr>\n",
       "    <tr>\n",
       "      <th>3</th>\n",
       "      <td>Tucker Carlson Exposes His Own Sexism on Twitt...</td>\n",
       "      <td>– Tucker Carlson is in deep doodoo with conser...</td>\n",
       "    </tr>\n",
       "    <tr>\n",
       "      <th>4</th>\n",
       "      <td>A man accused of removing another man's testic...</td>\n",
       "      <td>– What are the three most horrifying words in ...</td>\n",
       "    </tr>\n",
       "  </tbody>\n",
       "</table>\n",
       "</div>"
      ],
      "text/plain": [
       "                                            document  \\\n",
       "0  National Archives \\n \\n Yes, it’s that time ag...   \n",
       "1  LOS ANGELES (AP) — In her first interview sinc...   \n",
       "2  GAITHERSBURG, Md. (AP) — A small, private jet ...   \n",
       "3  Tucker Carlson Exposes His Own Sexism on Twitt...   \n",
       "4  A man accused of removing another man's testic...   \n",
       "\n",
       "                                             summary  \n",
       "0  – The unemployment rate dropped to 8.2% last m...  \n",
       "1  – Shelly Sterling plans \"eventually\" to divorc...  \n",
       "2  – A twin-engine Embraer jet that the FAA descr...  \n",
       "3  – Tucker Carlson is in deep doodoo with conser...  \n",
       "4  – What are the three most horrifying words in ...  "
      ]
     },
     "execution_count": 25,
     "metadata": {},
     "output_type": "execute_result"
    }
   ],
   "source": [
    "df_multi.head()"
   ]
  },
  {
   "cell_type": "markdown",
   "id": "9a56e1d1",
   "metadata": {},
   "source": [
    "**🔹Step 15: Generate PEGASUS Summaries**"
   ]
  },
  {
   "cell_type": "code",
   "execution_count": 26,
   "id": "4fbc2def",
   "metadata": {},
   "outputs": [
    {
     "name": "stdout",
     "output_type": "stream",
     "text": [
      "\n",
      "📰 Original MultiNews Article #1:\n",
      " National Archives \n",
      " \n",
      " Yes, it’s that time again, folks. It’s the first Friday of the month, when for one ever-so-brief moment the interests of Wall Street, Washington and Main Street are all aligned on one thing: Jobs. \n",
      " \n",
      " A fresh update on the U.S. employment situation for January hits the wires at 8:30 a.m. New York time offering one of the most important snapshots on how the economy fared during the previous month. Expectations are for 203,000 new jobs to be created, according to economists p ...\n",
      "\n",
      "✍️ PEGASUS Summary #1:\n",
      " A fresh update on the U.S. employment situation for January hits the wires at 8:30 a.m.<n>Expectations are for 203,000 new jobs to be created, compared to 227,000 jobs added in February .<n>The unemployment rate is expected to hold steady at 8.3%\n",
      "--------------------------------------------------------------------------------\n",
      "\n",
      "📰 Original MultiNews Article #2:\n",
      " LOS ANGELES (AP) — In her first interview since the NBA banned her estranged husband, Shelly Sterling says she will fight to keep her share of the Los Angeles Clippers and plans one day to divorce Donald Sterling. \n",
      " \n",
      " (Click Prev or Next to continue viewing images.) \n",
      " \n",
      " ADVERTISEMENT (Click Prev or Next to continue viewing images.) \n",
      " \n",
      " Los Angeles Clippers co-owner Shelly Sterling, below, watches the Clippers play the Oklahoma City Thunder along with her attorney, Pierce O'Donnell, in the first  ...\n",
      "\n",
      "✍️ PEGASUS Summary #2:\n",
      " Shelly Sterling spoke to Barbara Walters, and ABC News posted a short story with excerpts from the conversation Sunday .<n>NBA Commissioner Adam Silver has banned Donald Sterling for making racist comments and urged owners to force Sterling to sell the team .<n>Sterling added that the Clippers franchise is her \"passion\n",
      "--------------------------------------------------------------------------------\n",
      "\n",
      "📰 Original MultiNews Article #3:\n",
      " GAITHERSBURG, Md. (AP) — A small, private jet has crashed into a house in Maryland's Montgomery County on Monday, killing at least three people on board, authorities said. \n",
      " \n",
      " Preliminary information indicates at least three people were on board and didn't survive the Monday crash into home in Gaithersburg, a Washington, D.C. suburb, said Pete Piringer, a Montgomery County Fire and Rescue spokesman. \n",
      " \n",
      " He said a fourth person may have been aboard. \n",
      " \n",
      " Piringer said the jet crashed into one home ...\n",
      "\n",
      "✍️ PEGASUS Summary #3:\n",
      " A small jet crashed into a house in Maryland's Montgomery County on Monday, killing at least three people on board, authorities said.<n>Marie Gemmell, 36, her three-year-old son Cole and her infant-son Devin were inside their home when a corporate jet crashed into\n",
      "--------------------------------------------------------------------------------\n"
     ]
    }
   ],
   "source": [
    "sample_articles = df_multi[\"document\"][:3]\n",
    "generated_summaries = []\n",
    "\n",
    "for i, article in enumerate(sample_articles):\n",
    "    print(f\"\\n📰 Original MultiNews Article #{i+1}:\\n\", article[:500], \"...\\n\")\n",
    "    \n",
    "    summary = generate_summary(article)\n",
    "    generated_summaries.append(summary)\n",
    "    \n",
    "    print(f\"✍️ PEGASUS Summary #{i+1}:\\n\", summary)\n",
    "    print(\"-\" * 80)\n",
    "\n",
    "# Set predictions and references\n",
    "pegasus_multi_preds = generated_summaries\n",
    "pegasus_multi_refs = df_multi[\"summary\"][:3]\n"
   ]
  },
  {
   "cell_type": "markdown",
   "id": "45d01324",
   "metadata": {},
   "source": [
    " **🔹Step 16: Evaluate with ROUGE + BERTScore**"
   ]
  },
  {
   "cell_type": "code",
   "execution_count": 28,
   "id": "5bc2d769",
   "metadata": {},
   "outputs": [
    {
     "name": "stderr",
     "output_type": "stream",
     "text": [
      "C:\\Users\\SAMIM IMTIAZ\\anaconda3\\Lib\\site-packages\\torch\\nn\\modules\\module.py:1750: FutureWarning: `encoder_attention_mask` is deprecated and will be removed in version 4.55.0 for `RobertaSdpaSelfAttention.forward`.\n",
      "  return forward_call(*args, **kwargs)\n"
     ]
    }
   ],
   "source": [
    "evaluate_metrics(\"MultiNews\", pegasus_multi_preds, pegasus_multi_refs)"
   ]
  },
  {
   "cell_type": "markdown",
   "id": "5c026d47",
   "metadata": {},
   "source": [
    "**🔹Step 17: PEGASUS with CNN,XSUM & MultiNews ROUGE & BERTScore**"
   ]
  },
  {
   "cell_type": "code",
   "execution_count": 29,
   "id": "9a9ec12c",
   "metadata": {},
   "outputs": [
    {
     "name": "stdout",
     "output_type": "stream",
     "text": [
      "✅ PEGASUS Model ROUGE + BERTScore Summary\n",
      "      Dataset  ROUGE-1  ROUGE-2  ROUGE-L  BERTScore\n",
      "CNN DailyMail   0.5595   0.4425   0.5201     0.9102\n",
      "         XSum   0.2265   0.0681   0.1677     0.8609\n",
      "    MultiNews   0.3221   0.1206   0.2295     0.8481\n"
     ]
    }
   ],
   "source": [
    "# Final PEGASUS results summary\n",
    "df_summary = pd.DataFrame(summary_results)\n",
    "print(\"✅ PEGASUS Model ROUGE + BERTScore Summary\")\n",
    "print(df_summary.to_string(index=False))"
   ]
  },
  {
   "cell_type": "markdown",
   "id": "5977bdfb",
   "metadata": {},
   "source": [
    "# 💾 Save the Scores to .CSV Files\n",
    "\n",
    "**So that we can use to comapair models in different NoteBooks**"
   ]
  },
  {
   "cell_type": "code",
   "execution_count": 30,
   "id": "3173f39f",
   "metadata": {},
   "outputs": [],
   "source": [
    "# Save to CSV\n",
    "df_summary[\"Model\"] = \"PEGASUS\"  \n",
    "df_summary.to_csv(\"pegasus_scores.csv\", index=False)"
   ]
  }
 ],
 "metadata": {
  "kernelspec": {
   "display_name": "Python 3",
   "language": "python",
   "name": "python3"
  },
  "language_info": {
   "codemirror_mode": {
    "name": "ipython",
    "version": 3
   },
   "file_extension": ".py",
   "mimetype": "text/x-python",
   "name": "python",
   "nbconvert_exporter": "python",
   "pygments_lexer": "ipython3",
   "version": "3.11.5"
  }
 },
 "nbformat": 4,
 "nbformat_minor": 5
}
