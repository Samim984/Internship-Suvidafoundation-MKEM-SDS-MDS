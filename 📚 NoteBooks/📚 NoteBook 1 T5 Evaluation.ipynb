{
 "cells": [
  {
   "cell_type": "markdown",
   "id": "9ea204ab",
   "metadata": {},
   "source": [
    "# 📚 NoteBook 1 T5 Evaluation"
   ]
  },
  {
   "cell_type": "markdown",
   "id": "83698e81",
   "metadata": {},
   "source": [
    "# 🚀 PROJECT PLAN\n",
    "MKEM Implementation – Transformer-Based Abstractive Text Summarization"
   ]
  },
  {
   "cell_type": "markdown",
   "id": "c6c25646",
   "metadata": {},
   "source": [
    "# 🎯 Problem Statement Recap"
   ]
  },
  {
   "cell_type": "markdown",
   "id": "8a3deb5a",
   "metadata": {},
   "source": [
    "# 🔍 Objective:\n",
    "To build and compare transformer-based summarization models (T5, BART, Pegasus) and then enhance them using MKEM (Multi-Knowledge-Enhanced Model) on curated English news datasets."
   ]
  },
  {
   "cell_type": "markdown",
   "id": "a2265564",
   "metadata": {},
   "source": [
    "# 📌 Phase-1 Objective"
   ]
  },
  {
   "cell_type": "markdown",
   "id": "eb7bb02a",
   "metadata": {},
   "source": [
    "# ✅ Implement the following 3 summarization models:\n",
    "    \n",
    "1. PEGASUS (Google)---NoteBook(2)\n",
    "\n",
    "2. BART (Facebook)---NoteBook(3)\n",
    "\n",
    "3. T5 (Google)---NoteBook(1)"
   ]
  },
  {
   "cell_type": "markdown",
   "id": "ca66d16f",
   "metadata": {},
   "source": [
    "# ✅ Evaluate on 3 benchmark datasets:\n",
    "    \n",
    "1. CNN/DailyMail\n",
    "\n",
    "2. XSum\n",
    "\n",
    "3. MultiNews"
   ]
  },
  {
   "cell_type": "markdown",
   "id": "e6ccde45",
   "metadata": {},
   "source": [
    "# ✅ Evaluation Metrics:\n",
    "    \n",
    "ROUGE-1\n",
    "\n",
    "ROUGE-2\n",
    "\n",
    "ROUGE-L\n",
    "\n",
    "BERTScore"
   ]
  },
  {
   "cell_type": "markdown",
   "id": "139be603",
   "metadata": {},
   "source": [
    "# 📊 Final Output (Per Model × Dataset):\n",
    "    \n",
    "You must submit structured results:\n",
    "\n",
    "Dataset name\n",
    "\n",
    "Model used\n",
    "\n",
    "ROUGE-1, ROUGE-2, ROUGE-L, BERTScore\n",
    "\n",
    "Short analysis/observations"
   ]
  },
  {
   "cell_type": "markdown",
   "id": "12a6942c",
   "metadata": {},
   "source": [
    "**📦 Step 1: Load Datasets (CNN/DailyMail, XSum, MultiNews)**"
   ]
  },
  {
   "cell_type": "code",
   "execution_count": 1,
   "id": "618d0eaa",
   "metadata": {},
   "outputs": [
    {
     "name": "stdout",
     "output_type": "stream",
     "text": [
      "Requirement already satisfied: datasets in c:\\users\\samim imtiaz\\anaconda3\\lib\\site-packages (4.0.0)\n",
      "Requirement already satisfied: filelock in c:\\users\\samim imtiaz\\anaconda3\\lib\\site-packages (from datasets) (3.9.0)\n",
      "Requirement already satisfied: numpy>=1.17 in c:\\users\\samim imtiaz\\anaconda3\\lib\\site-packages (from datasets) (1.26.4)\n",
      "Requirement already satisfied: pyarrow>=15.0.0 in c:\\users\\samim imtiaz\\anaconda3\\lib\\site-packages (from datasets) (21.0.0)\n",
      "Requirement already satisfied: dill<0.3.9,>=0.3.0 in c:\\users\\samim imtiaz\\anaconda3\\lib\\site-packages (from datasets) (0.3.6)\n",
      "Requirement already satisfied: pandas in c:\\users\\samim imtiaz\\anaconda3\\lib\\site-packages (from datasets) (1.5.3)\n",
      "Requirement already satisfied: requests>=2.32.2 in c:\\users\\samim imtiaz\\anaconda3\\lib\\site-packages (from datasets) (2.32.4)\n",
      "Requirement already satisfied: tqdm>=4.66.3 in c:\\users\\samim imtiaz\\anaconda3\\lib\\site-packages (from datasets) (4.67.1)\n",
      "Requirement already satisfied: xxhash in c:\\users\\samim imtiaz\\anaconda3\\lib\\site-packages (from datasets) (2.0.2)\n",
      "Requirement already satisfied: multiprocess<0.70.17 in c:\\users\\samim imtiaz\\anaconda3\\lib\\site-packages (from datasets) (0.70.14)\n",
      "Requirement already satisfied: fsspec<=2025.3.0,>=2023.1.0 in c:\\users\\samim imtiaz\\anaconda3\\lib\\site-packages (from fsspec[http]<=2025.3.0,>=2023.1.0->datasets) (2025.3.0)\n",
      "Requirement already satisfied: huggingface-hub>=0.24.0 in c:\\users\\samim imtiaz\\anaconda3\\lib\\site-packages (from datasets) (0.34.3)\n",
      "Requirement already satisfied: packaging in c:\\users\\samim imtiaz\\anaconda3\\lib\\site-packages (from datasets) (23.1)\n",
      "Requirement already satisfied: pyyaml>=5.1 in c:\\users\\samim imtiaz\\anaconda3\\lib\\site-packages (from datasets) (6.0)\n",
      "Requirement already satisfied: aiohttp!=4.0.0a0,!=4.0.0a1 in c:\\users\\samim imtiaz\\anaconda3\\lib\\site-packages (from fsspec[http]<=2025.3.0,>=2023.1.0->datasets) (3.8.5)\n",
      "Requirement already satisfied: typing-extensions>=3.7.4.3 in c:\\users\\samim imtiaz\\anaconda3\\lib\\site-packages (from huggingface-hub>=0.24.0->datasets) (4.12.2)\n",
      "Requirement already satisfied: charset_normalizer<4,>=2 in c:\\users\\samim imtiaz\\anaconda3\\lib\\site-packages (from requests>=2.32.2->datasets) (2.0.4)\n",
      "Requirement already satisfied: idna<4,>=2.5 in c:\\users\\samim imtiaz\\anaconda3\\lib\\site-packages (from requests>=2.32.2->datasets) (3.4)\n",
      "Requirement already satisfied: urllib3<3,>=1.21.1 in c:\\users\\samim imtiaz\\anaconda3\\lib\\site-packages (from requests>=2.32.2->datasets) (1.26.16)\n",
      "Requirement already satisfied: certifi>=2017.4.17 in c:\\users\\samim imtiaz\\anaconda3\\lib\\site-packages (from requests>=2.32.2->datasets) (2024.12.14)\n",
      "Requirement already satisfied: colorama in c:\\users\\samim imtiaz\\anaconda3\\lib\\site-packages (from tqdm>=4.66.3->datasets) (0.4.6)\n",
      "Requirement already satisfied: python-dateutil>=2.8.1 in c:\\users\\samim imtiaz\\anaconda3\\lib\\site-packages (from pandas->datasets) (2.8.2)\n",
      "Requirement already satisfied: pytz>=2020.1 in c:\\users\\samim imtiaz\\anaconda3\\lib\\site-packages (from pandas->datasets) (2023.3.post1)\n",
      "Requirement already satisfied: attrs>=17.3.0 in c:\\users\\samim imtiaz\\anaconda3\\lib\\site-packages (from aiohttp!=4.0.0a0,!=4.0.0a1->fsspec[http]<=2025.3.0,>=2023.1.0->datasets) (22.1.0)\n",
      "Requirement already satisfied: multidict<7.0,>=4.5 in c:\\users\\samim imtiaz\\anaconda3\\lib\\site-packages (from aiohttp!=4.0.0a0,!=4.0.0a1->fsspec[http]<=2025.3.0,>=2023.1.0->datasets) (6.0.2)\n",
      "Requirement already satisfied: async-timeout<5.0,>=4.0.0a3 in c:\\users\\samim imtiaz\\anaconda3\\lib\\site-packages (from aiohttp!=4.0.0a0,!=4.0.0a1->fsspec[http]<=2025.3.0,>=2023.1.0->datasets) (4.0.2)\n"
     ]
    },
    {
     "name": "stderr",
     "output_type": "stream",
     "text": [
      "\n",
      "[notice] A new release of pip is available: 24.3.1 -> 25.2\n",
      "[notice] To update, run: python.exe -m pip install --upgrade pip\n"
     ]
    },
    {
     "name": "stdout",
     "output_type": "stream",
     "text": [
      "Requirement already satisfied: yarl<2.0,>=1.0 in c:\\users\\samim imtiaz\\anaconda3\\lib\\site-packages (from aiohttp!=4.0.0a0,!=4.0.0a1->fsspec[http]<=2025.3.0,>=2023.1.0->datasets) (1.8.1)\n",
      "Requirement already satisfied: frozenlist>=1.1.1 in c:\\users\\samim imtiaz\\anaconda3\\lib\\site-packages (from aiohttp!=4.0.0a0,!=4.0.0a1->fsspec[http]<=2025.3.0,>=2023.1.0->datasets) (1.3.3)\n",
      "Requirement already satisfied: aiosignal>=1.1.2 in c:\\users\\samim imtiaz\\anaconda3\\lib\\site-packages (from aiohttp!=4.0.0a0,!=4.0.0a1->fsspec[http]<=2025.3.0,>=2023.1.0->datasets) (1.2.0)\n",
      "Requirement already satisfied: six>=1.5 in c:\\users\\samim imtiaz\\anaconda3\\lib\\site-packages (from python-dateutil>=2.8.1->pandas->datasets) (1.16.0)\n"
     ]
    }
   ],
   "source": [
    "!pip install datasets"
   ]
  },
  {
   "cell_type": "markdown",
   "id": "5f396dab",
   "metadata": {},
   "source": [
    "**🔹 1. Setup**"
   ]
  },
  {
   "cell_type": "code",
   "execution_count": 2,
   "id": "08c59511",
   "metadata": {},
   "outputs": [
    {
     "name": "stdout",
     "output_type": "stream",
     "text": [
      "Requirement already satisfied: datasets in c:\\users\\samim imtiaz\\anaconda3\\lib\\site-packages (4.0.0)\n",
      "Requirement already satisfied: pandas in c:\\users\\samim imtiaz\\anaconda3\\lib\\site-packages (1.5.3)\n",
      "Requirement already satisfied: filelock in c:\\users\\samim imtiaz\\anaconda3\\lib\\site-packages (from datasets) (3.9.0)\n",
      "Requirement already satisfied: numpy>=1.17 in c:\\users\\samim imtiaz\\anaconda3\\lib\\site-packages (from datasets) (1.26.4)\n",
      "Requirement already satisfied: pyarrow>=15.0.0 in c:\\users\\samim imtiaz\\anaconda3\\lib\\site-packages (from datasets) (21.0.0)\n",
      "Requirement already satisfied: dill<0.3.9,>=0.3.0 in c:\\users\\samim imtiaz\\anaconda3\\lib\\site-packages (from datasets) (0.3.6)\n",
      "Requirement already satisfied: requests>=2.32.2 in c:\\users\\samim imtiaz\\anaconda3\\lib\\site-packages (from datasets) (2.32.4)\n",
      "Requirement already satisfied: tqdm>=4.66.3 in c:\\users\\samim imtiaz\\anaconda3\\lib\\site-packages (from datasets) (4.67.1)\n",
      "Requirement already satisfied: xxhash in c:\\users\\samim imtiaz\\anaconda3\\lib\\site-packages (from datasets) (2.0.2)\n",
      "Requirement already satisfied: multiprocess<0.70.17 in c:\\users\\samim imtiaz\\anaconda3\\lib\\site-packages (from datasets) (0.70.14)\n",
      "Requirement already satisfied: fsspec<=2025.3.0,>=2023.1.0 in c:\\users\\samim imtiaz\\anaconda3\\lib\\site-packages (from fsspec[http]<=2025.3.0,>=2023.1.0->datasets) (2025.3.0)\n",
      "Requirement already satisfied: huggingface-hub>=0.24.0 in c:\\users\\samim imtiaz\\anaconda3\\lib\\site-packages (from datasets) (0.34.3)\n",
      "Requirement already satisfied: packaging in c:\\users\\samim imtiaz\\anaconda3\\lib\\site-packages (from datasets) (23.1)\n",
      "Requirement already satisfied: pyyaml>=5.1 in c:\\users\\samim imtiaz\\anaconda3\\lib\\site-packages (from datasets) (6.0)\n",
      "Requirement already satisfied: python-dateutil>=2.8.1 in c:\\users\\samim imtiaz\\anaconda3\\lib\\site-packages (from pandas) (2.8.2)\n",
      "Requirement already satisfied: pytz>=2020.1 in c:\\users\\samim imtiaz\\anaconda3\\lib\\site-packages (from pandas) (2023.3.post1)\n",
      "Requirement already satisfied: aiohttp!=4.0.0a0,!=4.0.0a1 in c:\\users\\samim imtiaz\\anaconda3\\lib\\site-packages (from fsspec[http]<=2025.3.0,>=2023.1.0->datasets) (3.8.5)\n",
      "Requirement already satisfied: typing-extensions>=3.7.4.3 in c:\\users\\samim imtiaz\\anaconda3\\lib\\site-packages (from huggingface-hub>=0.24.0->datasets) (4.12.2)\n",
      "Requirement already satisfied: six>=1.5 in c:\\users\\samim imtiaz\\anaconda3\\lib\\site-packages (from python-dateutil>=2.8.1->pandas) (1.16.0)\n",
      "Requirement already satisfied: charset_normalizer<4,>=2 in c:\\users\\samim imtiaz\\anaconda3\\lib\\site-packages (from requests>=2.32.2->datasets) (2.0.4)\n",
      "Requirement already satisfied: idna<4,>=2.5 in c:\\users\\samim imtiaz\\anaconda3\\lib\\site-packages (from requests>=2.32.2->datasets) (3.4)\n",
      "Requirement already satisfied: urllib3<3,>=1.21.1 in c:\\users\\samim imtiaz\\anaconda3\\lib\\site-packages (from requests>=2.32.2->datasets) (1.26.16)\n",
      "Requirement already satisfied: certifi>=2017.4.17 in c:\\users\\samim imtiaz\\anaconda3\\lib\\site-packages (from requests>=2.32.2->datasets) (2024.12.14)\n",
      "Requirement already satisfied: colorama in c:\\users\\samim imtiaz\\anaconda3\\lib\\site-packages (from tqdm>=4.66.3->datasets) (0.4.6)\n",
      "Requirement already satisfied: attrs>=17.3.0 in c:\\users\\samim imtiaz\\anaconda3\\lib\\site-packages (from aiohttp!=4.0.0a0,!=4.0.0a1->fsspec[http]<=2025.3.0,>=2023.1.0->datasets) (22.1.0)\n",
      "Requirement already satisfied: multidict<7.0,>=4.5 in c:\\users\\samim imtiaz\\anaconda3\\lib\\site-packages (from aiohttp!=4.0.0a0,!=4.0.0a1->fsspec[http]<=2025.3.0,>=2023.1.0->datasets) (6.0.2)\n",
      "Requirement already satisfied: async-timeout<5.0,>=4.0.0a3 in c:\\users\\samim imtiaz\\anaconda3\\lib\\site-packages (from aiohttp!=4.0.0a0,!=4.0.0a1->fsspec[http]<=2025.3.0,>=2023.1.0->datasets) (4.0.2)\n",
      "Requirement already satisfied: yarl<2.0,>=1.0 in c:\\users\\samim imtiaz\\anaconda3\\lib\\site-packages (from aiohttp!=4.0.0a0,!=4.0.0a1->fsspec[http]<=2025.3.0,>=2023.1.0->datasets) (1.8.1)\n",
      "Requirement already satisfied: frozenlist>=1.1.1 in c:\\users\\samim imtiaz\\anaconda3\\lib\\site-packages (from aiohttp!=4.0.0a0,!=4.0.0a1->fsspec[http]<=2025.3.0,>=2023.1.0->datasets) (1.3.3)\n",
      "Requirement already satisfied: aiosignal>=1.1.2 in c:\\users\\samim imtiaz\\anaconda3\\lib\\site-packages (from aiohttp!=4.0.0a0,!=4.0.0a1->fsspec[http]<=2025.3.0,>=2023.1.0->datasets) (1.2.0)\n"
     ]
    },
    {
     "name": "stderr",
     "output_type": "stream",
     "text": [
      "\n",
      "[notice] A new release of pip is available: 24.3.1 -> 25.2\n",
      "[notice] To update, run: python.exe -m pip install --upgrade pip\n"
     ]
    }
   ],
   "source": [
    "!pip install datasets pandas"
   ]
  },
  {
   "cell_type": "code",
   "execution_count": 3,
   "id": "9dab83f2",
   "metadata": {
    "scrolled": false
   },
   "outputs": [
    {
     "name": "stdout",
     "output_type": "stream",
     "text": [
      "Requirement already satisfied: evaluate in c:\\users\\samim imtiaz\\anaconda3\\lib\\site-packages (0.4.5)\n",
      "Requirement already satisfied: datasets in c:\\users\\samim imtiaz\\anaconda3\\lib\\site-packages (4.0.0)\n",
      "Requirement already satisfied: numpy>=1.17 in c:\\users\\samim imtiaz\\anaconda3\\lib\\site-packages (from evaluate) (1.26.4)\n",
      "Requirement already satisfied: dill in c:\\users\\samim imtiaz\\anaconda3\\lib\\site-packages (from evaluate) (0.3.6)\n",
      "Requirement already satisfied: pandas in c:\\users\\samim imtiaz\\anaconda3\\lib\\site-packages (from evaluate) (1.5.3)\n",
      "Requirement already satisfied: requests>=2.19.0 in c:\\users\\samim imtiaz\\anaconda3\\lib\\site-packages (from evaluate) (2.32.4)\n",
      "Requirement already satisfied: tqdm>=4.62.1 in c:\\users\\samim imtiaz\\anaconda3\\lib\\site-packages (from evaluate) (4.67.1)\n",
      "Requirement already satisfied: xxhash in c:\\users\\samim imtiaz\\anaconda3\\lib\\site-packages (from evaluate) (2.0.2)\n"
     ]
    },
    {
     "name": "stderr",
     "output_type": "stream",
     "text": [
      "\n",
      "[notice] A new release of pip is available: 24.3.1 -> 25.2\n",
      "[notice] To update, run: python.exe -m pip install --upgrade pip\n"
     ]
    },
    {
     "name": "stdout",
     "output_type": "stream",
     "text": [
      "Requirement already satisfied: multiprocess in c:\\users\\samim imtiaz\\anaconda3\\lib\\site-packages (from evaluate) (0.70.14)\n",
      "Requirement already satisfied: fsspec>=2021.05.0 in c:\\users\\samim imtiaz\\anaconda3\\lib\\site-packages (from fsspec[http]>=2021.05.0->evaluate) (2025.3.0)\n",
      "Requirement already satisfied: huggingface-hub>=0.7.0 in c:\\users\\samim imtiaz\\anaconda3\\lib\\site-packages (from evaluate) (0.34.3)\n",
      "Requirement already satisfied: packaging in c:\\users\\samim imtiaz\\anaconda3\\lib\\site-packages (from evaluate) (23.1)\n",
      "Requirement already satisfied: filelock in c:\\users\\samim imtiaz\\anaconda3\\lib\\site-packages (from datasets) (3.9.0)\n",
      "Requirement already satisfied: pyarrow>=15.0.0 in c:\\users\\samim imtiaz\\anaconda3\\lib\\site-packages (from datasets) (21.0.0)\n",
      "Requirement already satisfied: pyyaml>=5.1 in c:\\users\\samim imtiaz\\anaconda3\\lib\\site-packages (from datasets) (6.0)\n",
      "Requirement already satisfied: aiohttp!=4.0.0a0,!=4.0.0a1 in c:\\users\\samim imtiaz\\anaconda3\\lib\\site-packages (from fsspec[http]>=2021.05.0->evaluate) (3.8.5)\n",
      "Requirement already satisfied: typing-extensions>=3.7.4.3 in c:\\users\\samim imtiaz\\anaconda3\\lib\\site-packages (from huggingface-hub>=0.7.0->evaluate) (4.12.2)\n",
      "Requirement already satisfied: charset_normalizer<4,>=2 in c:\\users\\samim imtiaz\\anaconda3\\lib\\site-packages (from requests>=2.19.0->evaluate) (2.0.4)\n",
      "Requirement already satisfied: idna<4,>=2.5 in c:\\users\\samim imtiaz\\anaconda3\\lib\\site-packages (from requests>=2.19.0->evaluate) (3.4)\n",
      "Requirement already satisfied: urllib3<3,>=1.21.1 in c:\\users\\samim imtiaz\\anaconda3\\lib\\site-packages (from requests>=2.19.0->evaluate) (1.26.16)\n",
      "Requirement already satisfied: certifi>=2017.4.17 in c:\\users\\samim imtiaz\\anaconda3\\lib\\site-packages (from requests>=2.19.0->evaluate) (2024.12.14)\n",
      "Requirement already satisfied: colorama in c:\\users\\samim imtiaz\\anaconda3\\lib\\site-packages (from tqdm>=4.62.1->evaluate) (0.4.6)\n",
      "Requirement already satisfied: python-dateutil>=2.8.1 in c:\\users\\samim imtiaz\\anaconda3\\lib\\site-packages (from pandas->evaluate) (2.8.2)\n",
      "Requirement already satisfied: pytz>=2020.1 in c:\\users\\samim imtiaz\\anaconda3\\lib\\site-packages (from pandas->evaluate) (2023.3.post1)\n",
      "Requirement already satisfied: attrs>=17.3.0 in c:\\users\\samim imtiaz\\anaconda3\\lib\\site-packages (from aiohttp!=4.0.0a0,!=4.0.0a1->fsspec[http]>=2021.05.0->evaluate) (22.1.0)\n",
      "Requirement already satisfied: multidict<7.0,>=4.5 in c:\\users\\samim imtiaz\\anaconda3\\lib\\site-packages (from aiohttp!=4.0.0a0,!=4.0.0a1->fsspec[http]>=2021.05.0->evaluate) (6.0.2)\n",
      "Requirement already satisfied: async-timeout<5.0,>=4.0.0a3 in c:\\users\\samim imtiaz\\anaconda3\\lib\\site-packages (from aiohttp!=4.0.0a0,!=4.0.0a1->fsspec[http]>=2021.05.0->evaluate) (4.0.2)\n",
      "Requirement already satisfied: yarl<2.0,>=1.0 in c:\\users\\samim imtiaz\\anaconda3\\lib\\site-packages (from aiohttp!=4.0.0a0,!=4.0.0a1->fsspec[http]>=2021.05.0->evaluate) (1.8.1)"
     ]
    }
   ],
   "source": [
    "!pip install --upgrade evaluate datasets"
   ]
  },
  {
   "cell_type": "markdown",
   "id": "1a3ef1ef",
   "metadata": {},
   "source": [
    "**🔹 2. Import Libraries**"
   ]
  },
  {
   "cell_type": "code",
   "execution_count": 4,
   "id": "906fd0fd",
   "metadata": {},
   "outputs": [
    {
     "name": "stdout",
     "output_type": "stream",
     "text": [
      "\n",
      "Requirement already satisfied: frozenlist>=1.1.1 in c:\\users\\samim imtiaz\\anaconda3\\lib\\site-packages (from aiohttp!=4.0.0a0,!=4.0.0a1->fsspec[http]>=2021.05.0->evaluate) (1.3.3)\n",
      "Requirement already satisfied: aiosignal>=1.1.2 in c:\\users\\samim imtiaz\\anaconda3\\lib\\site-packages (from aiohttp!=4.0.0a0,!=4.0.0a1->fsspec[http]>=2021.05.0->evaluate) (1.2.0)\n",
      "Requirement already satisfied: six>=1.5 in c:\\users\\samim imtiaz\\anaconda3\\lib\\site-packages (from python-dateutil>=2.8.1->pandas->evaluate) (1.16.0)\n"
     ]
    }
   ],
   "source": [
    "from datasets import load_dataset\n",
    "import pandas as pd"
   ]
  },
  {
   "cell_type": "markdown",
   "id": "b43411d0",
   "metadata": {},
   "source": [
    "**🔹 3. Load Datasets with Verification Fix**"
   ]
  },
  {
   "cell_type": "code",
   "execution_count": 39,
   "id": "aad83a7a",
   "metadata": {},
   "outputs": [
    {
     "name": "stderr",
     "output_type": "stream",
     "text": [
      "Using the latest cached version of the dataset since xsum couldn't be found on the Hugging Face Hub\n",
      "WARNING:datasets.load:Using the latest cached version of the dataset since xsum couldn't be found on the Hugging Face Hub\n",
      "Found the latest cached dataset configuration 'default' at C:\\Users\\SAMIM IMTIAZ\\.cache\\huggingface\\datasets\\xsum\\default\\1.2.0\\082863bf4754ee058a5b6f6525d0cb2b18eadb62c7b370b095d1364050a52b71 (last modified on Sun Aug  3 14:51:50 2025).\n",
      "WARNING:datasets.packaged_modules.cache.cache:Found the latest cached dataset configuration 'default' at C:\\Users\\SAMIM IMTIAZ\\.cache\\huggingface\\datasets\\xsum\\default\\1.2.0\\082863bf4754ee058a5b6f6525d0cb2b18eadb62c7b370b095d1364050a52b71 (last modified on Sun Aug  3 14:51:50 2025).\n",
      "Using the latest cached version of the dataset since multi_news couldn't be found on the Hugging Face Hub\n",
      "WARNING:datasets.load:Using the latest cached version of the dataset since multi_news couldn't be found on the Hugging Face Hub\n",
      "Found the latest cached dataset configuration 'default' at C:\\Users\\SAMIM IMTIAZ\\.cache\\huggingface\\datasets\\multi_news\\default\\1.0.0\\2f1f69a2bedc8ad1c5d8ae5148e4755ee7095f465c1c01ae8f85454342065a72 (last modified on Sun Aug  3 14:55:04 2025).\n",
      "WARNING:datasets.packaged_modules.cache.cache:Found the latest cached dataset configuration 'default' at C:\\Users\\SAMIM IMTIAZ\\.cache\\huggingface\\datasets\\multi_news\\default\\1.0.0\\2f1f69a2bedc8ad1c5d8ae5148e4755ee7095f465c1c01ae8f85454342065a72 (last modified on Sun Aug  3 14:55:04 2025).\n"
     ]
    }
   ],
   "source": [
    "# ✅ Load datasets properly\n",
    "from datasets import load_dataset\n",
    "\n",
    "# CNN/DailyMail (long-form summaries)\n",
    "cnn_dailymail = load_dataset(\"cnn_dailymail\", \"3.0.0\")\n",
    "\n",
    "# XSum (extreme summarization)\n",
    "xsum = load_dataset(\"xsum\")\n",
    "\n",
    "# MultiNews (multi-document summarization)\n",
    "multi_news = load_dataset(\"multi_news\")"
   ]
  },
  {
   "cell_type": "code",
   "execution_count": 40,
   "id": "7cf2a0ad",
   "metadata": {},
   "outputs": [
    {
     "name": "stdout",
     "output_type": "stream",
     "text": [
      "📊 CNN/DailyMail Test Set: (11490, 3)\n",
      "📊 XSum Test Set: (11334, 3)\n",
      "📊 MultiNews Test Set: (5622, 2)\n"
     ]
    }
   ],
   "source": [
    "# ✅ Show original dataset sizes (test set only or all splits as needed)\n",
    "print(\"📊 CNN/DailyMail Test Set:\", cnn_dailymail['test'].shape)\n",
    "print(\"📊 XSum Test Set:\", xsum['test'].shape)\n",
    "print(\"📊 MultiNews Test Set:\", multi_news['test'].shape)"
   ]
  },
  {
   "cell_type": "markdown",
   "id": "cce47d34",
   "metadata": {},
   "source": [
    "**🔹 4. Preview Sample Records**"
   ]
  },
  {
   "cell_type": "code",
   "execution_count": 6,
   "id": "b7312e18",
   "metadata": {},
   "outputs": [
    {
     "name": "stdout",
     "output_type": "stream",
     "text": [
      "🔹 CNN/DailyMail Example:\n",
      " {'article': 'LONDON, England (Reuters) -- Harry Potter star Daniel Radcliffe gains access to a reported £20 million ($41.1 million) fortune as he turns 18 on Monday, but he insists the money won\\'t cast a spell on him. Daniel Radcliffe as Harry Potter in \"Harry Potter and the Order of the Phoenix\" To the disappointment of gossip columnists around the world, the young actor says he has no plans to fritter his cash away on fast cars, drink and celebrity parties. \"I don\\'t plan to be one of those people who, as soon as they turn 18, suddenly buy themselves a massive sports car collection or something similar,\" he told an Australian interviewer earlier this month. \"I don\\'t think I\\'ll be particularly extravagant. \"The things I like buying are things that cost about 10 pounds -- books and CDs and DVDs.\" At 18, Radcliffe will be able to gamble in a casino, buy a drink in a pub or see the horror film \"Hostel: Part II,\" currently six places below his number one movie on the UK box office chart. Details of how he\\'ll mark his landmark birthday are under wraps. His agent and publicist had no comment on his plans. \"I\\'ll definitely have some sort of party,\" he said in an interview. \"Hopefully none of you will be reading about it.\" Radcliffe\\'s earnings from the first five Potter films have been held in a trust fund which he has not been able to touch. Despite his growing fame and riches, the actor says he is keeping his feet firmly on the ground. \"People are always looking to say \\'kid star goes off the rails,\\'\" he told reporters last month. \"But I try very hard not to go that way because it would be too easy for them.\" His latest outing as the boy wizard in \"Harry Potter and the Order of the Phoenix\" is breaking records on both sides of the Atlantic and he will reprise the role in the last two films.  Watch I-Reporter give her review of Potter\\'s latest » . There is life beyond Potter, however. The Londoner has filmed a TV movie called \"My Boy Jack,\" about author Rudyard Kipling and his son, due for release later this year. He will also appear in \"December Boys,\" an Australian film about four boys who escape an orphanage. Earlier this year, he made his stage debut playing a tortured teenager in Peter Shaffer\\'s \"Equus.\" Meanwhile, he is braced for even closer media scrutiny now that he\\'s legally an adult: \"I just think I\\'m going to be more sort of fair game,\" he told Reuters. E-mail to a friend . Copyright 2007 Reuters. All rights reserved.This material may not be published, broadcast, rewritten, or redistributed.', 'highlights': \"Harry Potter star Daniel Radcliffe gets £20M fortune as he turns 18 Monday .\\nYoung actor says he has no plans to fritter his cash away .\\nRadcliffe's earnings from first five Potter films have been held in trust fund .\", 'id': '42c027e4ff9730fbb3de84c1af0d2c506e41c3e4'}\n",
      "🔹 XSum Example:\n",
      " {'document': 'The full cost of damage in Newton Stewart, one of the areas worst affected, is still being assessed.\\nRepair work is ongoing in Hawick and many roads in Peeblesshire remain badly affected by standing water.\\nTrains on the west coast mainline face disruption due to damage at the Lamington Viaduct.\\nMany businesses and householders were affected by flooding in Newton Stewart after the River Cree overflowed into the town.\\nFirst Minister Nicola Sturgeon visited the area to inspect the damage.\\nThe waters breached a retaining wall, flooding many commercial properties on Victoria Street - the main shopping thoroughfare.\\nJeanette Tate, who owns the Cinnamon Cafe which was badly affected, said she could not fault the multi-agency response once the flood hit.\\nHowever, she said more preventative work could have been carried out to ensure the retaining wall did not fail.\\n\"It is difficult but I do think there is so much publicity for Dumfries and the Nith - and I totally appreciate that - but it is almost like we\\'re neglected or forgotten,\" she said.\\n\"That may not be true but it is perhaps my perspective over the last few days.\\n\"Why were you not ready to help us a bit more when the warning and the alarm alerts had gone out?\"\\nMeanwhile, a flood alert remains in place across the Borders because of the constant rain.\\nPeebles was badly hit by problems, sparking calls to introduce more defences in the area.\\nScottish Borders Council has put a list on its website of the roads worst affected and drivers have been urged not to ignore closure signs.\\nThe Labour Party\\'s deputy Scottish leader Alex Rowley was in Hawick on Monday to see the situation first hand.\\nHe said it was important to get the flood protection plan right but backed calls to speed up the process.\\n\"I was quite taken aback by the amount of damage that has been done,\" he said.\\n\"Obviously it is heart-breaking for people who have been forced out of their homes and the impact on businesses.\"\\nHe said it was important that \"immediate steps\" were taken to protect the areas most vulnerable and a clear timetable put in place for flood prevention plans.\\nHave you been affected by flooding in Dumfries and Galloway or the Borders? Tell us about your experience of the situation and how it was handled. Email us on selkirk.news@bbc.co.uk or dumfries@bbc.co.uk.', 'summary': 'Clean-up operations are continuing across the Scottish Borders and Dumfries and Galloway after flooding caused by Storm Frank.', 'id': '35232142'}\n",
      "🔹 MultiNews Example:\n",
      " {'document': 'National Archives \\n \\n Yes, it’s that time again, folks. It’s the first Friday of the month, when for one ever-so-brief moment the interests of Wall Street, Washington and Main Street are all aligned on one thing: Jobs. \\n \\n A fresh update on the U.S. employment situation for January hits the wires at 8:30 a.m. New York time offering one of the most important snapshots on how the economy fared during the previous month. Expectations are for 203,000 new jobs to be created, according to economists polled by Dow Jones Newswires, compared to 227,000 jobs added in February. The unemployment rate is expected to hold steady at 8.3%. \\n \\n Here at MarketBeat HQ, we’ll be offering color commentary before and after the data crosses the wires. Feel free to weigh-in yourself, via the comments section. And while you’re here, why don’t you sign up to follow us on Twitter. \\n \\n Enjoy the show. ||||| Employers pulled back sharply on hiring last month, a reminder that the U.S. economy may not be growing fast enough to sustain robust job growth. The unemployment rate dipped, but mostly because more Americans stopped looking for work. \\n \\n The Labor Department says the economy added 120,000 jobs in March, down from more than 200,000 in each of the previous three months. \\n \\n The unemployment rate fell to 8.2 percent, the lowest since January 2009. The rate dropped because fewer people searched for jobs. The official unemployment tally only includes those seeking work. \\n \\n The economy has added 858,000 jobs since December _ the best four months of hiring in two years. But Federal Reserve Chairman Ben Bernanke has cautioned that the current hiring pace is unlikely to continue without more consumer spending.', 'summary': '– The unemployment rate dropped to 8.2% last month, but the economy only added 120,000 jobs, when 203,000 new jobs had been predicted, according to today\\'s jobs report. Reaction on the Wall Street Journal\\'s MarketBeat Blog was swift: \"Woah!!! Bad number.\" The unemployment rate, however, is better news; it had been expected to hold steady at 8.3%. But the AP notes that the dip is mostly due to more Americans giving up on seeking employment.'}\n"
     ]
    }
   ],
   "source": [
    "print(\"🔹 CNN/DailyMail Example:\\n\", cnn_dailymail[\"train\"][0])\n",
    "print(\"🔹 XSum Example:\\n\", xsum[\"train\"][0])\n",
    "print(\"🔹 MultiNews Example:\\n\", multi_news[\"train\"][0])"
   ]
  },
  {
   "cell_type": "markdown",
   "id": "fc2f8aca",
   "metadata": {},
   "source": [
    "**🔹 5. Convert to Pandas DataFrame **"
   ]
  },
  {
   "cell_type": "code",
   "execution_count": 7,
   "id": "fe94c365",
   "metadata": {},
   "outputs": [],
   "source": [
    "# Convert first 5 records from each dataset into a DataFrame\n",
    "df_cnn = pd.DataFrame(cnn_dailymail[\"train\"][:5])\n",
    "df_xsum = pd.DataFrame(xsum[\"train\"][:5])\n",
    "df_multi = pd.DataFrame(multi_news[\"train\"][:5])"
   ]
  },
  {
   "cell_type": "code",
   "execution_count": 8,
   "id": "7472faf7",
   "metadata": {},
   "outputs": [
    {
     "data": {
      "text/html": [
       "<div>\n",
       "<style scoped>\n",
       "    .dataframe tbody tr th:only-of-type {\n",
       "        vertical-align: middle;\n",
       "    }\n",
       "\n",
       "    .dataframe tbody tr th {\n",
       "        vertical-align: top;\n",
       "    }\n",
       "\n",
       "    .dataframe thead th {\n",
       "        text-align: right;\n",
       "    }\n",
       "</style>\n",
       "<table border=\"1\" class=\"dataframe\">\n",
       "  <thead>\n",
       "    <tr style=\"text-align: right;\">\n",
       "      <th></th>\n",
       "      <th>article</th>\n",
       "      <th>highlights</th>\n",
       "      <th>id</th>\n",
       "    </tr>\n",
       "  </thead>\n",
       "  <tbody>\n",
       "    <tr>\n",
       "      <th>0</th>\n",
       "      <td>LONDON, England (Reuters) -- Harry Potter star...</td>\n",
       "      <td>Harry Potter star Daniel Radcliffe gets £20M f...</td>\n",
       "      <td>42c027e4ff9730fbb3de84c1af0d2c506e41c3e4</td>\n",
       "    </tr>\n",
       "    <tr>\n",
       "      <th>1</th>\n",
       "      <td>Editor's note: In our Behind the Scenes series...</td>\n",
       "      <td>Mentally ill inmates in Miami are housed on th...</td>\n",
       "      <td>ee8871b15c50d0db17b0179a6d2beab35065f1e9</td>\n",
       "    </tr>\n",
       "    <tr>\n",
       "      <th>2</th>\n",
       "      <td>MINNEAPOLIS, Minnesota (CNN) -- Drivers who we...</td>\n",
       "      <td>NEW: \"I thought I was going to die,\" driver sa...</td>\n",
       "      <td>06352019a19ae31e527f37f7571c6dd7f0c5da37</td>\n",
       "    </tr>\n",
       "    <tr>\n",
       "      <th>3</th>\n",
       "      <td>WASHINGTON (CNN) -- Doctors removed five small...</td>\n",
       "      <td>Five small polyps found during procedure; \"non...</td>\n",
       "      <td>24521a2abb2e1f5e34e6824e0f9e56904a2b0e88</td>\n",
       "    </tr>\n",
       "    <tr>\n",
       "      <th>4</th>\n",
       "      <td>(CNN)  -- The National Football League has ind...</td>\n",
       "      <td>NEW: NFL chief, Atlanta Falcons owner critical...</td>\n",
       "      <td>7fe70cc8b12fab2d0a258fababf7d9c6b5e1262a</td>\n",
       "    </tr>\n",
       "  </tbody>\n",
       "</table>\n",
       "</div>"
      ],
      "text/plain": [
       "                                             article  \\\n",
       "0  LONDON, England (Reuters) -- Harry Potter star...   \n",
       "1  Editor's note: In our Behind the Scenes series...   \n",
       "2  MINNEAPOLIS, Minnesota (CNN) -- Drivers who we...   \n",
       "3  WASHINGTON (CNN) -- Doctors removed five small...   \n",
       "4  (CNN)  -- The National Football League has ind...   \n",
       "\n",
       "                                          highlights  \\\n",
       "0  Harry Potter star Daniel Radcliffe gets £20M f...   \n",
       "1  Mentally ill inmates in Miami are housed on th...   \n",
       "2  NEW: \"I thought I was going to die,\" driver sa...   \n",
       "3  Five small polyps found during procedure; \"non...   \n",
       "4  NEW: NFL chief, Atlanta Falcons owner critical...   \n",
       "\n",
       "                                         id  \n",
       "0  42c027e4ff9730fbb3de84c1af0d2c506e41c3e4  \n",
       "1  ee8871b15c50d0db17b0179a6d2beab35065f1e9  \n",
       "2  06352019a19ae31e527f37f7571c6dd7f0c5da37  \n",
       "3  24521a2abb2e1f5e34e6824e0f9e56904a2b0e88  \n",
       "4  7fe70cc8b12fab2d0a258fababf7d9c6b5e1262a  "
      ]
     },
     "execution_count": 8,
     "metadata": {},
     "output_type": "execute_result"
    }
   ],
   "source": [
    "df_cnn.head()"
   ]
  },
  {
   "cell_type": "code",
   "execution_count": 9,
   "id": "62ae8c60",
   "metadata": {},
   "outputs": [
    {
     "data": {
      "text/html": [
       "<div>\n",
       "<style scoped>\n",
       "    .dataframe tbody tr th:only-of-type {\n",
       "        vertical-align: middle;\n",
       "    }\n",
       "\n",
       "    .dataframe tbody tr th {\n",
       "        vertical-align: top;\n",
       "    }\n",
       "\n",
       "    .dataframe thead th {\n",
       "        text-align: right;\n",
       "    }\n",
       "</style>\n",
       "<table border=\"1\" class=\"dataframe\">\n",
       "  <thead>\n",
       "    <tr style=\"text-align: right;\">\n",
       "      <th></th>\n",
       "      <th>document</th>\n",
       "      <th>summary</th>\n",
       "      <th>id</th>\n",
       "    </tr>\n",
       "  </thead>\n",
       "  <tbody>\n",
       "    <tr>\n",
       "      <th>0</th>\n",
       "      <td>The full cost of damage in Newton Stewart, one...</td>\n",
       "      <td>Clean-up operations are continuing across the ...</td>\n",
       "      <td>35232142</td>\n",
       "    </tr>\n",
       "    <tr>\n",
       "      <th>1</th>\n",
       "      <td>A fire alarm went off at the Holiday Inn in Ho...</td>\n",
       "      <td>Two tourist buses have been destroyed by fire ...</td>\n",
       "      <td>40143035</td>\n",
       "    </tr>\n",
       "    <tr>\n",
       "      <th>2</th>\n",
       "      <td>Ferrari appeared in a position to challenge un...</td>\n",
       "      <td>Lewis Hamilton stormed to pole position at the...</td>\n",
       "      <td>35951548</td>\n",
       "    </tr>\n",
       "    <tr>\n",
       "      <th>3</th>\n",
       "      <td>John Edward Bates, formerly of Spalding, Linco...</td>\n",
       "      <td>A former Lincolnshire Police officer carried o...</td>\n",
       "      <td>36266422</td>\n",
       "    </tr>\n",
       "    <tr>\n",
       "      <th>4</th>\n",
       "      <td>Patients and staff were evacuated from Cerahpa...</td>\n",
       "      <td>An armed man who locked himself into a room at...</td>\n",
       "      <td>38826984</td>\n",
       "    </tr>\n",
       "  </tbody>\n",
       "</table>\n",
       "</div>"
      ],
      "text/plain": [
       "                                            document  \\\n",
       "0  The full cost of damage in Newton Stewart, one...   \n",
       "1  A fire alarm went off at the Holiday Inn in Ho...   \n",
       "2  Ferrari appeared in a position to challenge un...   \n",
       "3  John Edward Bates, formerly of Spalding, Linco...   \n",
       "4  Patients and staff were evacuated from Cerahpa...   \n",
       "\n",
       "                                             summary        id  \n",
       "0  Clean-up operations are continuing across the ...  35232142  \n",
       "1  Two tourist buses have been destroyed by fire ...  40143035  \n",
       "2  Lewis Hamilton stormed to pole position at the...  35951548  \n",
       "3  A former Lincolnshire Police officer carried o...  36266422  \n",
       "4  An armed man who locked himself into a room at...  38826984  "
      ]
     },
     "execution_count": 9,
     "metadata": {},
     "output_type": "execute_result"
    }
   ],
   "source": [
    "df_xsum.head()"
   ]
  },
  {
   "cell_type": "code",
   "execution_count": 10,
   "id": "ee664cc5",
   "metadata": {},
   "outputs": [
    {
     "data": {
      "text/html": [
       "<div>\n",
       "<style scoped>\n",
       "    .dataframe tbody tr th:only-of-type {\n",
       "        vertical-align: middle;\n",
       "    }\n",
       "\n",
       "    .dataframe tbody tr th {\n",
       "        vertical-align: top;\n",
       "    }\n",
       "\n",
       "    .dataframe thead th {\n",
       "        text-align: right;\n",
       "    }\n",
       "</style>\n",
       "<table border=\"1\" class=\"dataframe\">\n",
       "  <thead>\n",
       "    <tr style=\"text-align: right;\">\n",
       "      <th></th>\n",
       "      <th>document</th>\n",
       "      <th>summary</th>\n",
       "    </tr>\n",
       "  </thead>\n",
       "  <tbody>\n",
       "    <tr>\n",
       "      <th>0</th>\n",
       "      <td>National Archives \\n \\n Yes, it’s that time ag...</td>\n",
       "      <td>– The unemployment rate dropped to 8.2% last m...</td>\n",
       "    </tr>\n",
       "    <tr>\n",
       "      <th>1</th>\n",
       "      <td>LOS ANGELES (AP) — In her first interview sinc...</td>\n",
       "      <td>– Shelly Sterling plans \"eventually\" to divorc...</td>\n",
       "    </tr>\n",
       "    <tr>\n",
       "      <th>2</th>\n",
       "      <td>GAITHERSBURG, Md. (AP) — A small, private jet ...</td>\n",
       "      <td>– A twin-engine Embraer jet that the FAA descr...</td>\n",
       "    </tr>\n",
       "    <tr>\n",
       "      <th>3</th>\n",
       "      <td>Tucker Carlson Exposes His Own Sexism on Twitt...</td>\n",
       "      <td>– Tucker Carlson is in deep doodoo with conser...</td>\n",
       "    </tr>\n",
       "    <tr>\n",
       "      <th>4</th>\n",
       "      <td>A man accused of removing another man's testic...</td>\n",
       "      <td>– What are the three most horrifying words in ...</td>\n",
       "    </tr>\n",
       "  </tbody>\n",
       "</table>\n",
       "</div>"
      ],
      "text/plain": [
       "                                            document  \\\n",
       "0  National Archives \\n \\n Yes, it’s that time ag...   \n",
       "1  LOS ANGELES (AP) — In her first interview sinc...   \n",
       "2  GAITHERSBURG, Md. (AP) — A small, private jet ...   \n",
       "3  Tucker Carlson Exposes His Own Sexism on Twitt...   \n",
       "4  A man accused of removing another man's testic...   \n",
       "\n",
       "                                             summary  \n",
       "0  – The unemployment rate dropped to 8.2% last m...  \n",
       "1  – Shelly Sterling plans \"eventually\" to divorc...  \n",
       "2  – A twin-engine Embraer jet that the FAA descr...  \n",
       "3  – Tucker Carlson is in deep doodoo with conser...  \n",
       "4  – What are the three most horrifying words in ...  "
      ]
     },
     "execution_count": 10,
     "metadata": {},
     "output_type": "execute_result"
    }
   ],
   "source": [
    "df_multi.head()"
   ]
  },
  {
   "cell_type": "markdown",
   "id": "2867f8e2",
   "metadata": {},
   "source": [
    "# ✅ Implementation of the Models on the DataSets"
   ]
  },
  {
   "cell_type": "markdown",
   "id": "56348037",
   "metadata": {},
   "source": [
    "# 🚀 T5 Implementation Plan"
   ]
  },
  {
   "cell_type": "markdown",
   "id": "94bc4e79",
   "metadata": {},
   "source": [
    "#  1. 🚀 T5 on CNN/DailyMail"
   ]
  },
  {
   "cell_type": "markdown",
   "id": "c5798dc5",
   "metadata": {},
   "source": [
    "**✅ Step 1: Install Required Transformers Library**"
   ]
  },
  {
   "cell_type": "code",
   "execution_count": 11,
   "id": "ffe20d7a",
   "metadata": {},
   "outputs": [
    {
     "name": "stdout",
     "output_type": "stream",
     "text": [
      "Requirement already satisfied: transformers in c:\\users\\samim imtiaz\\anaconda3\\lib\\site-packages (4.54.1)\n",
      "Requirement already satisfied: evaluate in c:\\users\\samim imtiaz\\anaconda3\\lib\\site-packages (0.4.5)\n",
      "Requirement already satisfied: filelock in c:\\users\\samim imtiaz\\anaconda3\\lib\\site-packages (from transformers) (3.9.0)\n",
      "Requirement already satisfied: huggingface-hub<1.0,>=0.34.0 in c:\\users\\samim imtiaz\\anaconda3\\lib\\site-packages (from transformers) (0.34.3)\n",
      "Requirement already satisfied: numpy>=1.17 in c:\\users\\samim imtiaz\\anaconda3\\lib\\site-packages (from transformers) (1.26.4)\n",
      "Requirement already satisfied: packaging>=20.0 in c:\\users\\samim imtiaz\\anaconda3\\lib\\site-packages (from transformers) (23.1)\n",
      "Requirement already satisfied: pyyaml>=5.1 in c:\\users\\samim imtiaz\\anaconda3\\lib\\site-packages (from transformers) (6.0)\n",
      "Requirement already satisfied: regex!=2019.12.17 in c:\\users\\samim imtiaz\\anaconda3\\lib\\site-packages (from transformers) (2022.7.9)\n",
      "Requirement already satisfied: requests in c:\\users\\samim imtiaz\\anaconda3\\lib\\site-packages (from transformers) (2.32.4)\n",
      "Requirement already satisfied: tokenizers<0.22,>=0.21 in c:\\users\\samim imtiaz\\anaconda3\\lib\\site-packages (from transformers) (0.21.4)\n",
      "Requirement already satisfied: safetensors>=0.4.3 in c:\\users\\samim imtiaz\\anaconda3\\lib\\site-packages (from transformers) (0.5.3)\n",
      "Requirement already satisfied: tqdm>=4.27 in c:\\users\\samim imtiaz\\anaconda3\\lib\\site-packages (from transformers) (4.67.1)\n",
      "Requirement already satisfied: datasets>=2.0.0 in c:\\users\\samim imtiaz\\anaconda3\\lib\\site-packages (from evaluate) (4.0.0)\n",
      "Requirement already satisfied: dill in c:\\users\\samim imtiaz\\anaconda3\\lib\\site-packages (from evaluate) (0.3.6)\n",
      "Requirement already satisfied: pandas in c:\\users\\samim imtiaz\\anaconda3\\lib\\site-packages (from evaluate) (1.5.3)\n",
      "Requirement already satisfied: xxhash in c:\\users\\samim imtiaz\\anaconda3\\lib\\site-packages (from evaluate) (2.0.2)\n",
      "Requirement already satisfied: multiprocess in c:\\users\\samim imtiaz\\anaconda3\\lib\\site-packages (from evaluate) (0.70.14)\n",
      "Requirement already satisfied: fsspec>=2021.05.0 in c:\\users\\samim imtiaz\\anaconda3\\lib\\site-packages (from fsspec[http]>=2021.05.0->evaluate) (2025.3.0)\n",
      "Requirement already satisfied: pyarrow>=15.0.0 in c:\\users\\samim imtiaz\\anaconda3\\lib\\site-packages (from datasets>=2.0.0->evaluate) (21.0.0)\n",
      "Requirement already satisfied: aiohttp!=4.0.0a0,!=4.0.0a1 in c:\\users\\samim imtiaz\\anaconda3\\lib\\site-packages (from fsspec[http]>=2021.05.0->evaluate) (3.8.5)\n",
      "Requirement already satisfied: typing-extensions>=3.7.4.3 in c:\\users\\samim imtiaz\\anaconda3\\lib\\site-packages (from huggingface-hub<1.0,>=0.34.0->transformers) (4.12.2)\n",
      "Requirement already satisfied: charset_normalizer<4,>=2 in c:\\users\\samim imtiaz\\anaconda3\\lib\\site-packages (from requests->transformers) (2.0.4)\n",
      "Requirement already satisfied: idna<4,>=2.5 in c:\\users\\samim imtiaz\\anaconda3\\lib\\site-packages (from requests->transformers) (3.4)\n",
      "Requirement already satisfied: urllib3<3,>=1.21.1 in c:\\users\\samim imtiaz\\anaconda3\\lib\\site-packages (from requests->transformers) (1.26.16)\n",
      "Requirement already satisfied: certifi>=2017.4.17 in c:\\users\\samim imtiaz\\anaconda3\\lib\\site-packages (from requests->transformers) (2024.12.14)\n",
      "Requirement already satisfied: colorama in c:\\users\\samim imtiaz\\anaconda3\\lib\\site-packages (from tqdm>=4.27->transformers) (0.4.6)\n",
      "Requirement already satisfied: python-dateutil>=2.8.1 in c:\\users\\samim imtiaz\\anaconda3\\lib\\site-packages (from pandas->evaluate) (2.8.2)\n",
      "Requirement already satisfied: pytz>=2020.1 in c:\\users\\samim imtiaz\\anaconda3\\lib\\site-packages (from pandas->evaluate) (2023.3.post1)\n",
      "Requirement already satisfied: attrs>=17.3.0 in c:\\users\\samim imtiaz\\anaconda3\\lib\\site-packages (from aiohttp!=4.0.0a0,!=4.0.0a1->fsspec[http]>=2021.05.0->evaluate) (22.1.0)"
     ]
    },
    {
     "name": "stderr",
     "output_type": "stream",
     "text": [
      "\n",
      "[notice] A new release of pip is available: 24.3.1 -> 25.2\n",
      "[notice] To update, run: python.exe -m pip install --upgrade pip\n"
     ]
    },
    {
     "name": "stdout",
     "output_type": "stream",
     "text": [
      "\n",
      "Requirement already satisfied: multidict<7.0,>=4.5 in c:\\users\\samim imtiaz\\anaconda3\\lib\\site-packages (from aiohttp!=4.0.0a0,!=4.0.0a1->fsspec[http]>=2021.05.0->evaluate) (6.0.2)\n",
      "Requirement already satisfied: async-timeout<5.0,>=4.0.0a3 in c:\\users\\samim imtiaz\\anaconda3\\lib\\site-packages (from aiohttp!=4.0.0a0,!=4.0.0a1->fsspec[http]>=2021.05.0->evaluate) (4.0.2)\n",
      "Requirement already satisfied: yarl<2.0,>=1.0 in c:\\users\\samim imtiaz\\anaconda3\\lib\\site-packages (from aiohttp!=4.0.0a0,!=4.0.0a1->fsspec[http]>=2021.05.0->evaluate) (1.8.1)\n",
      "Requirement already satisfied: frozenlist>=1.1.1 in c:\\users\\samim imtiaz\\anaconda3\\lib\\site-packages (from aiohttp!=4.0.0a0,!=4.0.0a1->fsspec[http]>=2021.05.0->evaluate) (1.3.3)\n",
      "Requirement already satisfied: aiosignal>=1.1.2 in c:\\users\\samim imtiaz\\anaconda3\\lib\\site-packages (from aiohttp!=4.0.0a0,!=4.0.0a1->fsspec[http]>=2021.05.0->evaluate) (1.2.0)\n",
      "Requirement already satisfied: six>=1.5 in c:\\users\\samim imtiaz\\anaconda3\\lib\\site-packages (from python-dateutil>=2.8.1->pandas->evaluate) (1.16.0)\n"
     ]
    }
   ],
   "source": [
    "!pip install transformers evaluate"
   ]
  },
  {
   "cell_type": "code",
   "execution_count": 12,
   "id": "74a2cb7d",
   "metadata": {},
   "outputs": [
    {
     "name": "stdout",
     "output_type": "stream",
     "text": [
      "Requirement already satisfied: transformers in c:\\users\\samim imtiaz\\anaconda3\\lib\\site-packages (4.54.1)\n",
      "Requirement already satisfied: filelock in c:\\users\\samim imtiaz\\anaconda3\\lib\\site-packages (from transformers) (3.9.0)\n",
      "Requirement already satisfied: huggingface-hub<1.0,>=0.34.0 in c:\\users\\samim imtiaz\\anaconda3\\lib\\site-packages (from transformers) (0.34.3)\n",
      "Requirement already satisfied: numpy>=1.17 in c:\\users\\samim imtiaz\\anaconda3\\lib\\site-packages (from transformers) (1.26.4)\n",
      "Requirement already satisfied: packaging>=20.0 in c:\\users\\samim imtiaz\\anaconda3\\lib\\site-packages (from transformers) (23.1)\n",
      "Requirement already satisfied: pyyaml>=5.1 in c:\\users\\samim imtiaz\\anaconda3\\lib\\site-packages (from transformers) (6.0)\n",
      "Requirement already satisfied: regex!=2019.12.17 in c:\\users\\samim imtiaz\\anaconda3\\lib\\site-packages (from transformers) (2022.7.9)\n",
      "Requirement already satisfied: requests in c:\\users\\samim imtiaz\\anaconda3\\lib\\site-packages (from transformers) (2.32.4)\n",
      "Requirement already satisfied: tokenizers<0.22,>=0.21 in c:\\users\\samim imtiaz\\anaconda3\\lib\\site-packages (from transformers) (0.21.4)\n",
      "Requirement already satisfied: safetensors>=0.4.3 in c:\\users\\samim imtiaz\\anaconda3\\lib\\site-packages (from transformers) (0.5.3)\n",
      "Requirement already satisfied: tqdm>=4.27 in c:\\users\\samim imtiaz\\anaconda3\\lib\\site-packages (from transformers) (4.67.1)\n",
      "Requirement already satisfied: fsspec>=2023.5.0 in c:\\users\\samim imtiaz\\anaconda3\\lib\\site-packages (from huggingface-hub<1.0,>=0.34.0->transformers) (2025.3.0)\n",
      "Requirement already satisfied: typing-extensions>=3.7.4.3 in c:\\users\\samim imtiaz\\anaconda3\\lib\\site-packages (from huggingface-hub<1.0,>=0.34.0->transformers) (4.12.2)\n",
      "Requirement already satisfied: colorama in c:\\users\\samim imtiaz\\anaconda3\\lib\\site-packages (from tqdm>=4.27->transformers) (0.4.6)\n",
      "Requirement already satisfied: charset_normalizer<4,>=2 in c:\\users\\samim imtiaz\\anaconda3\\lib\\site-packages (from requests->transformers) (2.0.4)\n",
      "Requirement already satisfied: idna<4,>=2.5 in c:\\users\\samim imtiaz\\anaconda3\\lib\\site-packages (from requests->transformers) (3.4)\n",
      "Requirement already satisfied: urllib3<3,>=1.21.1 in c:\\users\\samim imtiaz\\anaconda3\\lib\\site-packages (from requests->transformers) (1.26.16)\n",
      "Requirement already satisfied: certifi>=2017.4.17 in c:\\users\\samim imtiaz\\anaconda3\\lib\\site-packages (from requests->transformers) (2024.12.14)\n"
     ]
    },
    {
     "name": "stderr",
     "output_type": "stream",
     "text": [
      "\n",
      "[notice] A new release of pip is available: 24.3.1 -> 25.2\n",
      "[notice] To update, run: python.exe -m pip install --upgrade pip\n"
     ]
    }
   ],
   "source": [
    "!pip install --upgrade transformers"
   ]
  },
  {
   "cell_type": "code",
   "execution_count": 13,
   "id": "3de28a88",
   "metadata": {},
   "outputs": [
    {
     "name": "stdout",
     "output_type": "stream",
     "text": [
      "Requirement already satisfied: evaluate in c:\\users\\samim imtiaz\\anaconda3\\lib\\site-packages (0.4.5)\n",
      "Requirement already satisfied: datasets>=2.0.0 in c:\\users\\samim imtiaz\\anaconda3\\lib\\site-packages (from evaluate) (4.0.0)\n",
      "Requirement already satisfied: numpy>=1.17 in c:\\users\\samim imtiaz\\anaconda3\\lib\\site-packages (from evaluate) (1.26.4)\n",
      "Requirement already satisfied: dill in c:\\users\\samim imtiaz\\anaconda3\\lib\\site-packages (from evaluate) (0.3.6)\n",
      "Requirement already satisfied: pandas in c:\\users\\samim imtiaz\\anaconda3\\lib\\site-packages (from evaluate) (1.5.3)\n",
      "Requirement already satisfied: requests>=2.19.0 in c:\\users\\samim imtiaz\\anaconda3\\lib\\site-packages (from evaluate) (2.32.4)\n",
      "Requirement already satisfied: tqdm>=4.62.1 in c:\\users\\samim imtiaz\\anaconda3\\lib\\site-packages (from evaluate) (4.67.1)\n",
      "Requirement already satisfied: xxhash in c:\\users\\samim imtiaz\\anaconda3\\lib\\site-packages (from evaluate) (2.0.2)\n",
      "Requirement already satisfied: multiprocess in c:\\users\\samim imtiaz\\anaconda3\\lib\\site-packages (from evaluate) (0.70.14)\n",
      "Requirement already satisfied: fsspec>=2021.05.0 in c:\\users\\samim imtiaz\\anaconda3\\lib\\site-packages (from fsspec[http]>=2021.05.0->evaluate) (2025.3.0)\n",
      "Requirement already satisfied: huggingface-hub>=0.7.0 in c:\\users\\samim imtiaz\\anaconda3\\lib\\site-packages (from evaluate) (0.34.3)\n",
      "Requirement already satisfied: packaging in c:\\users\\samim imtiaz\\anaconda3\\lib\\site-packages (from evaluate) (23.1)\n",
      "Requirement already satisfied: filelock in c:\\users\\samim imtiaz\\anaconda3\\lib\\site-packages (from datasets>=2.0.0->evaluate) (3.9.0)\n",
      "Requirement already satisfied: pyarrow>=15.0.0 in c:\\users\\samim imtiaz\\anaconda3\\lib\\site-packages (from datasets>=2.0.0->evaluate) (21.0.0)\n",
      "Requirement already satisfied: pyyaml>=5.1 in c:\\users\\samim imtiaz\\anaconda3\\lib\\site-packages (from datasets>=2.0.0->evaluate) (6.0)\n",
      "Requirement already satisfied: aiohttp!=4.0.0a0,!=4.0.0a1 in c:\\users\\samim imtiaz\\anaconda3\\lib\\site-packages (from fsspec[http]>=2021.05.0->evaluate) (3.8.5)\n",
      "Requirement already satisfied: typing-extensions>=3.7.4.3 in c:\\users\\samim imtiaz\\anaconda3\\lib\\site-packages (from huggingface-hub>=0.7.0->evaluate) (4.12.2)\n",
      "Requirement already satisfied: charset_normalizer<4,>=2 in c:\\users\\samim imtiaz\\anaconda3\\lib\\site-packages (from requests>=2.19.0->evaluate) (2.0.4)\n",
      "Requirement already satisfied: idna<4,>=2.5 in c:\\users\\samim imtiaz\\anaconda3\\lib\\site-packages (from requests>=2.19.0->evaluate) (3.4)\n",
      "Requirement already satisfied: urllib3<3,>=1.21.1 in c:\\users\\samim imtiaz\\anaconda3\\lib\\site-packages (from requests>=2.19.0->evaluate) (1.26.16)\n",
      "Requirement already satisfied: certifi>=2017.4.17 in c:\\users\\samim imtiaz\\anaconda3\\lib\\site-packages (from requests>=2.19.0->evaluate) (2024.12.14)\n",
      "Requirement already satisfied: colorama in c:\\users\\samim imtiaz\\anaconda3\\lib\\site-packages (from tqdm>=4.62.1->evaluate) (0.4.6)\n",
      "Requirement already satisfied: python-dateutil>=2.8.1 in c:\\users\\samim imtiaz\\anaconda3\\lib\\site-packages (from pandas->evaluate) (2.8.2)\n",
      "Requirement already satisfied: pytz>=2020.1 in c:\\users\\samim imtiaz\\anaconda3\\lib\\site-packages (from pandas->evaluate) (2023.3.post1)\n",
      "Requirement already satisfied: attrs>=17.3.0 in c:\\users\\samim imtiaz\\anaconda3\\lib\\site-packages (from aiohttp!=4.0.0a0,!=4.0.0a1->fsspec[http]>=2021.05.0->evaluate) (22.1.0)\n",
      "Requirement already satisfied: multidict<7.0,>=4.5 in c:\\users\\samim imtiaz\\anaconda3\\lib\\site-packages (from aiohttp!=4.0.0a0,!=4.0.0a1->fsspec[http]>=2021.05.0->evaluate) (6.0.2)\n",
      "Requirement already satisfied: async-timeout<5.0,>=4.0.0a3 in c:\\users\\samim imtiaz\\anaconda3\\lib\\site-packages (from aiohttp!=4.0.0a0,!=4.0.0a1->fsspec[http]>=2021.05.0->evaluate) (4.0.2)\n",
      "Requirement already satisfied: yarl<2.0,>=1.0 in c:\\users\\samim imtiaz\\anaconda3\\lib\\site-packages (from aiohttp!=4.0.0a0,!=4.0.0a1->fsspec[http]>=2021.05.0->evaluate) (1.8.1)\n",
      "Requirement already satisfied: frozenlist>=1.1.1 in c:\\users\\samim imtiaz\\anaconda3\\lib\\site-packages (from aiohttp!=4.0.0a0,!=4.0.0a1->fsspec[http]>=2021.05.0->evaluate) (1.3.3)\n",
      "Requirement already satisfied: aiosignal>=1.1.2 in c:\\users\\samim imtiaz\\anaconda3\\lib\\site-packages (from aiohttp!=4.0.0a0,!=4.0.0a1->fsspec[http]>=2021.05.0->evaluate) (1.2.0)\n",
      "Requirement already satisfied: six>=1.5 in c:\\users\\samim imtiaz\\anaconda3\\lib\\site-packages (from python-dateutil>=2.8.1->pandas->evaluate) (1.16.0)\n"
     ]
    },
    {
     "name": "stderr",
     "output_type": "stream",
     "text": [
      "\n",
      "[notice] A new release of pip is available: 24.3.1 -> 25.2\n",
      "[notice] To update, run: python.exe -m pip install --upgrade pip\n"
     ]
    }
   ],
   "source": [
    "!pip install --upgrade evaluate"
   ]
  },
  {
   "cell_type": "code",
   "execution_count": 14,
   "id": "873a7063",
   "metadata": {},
   "outputs": [
    {
     "name": "stdout",
     "output_type": "stream",
     "text": [
      "Requirement already satisfied: bert-score in c:\\users\\samim imtiaz\\anaconda3\\lib\\site-packages (0.3.13)\n",
      "Requirement already satisfied: torch>=1.0.0 in c:\\users\\samim imtiaz\\anaconda3\\lib\\site-packages (from bert-score) (2.6.0+cpu)\n",
      "Requirement already satisfied: pandas>=1.0.1 in c:\\users\\samim imtiaz\\anaconda3\\lib\\site-packages (from bert-score) (1.5.3)\n",
      "Requirement already satisfied: transformers>=3.0.0 in c:\\users\\samim imtiaz\\anaconda3\\lib\\site-packages (from bert-score) (4.54.1)\n",
      "Requirement already satisfied: numpy in c:\\users\\samim imtiaz\\anaconda3\\lib\\site-packages (from bert-score) (1.26.4)\n",
      "Requirement already satisfied: requests in c:\\users\\samim imtiaz\\anaconda3\\lib\\site-packages (from bert-score) (2.32.4)\n",
      "Requirement already satisfied: tqdm>=4.31.1 in c:\\users\\samim imtiaz\\anaconda3\\lib\\site-packages (from bert-score) (4.67.1)\n",
      "Requirement already satisfied: matplotlib in c:\\users\\samim imtiaz\\anaconda3\\lib\\site-packages (from bert-score) (3.7.2)\n",
      "Requirement already satisfied: packaging>=20.9 in c:\\users\\samim imtiaz\\anaconda3\\lib\\site-packages (from bert-score) (23.1)\n",
      "Requirement already satisfied: python-dateutil>=2.8.1 in c:\\users\\samim imtiaz\\anaconda3\\lib\\site-packages (from pandas>=1.0.1->bert-score) (2.8.2)\n",
      "Requirement already satisfied: pytz>=2020.1 in c:\\users\\samim imtiaz\\anaconda3\\lib\\site-packages (from pandas>=1.0.1->bert-score) (2023.3.post1)\n",
      "Requirement already satisfied: filelock in c:\\users\\samim imtiaz\\anaconda3\\lib\\site-packages (from torch>=1.0.0->bert-score) (3.9.0)\n",
      "Requirement already satisfied: typing-extensions>=4.10.0 in c:\\users\\samim imtiaz\\anaconda3\\lib\\site-packages (from torch>=1.0.0->bert-score) (4.12.2)\n",
      "Requirement already satisfied: networkx in c:\\users\\samim imtiaz\\anaconda3\\lib\\site-packages (from torch>=1.0.0->bert-score) (3.1)\n",
      "Requirement already satisfied: jinja2 in c:\\users\\samim imtiaz\\anaconda3\\lib\\site-packages (from torch>=1.0.0->bert-score) (3.1.2)\n",
      "Requirement already satisfied: fsspec in c:\\users\\samim imtiaz\\anaconda3\\lib\\site-packages (from torch>=1.0.0->bert-score) (2025.3.0)\n",
      "Requirement already satisfied: sympy==1.13.1 in c:\\users\\samim imtiaz\\anaconda3\\lib\\site-packages (from torch>=1.0.0->bert-score) (1.13.1)\n",
      "Requirement already satisfied: mpmath<1.4,>=1.1.0 in c:\\users\\samim imtiaz\\anaconda3\\lib\\site-packages (from sympy==1.13.1->torch>=1.0.0->bert-score) (1.3.0)\n",
      "Requirement already satisfied: colorama in c:\\users\\samim imtiaz\\anaconda3\\lib\\site-packages (from tqdm>=4.31.1->bert-score) (0.4.6)\n",
      "Requirement already satisfied: huggingface-hub<1.0,>=0.34.0 in c:\\users\\samim imtiaz\\anaconda3\\lib\\site-packages (from transformers>=3.0.0->bert-score) (0.34.3)\n",
      "Requirement already satisfied: pyyaml>=5.1 in c:\\users\\samim imtiaz\\anaconda3\\lib\\site-packages (from transformers>=3.0.0->bert-score) (6.0)\n",
      "Requirement already satisfied: regex!=2019.12.17 in c:\\users\\samim imtiaz\\anaconda3\\lib\\site-packages (from transformers>=3.0.0->bert-score) (2022.7.9)\n",
      "Requirement already satisfied: tokenizers<0.22,>=0.21 in c:\\users\\samim imtiaz\\anaconda3\\lib\\site-packages (from transformers>=3.0.0->bert-score) (0.21.4)\n",
      "Requirement already satisfied: safetensors>=0.4.3 in c:\\users\\samim imtiaz\\anaconda3\\lib\\site-packages (from transformers>=3.0.0->bert-score) (0.5.3)\n",
      "Requirement already satisfied: contourpy>=1.0.1 in c:\\users\\samim imtiaz\\anaconda3\\lib\\site-packages (from matplotlib->bert-score) (1.0.5)\n",
      "Requirement already satisfied: cycler>=0.10 in c:\\users\\samim imtiaz\\anaconda3\\lib\\site-packages (from matplotlib->bert-score) (0.11.0)\n",
      "Requirement already satisfied: fonttools>=4.22.0 in c:\\users\\samim imtiaz\\anaconda3\\lib\\site-packages (from matplotlib->bert-score) (4.25.0)\n",
      "Requirement already satisfied: kiwisolver>=1.0.1 in c:\\users\\samim imtiaz\\anaconda3\\lib\\site-packages (from matplotlib->bert-score) (1.4.4)\n",
      "Requirement already satisfied: pillow>=6.2.0 in c:\\users\\samim imtiaz\\anaconda3\\lib\\site-packages (from matplotlib->bert-score) (9.4.0)\n",
      "Requirement already satisfied: pyparsing<3.1,>=2.3.1 in c:\\users\\samim imtiaz\\anaconda3\\lib\\site-packages (from matplotlib->bert-score) (3.0.9)\n",
      "Requirement already satisfied: charset_normalizer<4,>=2 in c:\\users\\samim imtiaz\\anaconda3\\lib\\site-packages (from requests->bert-score) (2.0.4)\n",
      "Requirement already satisfied: idna<4,>=2.5 in c:\\users\\samim imtiaz\\anaconda3\\lib\\site-packages (from requests->bert-score) (3.4)\n",
      "Requirement already satisfied: urllib3<3,>=1.21.1 in c:\\users\\samim imtiaz\\anaconda3\\lib\\site-packages (from requests->bert-score) (1.26.16)\n",
      "Requirement already satisfied: certifi>=2017.4.17 in c:\\users\\samim imtiaz\\anaconda3\\lib\\site-packages (from requests->bert-score) (2024.12.14)\n",
      "Requirement already satisfied: six>=1.5 in c:\\users\\samim imtiaz\\anaconda3\\lib\\site-packages (from python-dateutil>=2.8.1->pandas>=1.0.1->bert-score) (1.16.0)\n",
      "Requirement already satisfied: MarkupSafe>=2.0 in c:\\users\\samim imtiaz\\anaconda3\\lib\\site-packages (from jinja2->torch>=1.0.0->bert-score) (2.1.1)\n"
     ]
    },
    {
     "name": "stderr",
     "output_type": "stream",
     "text": [
      "\n",
      "[notice] A new release of pip is available: 24.3.1 -> 25.2\n",
      "[notice] To update, run: python.exe -m pip install --upgrade pip\n"
     ]
    }
   ],
   "source": [
    "!pip install bert-score"
   ]
  },
  {
   "cell_type": "markdown",
   "id": "2a9847b5",
   "metadata": {},
   "source": [
    "**✅ Step 2: Import Required Modules**"
   ]
  },
  {
   "cell_type": "code",
   "execution_count": 15,
   "id": "9fec39ad",
   "metadata": {},
   "outputs": [
    {
     "name": "stderr",
     "output_type": "stream",
     "text": [
      "C:\\Users\\SAMIM IMTIAZ\\anaconda3\\Lib\\site-packages\\torch\\utils\\_pytree.py:185: FutureWarning: optree is installed but the version is too old to support PyTorch Dynamo in C++ pytree. C++ pytree support is disabled. Please consider upgrading optree using `python3 -m pip install --upgrade 'optree>=0.13.0'`.\n",
      "  warnings.warn(\n"
     ]
    }
   ],
   "source": [
    "from transformers import T5Tokenizer, T5ForConditionalGeneration\n",
    "import torch"
   ]
  },
  {
   "cell_type": "markdown",
   "id": "81f3fd5f",
   "metadata": {},
   "source": [
    "**✅ Step 3: Load Pretrained t5-base Model & Tokenizer**"
   ]
  },
  {
   "cell_type": "code",
   "execution_count": 16,
   "id": "3c391e53",
   "metadata": {},
   "outputs": [
    {
     "name": "stdout",
     "output_type": "stream",
     "text": [
      "Requirement already satisfied: sentencepiece in c:\\users\\samim imtiaz\\anaconda3\\lib\\site-packages (0.2.0)"
     ]
    },
    {
     "name": "stderr",
     "output_type": "stream",
     "text": [
      "\n",
      "[notice] A new release of pip is available: 24.3.1 -> 25.2\n",
      "[notice] To update, run: python.exe -m pip install --upgrade pip\n"
     ]
    },
    {
     "name": "stdout",
     "output_type": "stream",
     "text": [
      "\n"
     ]
    }
   ],
   "source": [
    "!pip install sentencepiece\n",
    "\n",
    "#📌 Why Need This\n",
    "#T5 and PEGASUS both use SentencePiece tokenization.\n",
    "#Without it, Hugging Face can’t load the tokenizer."
   ]
  },
  {
   "cell_type": "code",
   "execution_count": 17,
   "id": "3c50993c",
   "metadata": {},
   "outputs": [
    {
     "name": "stderr",
     "output_type": "stream",
     "text": [
      "You are using the default legacy behaviour of the <class 'transformers.models.t5.tokenization_t5.T5Tokenizer'>. This is expected, and simply means that the `legacy` (previous) behavior will be used so nothing changes for you. If you want to use the new behaviour, set `legacy=False`. This should only be set if you understand what it means, and thoroughly read the reason why this was added as explained in https://github.com/huggingface/transformers/pull/24565\n"
     ]
    }
   ],
   "source": [
    "# Load T5 model and tokenizer\n",
    "tokenizer = T5Tokenizer.from_pretrained(\"t5-base\")\n",
    "model = T5ForConditionalGeneration.from_pretrained(\"t5-base\")\n",
    "\n",
    "# Move model to GPU if available\n",
    "device = torch.device(\"cuda\" if torch.cuda.is_available() else \"cpu\")\n",
    "model = model.to(device)"
   ]
  },
  {
   "cell_type": "markdown",
   "id": "97a13887",
   "metadata": {},
   "source": [
    "**✅ Step 4: Define Function to Generate Summaries**"
   ]
  },
  {
   "cell_type": "code",
   "execution_count": 18,
   "id": "9d3b9199",
   "metadata": {},
   "outputs": [],
   "source": [
    "def generate_summary(text, max_input_length=512, max_output_length=150):\n",
    "    # Prefix for T5 summarization\n",
    "    input_text = \"summarize: \" + text.strip().replace(\"\\n\", \" \")\n",
    "    \n",
    "    inputs = tokenizer(\n",
    "        input_text,\n",
    "        max_length=max_input_length,\n",
    "        padding=\"max_length\",\n",
    "        truncation=True,\n",
    "        return_tensors=\"pt\"\n",
    "    ).to(device)\n",
    "    \n",
    "    summary_ids = model.generate(\n",
    "        inputs[\"input_ids\"],\n",
    "        num_beams=4,\n",
    "        max_length=max_output_length,\n",
    "        early_stopping=True\n",
    "    )\n",
    "    \n",
    "    summary = tokenizer.decode(summary_ids[0], skip_special_tokens=True)\n",
    "    return summary\n"
   ]
  },
  {
   "cell_type": "markdown",
   "id": "37930d73",
   "metadata": {},
   "source": [
    "**✅ Step 5: Generate/Test Summaries for First 5 Articles**"
   ]
  },
  {
   "cell_type": "code",
   "execution_count": 19,
   "id": "7df9f09f",
   "metadata": {},
   "outputs": [
    {
     "name": "stdout",
     "output_type": "stream",
     "text": [
      "\n",
      "📰 Original Article #1 (shortened):\n",
      " LONDON, England (Reuters) -- Harry Potter star Daniel Radcliffe gains access to a reported £20 million ($41.1 million) fortune as he turns 18 on Monday, but he insists the money won't cast a spell on him. Daniel Radcliffe as Harry Potter in \"Harry Potter and the Order of the Phoenix\" To the disappointment of gossip columnists around the world, the young actor says he has no plans to fritter his cash away on fast cars, drink and celebrity parties. \"I don't plan to be one of those people who, as s ...\n",
      "\n",
      "✍️ Generated Summary #1:\n",
      " young actor says he has no plans to fritter his cash away on fast cars, drink and celebrity parties . at 18, he will be able to gamble in a casino, buy a drink in a pub or see \"Hostel: Part II\" details of how he'll mark his landmark birthday are under wraps .\n",
      "----------------------------------------------------------------------------------------------------\n",
      "\n",
      "📰 Original Article #2 (shortened):\n",
      " Editor's note: In our Behind the Scenes series, CNN correspondents share their experiences in covering news and analyze the stories behind the events. Here, Soledad O'Brien takes users inside a jail where many of the inmates are mentally ill. An inmate housed on the \"forgotten floor,\" where many mentally ill inmates are housed in Miami before trial. MIAMI, Florida (CNN) -- The ninth floor of the Miami-Dade pretrial detention facility is dubbed the \"forgotten floor.\" Here, inmates with the most s ...\n",
      "\n",
      "✍️ Generated Summary #2:\n",
      " mentally ill inmates housed on the \"forgotten floor\" of a pretrial detention facility in florida . inmates with the most severe mental illnesses are incarcerated until they're ready to appear . one-third of all people in florida-dade county jails are mentally ill .\n",
      "----------------------------------------------------------------------------------------------------\n",
      "\n",
      "📰 Original Article #3 (shortened):\n",
      " MINNEAPOLIS, Minnesota (CNN) -- Drivers who were on the Minneapolis bridge when it collapsed told harrowing tales of survival. \"The whole bridge from one side of the Mississippi to the other just completely gave way, fell all the way down,\" survivor Gary Babineau told CNN. \"I probably had a 30-, 35-foot free fall. And there's cars in the water, there's cars on fire. The whole bridge is down.\" He said his back was injured but he determined he could move around. \"I realized there was a school bus  ...\n",
      "\n",
      "✍️ Generated Summary #3:\n",
      " driver: \"the whole bridge from one side of the Mississippi to the other just gave way\" \"it just gave a rumble real quick, and it all just gave way,\" survivor says . \"there's cars in the water, there's cars on fire. the whole bridge is down,\" he says .\n",
      "----------------------------------------------------------------------------------------------------\n",
      "\n",
      "📰 Original Article #4 (shortened):\n",
      " WASHINGTON (CNN) -- Doctors removed five small polyps from President Bush's colon on Saturday, and \"none appeared worrisome,\" a White House spokesman said. The polyps were removed and sent to the National Naval Medical Center in Bethesda, Maryland, for routine microscopic examination, spokesman Scott Stanzel said. Results are expected in two to three days. All were small, less than a centimeter [half an inch] in diameter, he said. Bush is in good humor, Stanzel said, and will resume his activiti ...\n",
      "\n",
      "✍️ Generated Summary #4:\n",
      " five small polyps removed from president bush's colon . none of the polyps appeared worrisome, a white house spokesman says . the president is in good humor and will resume his activities at Camp David .\n",
      "----------------------------------------------------------------------------------------------------\n",
      "\n",
      "📰 Original Article #5 (shortened):\n",
      " (CNN)  -- The National Football League has indefinitely suspended Atlanta Falcons quarterback Michael Vick without pay, officials with the league said Friday. NFL star Michael Vick is set to appear in court Monday. A judge will have the final say on a plea deal. Earlier, Vick admitted to participating in a dogfighting ring as part of a plea agreement with federal prosecutors in Virginia. \"Your admitted conduct was not only illegal, but also cruel and reprehensible. Your team, the NFL, and NFL fa ...\n",
      "\n",
      "✍️ Generated Summary #5:\n",
      " new: \"conduct which tarnishes the good reputation of the NFL will not be tolerated,\" owner says . new: \"your team, the NFL, and NFL fans have all been hurt by your actions,\" nfl says . new: \"your admitted conduct was not only illegal, but cruel and reprehensible,\" nfl says . a judge will have the final say on a plea deal .\n",
      "----------------------------------------------------------------------------------------------------\n"
     ]
    }
   ],
   "source": [
    "# Select first 5 articles\n",
    "sample_articles = df_cnn[\"article\"][:5]\n",
    "generated_summaries = []\n",
    "\n",
    "# Generate summaries one by one\n",
    "for i, article in enumerate(sample_articles):\n",
    "    print(f\"\\n📰 Original Article #{i+1} (shortened):\\n\", article[:500], \"...\\n\")\n",
    "    \n",
    "    summary = generate_summary(article)\n",
    "    generated_summaries.append(summary)\n",
    "    \n",
    "    print(f\"✍️ Generated Summary #{i+1}:\\n\", summary)\n",
    "    print(\"-\" * 100)"
   ]
  },
  {
   "cell_type": "markdown",
   "id": "1ffedac3",
   "metadata": {},
   "source": [
    "**📊 Step 6: Evaluate with ROUGE (on 3 summaries)**"
   ]
  },
  {
   "cell_type": "code",
   "execution_count": 20,
   "id": "246b1941",
   "metadata": {},
   "outputs": [
    {
     "name": "stdout",
     "output_type": "stream",
     "text": [
      "📊 ROUGE Evaluation on 5 samples:\n",
      " {'rouge1': 0.3136340920448867, 'rouge2': 0.11841269841269841, 'rougeL': 0.23506277164448078, 'rougeLsum': 0.2833816425120773}\n"
     ]
    }
   ],
   "source": [
    "from evaluate import load\n",
    "\n",
    "\n",
    "# Load ROUGE evaluator\n",
    "rouge = load(\"rouge\")\n",
    "\n",
    "# Reference  (actual) summaries from CNN dataset\n",
    "reference_summaries = df_cnn[\"highlights\"][:5]\n",
    "\n",
    "# Calculate ROUGE scores\n",
    "scores = rouge.compute(predictions=generated_summaries, references=reference_summaries)\n",
    "print(\"📊 ROUGE Evaluation on 5 samples:\\n\", scores)\n"
   ]
  },
  {
   "cell_type": "markdown",
   "id": "769f6465",
   "metadata": {},
   "source": [
    "**✅ Let’s Format ROUGE Evaluation samples results in Table**"
   ]
  },
  {
   "cell_type": "code",
   "execution_count": 21,
   "id": "a034bb16",
   "metadata": {},
   "outputs": [
    {
     "name": "stdout",
     "output_type": "stream",
     "text": [
      "📊 Formatted ROUGE Results:\n"
     ]
    },
    {
     "data": {
      "text/html": [
       "<div>\n",
       "<style scoped>\n",
       "    .dataframe tbody tr th:only-of-type {\n",
       "        vertical-align: middle;\n",
       "    }\n",
       "\n",
       "    .dataframe tbody tr th {\n",
       "        vertical-align: top;\n",
       "    }\n",
       "\n",
       "    .dataframe thead th {\n",
       "        text-align: right;\n",
       "    }\n",
       "</style>\n",
       "<table border=\"1\" class=\"dataframe\">\n",
       "  <thead>\n",
       "    <tr style=\"text-align: right;\">\n",
       "      <th></th>\n",
       "      <th>Metric</th>\n",
       "      <th>Precision</th>\n",
       "      <th>Recall</th>\n",
       "      <th>F1-Score</th>\n",
       "    </tr>\n",
       "  </thead>\n",
       "  <tbody>\n",
       "    <tr>\n",
       "      <th>0</th>\n",
       "      <td>ROUGE1</td>\n",
       "      <td>-</td>\n",
       "      <td>-</td>\n",
       "      <td>0.3136</td>\n",
       "    </tr>\n",
       "    <tr>\n",
       "      <th>1</th>\n",
       "      <td>ROUGE2</td>\n",
       "      <td>-</td>\n",
       "      <td>-</td>\n",
       "      <td>0.1184</td>\n",
       "    </tr>\n",
       "    <tr>\n",
       "      <th>2</th>\n",
       "      <td>ROUGEL</td>\n",
       "      <td>-</td>\n",
       "      <td>-</td>\n",
       "      <td>0.2351</td>\n",
       "    </tr>\n",
       "    <tr>\n",
       "      <th>3</th>\n",
       "      <td>ROUGELSUM</td>\n",
       "      <td>-</td>\n",
       "      <td>-</td>\n",
       "      <td>0.2834</td>\n",
       "    </tr>\n",
       "  </tbody>\n",
       "</table>\n",
       "</div>"
      ],
      "text/plain": [
       "      Metric Precision Recall  F1-Score\n",
       "0     ROUGE1         -      -    0.3136\n",
       "1     ROUGE2         -      -    0.1184\n",
       "2     ROUGEL         -      -    0.2351\n",
       "3  ROUGELSUM         -      -    0.2834"
      ]
     },
     "metadata": {},
     "output_type": "display_data"
    }
   ],
   "source": [
    "import pandas as pd\n",
    "\n",
    "# Format the current ROUGE output from evaluate.load(\"rouge\")\n",
    "def format_rouge_output(scores):\n",
    "    rows = []\n",
    "    for metric, f1 in scores.items():\n",
    "        rows.append({\n",
    "            \"Metric\": metric.upper(),\n",
    "            \"Precision\": \"-\",  # Not available in current version\n",
    "            \"Recall\": \"-\",     # Not available in current version\n",
    "            \"F1-Score\": round(f1, 4)\n",
    "        })\n",
    "    return pd.DataFrame(rows)\n",
    "\n",
    "# Display\n",
    "formatted_scores = format_rouge_output(scores)\n",
    "print(\"📊 Formatted ROUGE Results:\")\n",
    "display(formatted_scores)"
   ]
  },
  {
   "cell_type": "markdown",
   "id": "34fd049b",
   "metadata": {},
   "source": [
    "**📚Step 7: CNN BERTScore**"
   ]
  },
  {
   "cell_type": "code",
   "execution_count": 22,
   "id": "474b9853",
   "metadata": {},
   "outputs": [],
   "source": [
    "# Define CNN predictions and references \n",
    "cnn_preds = generated_summaries  \n",
    "cnn_refs = df_cnn[\"highlights\"][:len(cnn_preds)]"
   ]
  },
  {
   "cell_type": "code",
   "execution_count": 23,
   "id": "9ae5651f",
   "metadata": {},
   "outputs": [
    {
     "name": "stderr",
     "output_type": "stream",
     "text": [
      "Some weights of RobertaModel were not initialized from the model checkpoint at roberta-large and are newly initialized: ['pooler.dense.bias', 'pooler.dense.weight']\n",
      "You should probably TRAIN this model on a down-stream task to be able to use it for predictions and inference.\n",
      "C:\\Users\\SAMIM IMTIAZ\\anaconda3\\Lib\\site-packages\\torch\\nn\\modules\\module.py:1750: FutureWarning: `encoder_attention_mask` is deprecated and will be removed in version 4.55.0 for `RobertaSdpaSelfAttention.forward`.\n",
      "  return forward_call(*args, **kwargs)\n"
     ]
    },
    {
     "name": "stdout",
     "output_type": "stream",
     "text": [
      "✅ CNN BERTScore (F1 Avg): 0.8595\n"
     ]
    }
   ],
   "source": [
    "from evaluate import load\n",
    "\n",
    "# Load BERTScore evaluator\n",
    "bertscore = load(\"bertscore\")\n",
    "\n",
    "# Provide  actual generated predictions and references\n",
    "predictions = cnn_preds  # Your T5 generated summaries\n",
    "references = cnn_refs    # Actual CNN highlights\n",
    "\n",
    "# Compute BERTScore\n",
    "bertscore_result = bertscore.compute(predictions=predictions, references=references, lang=\"en\")\n",
    "\n",
    "# Calculate average BERTScore F1\n",
    "average_f1 = sum(bertscore_result['f1']) / len(bertscore_result['f1'])\n",
    "print(f\"✅ CNN BERTScore (F1 Avg): {average_f1:.4f}\")"
   ]
  },
  {
   "cell_type": "markdown",
   "id": "3d39f103",
   "metadata": {},
   "source": [
    "#  2. 🚀 T5 on XSUM"
   ]
  },
  {
   "cell_type": "markdown",
   "id": "9b47ddbf",
   "metadata": {},
   "source": [
    "**✅ Step 1: Review df_xsum Format**"
   ]
  },
  {
   "cell_type": "code",
   "execution_count": 24,
   "id": "ff6cc203",
   "metadata": {},
   "outputs": [
    {
     "data": {
      "text/html": [
       "<div>\n",
       "<style scoped>\n",
       "    .dataframe tbody tr th:only-of-type {\n",
       "        vertical-align: middle;\n",
       "    }\n",
       "\n",
       "    .dataframe tbody tr th {\n",
       "        vertical-align: top;\n",
       "    }\n",
       "\n",
       "    .dataframe thead th {\n",
       "        text-align: right;\n",
       "    }\n",
       "</style>\n",
       "<table border=\"1\" class=\"dataframe\">\n",
       "  <thead>\n",
       "    <tr style=\"text-align: right;\">\n",
       "      <th></th>\n",
       "      <th>document</th>\n",
       "      <th>summary</th>\n",
       "      <th>id</th>\n",
       "    </tr>\n",
       "  </thead>\n",
       "  <tbody>\n",
       "    <tr>\n",
       "      <th>0</th>\n",
       "      <td>The full cost of damage in Newton Stewart, one...</td>\n",
       "      <td>Clean-up operations are continuing across the ...</td>\n",
       "      <td>35232142</td>\n",
       "    </tr>\n",
       "    <tr>\n",
       "      <th>1</th>\n",
       "      <td>A fire alarm went off at the Holiday Inn in Ho...</td>\n",
       "      <td>Two tourist buses have been destroyed by fire ...</td>\n",
       "      <td>40143035</td>\n",
       "    </tr>\n",
       "    <tr>\n",
       "      <th>2</th>\n",
       "      <td>Ferrari appeared in a position to challenge un...</td>\n",
       "      <td>Lewis Hamilton stormed to pole position at the...</td>\n",
       "      <td>35951548</td>\n",
       "    </tr>\n",
       "    <tr>\n",
       "      <th>3</th>\n",
       "      <td>John Edward Bates, formerly of Spalding, Linco...</td>\n",
       "      <td>A former Lincolnshire Police officer carried o...</td>\n",
       "      <td>36266422</td>\n",
       "    </tr>\n",
       "    <tr>\n",
       "      <th>4</th>\n",
       "      <td>Patients and staff were evacuated from Cerahpa...</td>\n",
       "      <td>An armed man who locked himself into a room at...</td>\n",
       "      <td>38826984</td>\n",
       "    </tr>\n",
       "  </tbody>\n",
       "</table>\n",
       "</div>"
      ],
      "text/plain": [
       "                                            document  \\\n",
       "0  The full cost of damage in Newton Stewart, one...   \n",
       "1  A fire alarm went off at the Holiday Inn in Ho...   \n",
       "2  Ferrari appeared in a position to challenge un...   \n",
       "3  John Edward Bates, formerly of Spalding, Linco...   \n",
       "4  Patients and staff were evacuated from Cerahpa...   \n",
       "\n",
       "                                             summary        id  \n",
       "0  Clean-up operations are continuing across the ...  35232142  \n",
       "1  Two tourist buses have been destroyed by fire ...  40143035  \n",
       "2  Lewis Hamilton stormed to pole position at the...  35951548  \n",
       "3  A former Lincolnshire Police officer carried o...  36266422  \n",
       "4  An armed man who locked himself into a room at...  38826984  "
      ]
     },
     "execution_count": 24,
     "metadata": {},
     "output_type": "execute_result"
    }
   ],
   "source": [
    "df_xsum.head()"
   ]
  },
  {
   "cell_type": "markdown",
   "id": "7d68f2c5",
   "metadata": {},
   "source": [
    "**✅ Step 2: Generate Summaries with T5**"
   ]
  },
  {
   "cell_type": "code",
   "execution_count": 25,
   "id": "b097fbe2",
   "metadata": {},
   "outputs": [
    {
     "name": "stdout",
     "output_type": "stream",
     "text": [
      "\n",
      "📄 XSum Article #1 (shortened):\n",
      " The full cost of damage in Newton Stewart, one of the areas worst affected, is still being assessed.\n",
      "Repair work is ongoing in Hawick and many roads in Peeblesshire remain badly affected by standing water.\n",
      "Trains on the west coast mainline face disruption due to damage at the Lamington Viaduct.\n",
      "Many businesses and householders were affected by flooding in Newton Stewart after the River Cree overflowed into the town.\n",
      "First Minister Nicola Sturgeon visited the area to inspect the damage.\n",
      "The water ...\n",
      "\n",
      "✍️ Generated Summary #1:\n",
      " many roads in peeblesshire remain badly affected by standing water . first minister Nicola Sturgeon visited the area to inspect the damage . the waters breached a retaining wall, flooding many commercial properties . a flood alert remains in place across the Borders because of constant rain .\n",
      "----------------------------------------------------------------------------------------------------\n",
      "\n",
      "📄 XSum Article #2 (shortened):\n",
      " A fire alarm went off at the Holiday Inn in Hope Street at about 04:20 BST on Saturday and guests were asked to leave the hotel.\n",
      "As they gathered outside they saw the two buses, parked side-by-side in the car park, engulfed by flames.\n",
      "One of the tour groups is from Germany, the other from China and Taiwan. It was their first night in Northern Ireland.\n",
      "The driver of one of the buses said many of the passengers had left personal belongings on board and these had been destroyed.\n",
      "Both groups have or ...\n",
      "\n",
      "✍️ Generated Summary #2:\n",
      " a fire alarm went off at the holiday inn in hope street at about 04:20 BST . as guests gathered outside they saw two buses, parked side-by-side, engulfed by flames . one of the tour groups is from germany, the other from china and Taiwan .\n",
      "----------------------------------------------------------------------------------------------------\n",
      "\n",
      "📄 XSum Article #3 (shortened):\n",
      " Ferrari appeared in a position to challenge until the final laps, when the Mercedes stretched their legs to go half a second clear of the red cars.\n",
      "Sebastian Vettel will start third ahead of team-mate Kimi Raikkonen.\n",
      "The world champion subsequently escaped punishment for reversing in the pit lane, which could have seen him stripped of pole.\n",
      "But stewards only handed Hamilton a reprimand, after governing body the FIA said \"no clear instruction was given on where he should park\".\n",
      "Belgian Stoffel Va ...\n",
      "\n",
      "✍️ Generated Summary #3:\n",
      " stewards only handed Hamilton a reprimand after he reverted in pit lane . he was 12th and 14th, complaining of a handling imbalance on his final lap . alonso was declared unfit after breaking his rib in crash two weeks ago .\n",
      "----------------------------------------------------------------------------------------------------\n"
     ]
    }
   ],
   "source": [
    "# Select first 3 XSum articles\n",
    "xsum_articles = df_xsum[\"document\"][:3]\n",
    "xsum_references = df_xsum[\"summary\"][:3]\n",
    "xsum_generated = []\n",
    "\n",
    "for i, article in enumerate(xsum_articles):\n",
    "    print(f\"\\n📄 XSum Article #{i+1} (shortened):\\n\", article[:500], \"...\\n\")\n",
    "    \n",
    "    summary = generate_summary(article)\n",
    "    xsum_generated.append(summary)\n",
    "    \n",
    "    print(f\"✍️ Generated Summary #{i+1}:\\n\", summary)\n",
    "    print(\"-\" * 100)"
   ]
  },
  {
   "cell_type": "code",
   "execution_count": 26,
   "id": "23a9e30f",
   "metadata": {},
   "outputs": [
    {
     "name": "stdout",
     "output_type": "stream",
     "text": [
      "📊 ROUGE Evaluation on 3 XSum samples:\n",
      " {'rouge1': 0.13979392926761347, 'rouge2': 0.010928961748633878, 'rougeL': 0.08688387635756056, 'rougeLsum': 0.08688387635756056}\n"
     ]
    }
   ],
   "source": [
    "from evaluate import load\n",
    "\n",
    "\n",
    "# Load ROUGE evaluator\n",
    "rouge = load(\"rouge\")\n",
    "\n",
    "# XSum references\n",
    "reference_summaries = df_xsum[\"summary\"][:3]\n",
    "\n",
    "# XSum predictions — generated earlier in xsum_generated\n",
    "scores = rouge.compute(predictions=xsum_generated, references=reference_summaries)\n",
    "print(\"📊 ROUGE Evaluation on 3 XSum samples:\\n\", scores)"
   ]
  },
  {
   "cell_type": "markdown",
   "id": "a805d30b",
   "metadata": {},
   "source": [
    "**✅ Let’s Format ROUGE Evaluation samples results in Table**"
   ]
  },
  {
   "cell_type": "code",
   "execution_count": 27,
   "id": "e50afb29",
   "metadata": {},
   "outputs": [
    {
     "name": "stdout",
     "output_type": "stream",
     "text": [
      "📊 Formatted ROUGE Results:\n"
     ]
    },
    {
     "data": {
      "text/html": [
       "<div>\n",
       "<style scoped>\n",
       "    .dataframe tbody tr th:only-of-type {\n",
       "        vertical-align: middle;\n",
       "    }\n",
       "\n",
       "    .dataframe tbody tr th {\n",
       "        vertical-align: top;\n",
       "    }\n",
       "\n",
       "    .dataframe thead th {\n",
       "        text-align: right;\n",
       "    }\n",
       "</style>\n",
       "<table border=\"1\" class=\"dataframe\">\n",
       "  <thead>\n",
       "    <tr style=\"text-align: right;\">\n",
       "      <th></th>\n",
       "      <th>Metric</th>\n",
       "      <th>Precision</th>\n",
       "      <th>Recall</th>\n",
       "      <th>F1-Score</th>\n",
       "    </tr>\n",
       "  </thead>\n",
       "  <tbody>\n",
       "    <tr>\n",
       "      <th>0</th>\n",
       "      <td>ROUGE1</td>\n",
       "      <td>-</td>\n",
       "      <td>-</td>\n",
       "      <td>0.1398</td>\n",
       "    </tr>\n",
       "    <tr>\n",
       "      <th>1</th>\n",
       "      <td>ROUGE2</td>\n",
       "      <td>-</td>\n",
       "      <td>-</td>\n",
       "      <td>0.0109</td>\n",
       "    </tr>\n",
       "    <tr>\n",
       "      <th>2</th>\n",
       "      <td>ROUGEL</td>\n",
       "      <td>-</td>\n",
       "      <td>-</td>\n",
       "      <td>0.0869</td>\n",
       "    </tr>\n",
       "    <tr>\n",
       "      <th>3</th>\n",
       "      <td>ROUGELSUM</td>\n",
       "      <td>-</td>\n",
       "      <td>-</td>\n",
       "      <td>0.0869</td>\n",
       "    </tr>\n",
       "  </tbody>\n",
       "</table>\n",
       "</div>"
      ],
      "text/plain": [
       "      Metric Precision Recall  F1-Score\n",
       "0     ROUGE1         -      -    0.1398\n",
       "1     ROUGE2         -      -    0.0109\n",
       "2     ROUGEL         -      -    0.0869\n",
       "3  ROUGELSUM         -      -    0.0869"
      ]
     },
     "metadata": {},
     "output_type": "display_data"
    }
   ],
   "source": [
    "import pandas as pd\n",
    "\n",
    "# Format the current ROUGE output from evaluate.load(\"rouge\")\n",
    "def format_rouge_output(scores):\n",
    "    rows = []\n",
    "    for metric, f1 in scores.items():\n",
    "        rows.append({\n",
    "            \"Metric\": metric.upper(),\n",
    "            \"Precision\": \"-\",  # Not available in current version\n",
    "            \"Recall\": \"-\",     # Not available in current version\n",
    "            \"F1-Score\": round(f1, 4)\n",
    "        })\n",
    "    return pd.DataFrame(rows)\n",
    "\n",
    "# Display\n",
    "formatted_scores = format_rouge_output(scores)\n",
    "print(\"📊 Formatted ROUGE Results:\")\n",
    "display(formatted_scores)"
   ]
  },
  {
   "cell_type": "markdown",
   "id": "d9e6be80",
   "metadata": {},
   "source": [
    "**✅ Prepare XSum Evaluation Data**"
   ]
  },
  {
   "cell_type": "code",
   "execution_count": 28,
   "id": "ef16367b",
   "metadata": {},
   "outputs": [],
   "source": [
    "xsum_preds = generated_summaries  # Replace with T5-generated outputs for XSum\n",
    "xsum_refs = df_xsum[\"summary\"][:len(xsum_preds)]  # Actual references"
   ]
  },
  {
   "cell_type": "markdown",
   "id": "53c33838",
   "metadata": {},
   "source": [
    "# 3. 🚀 T5 on MultiNews"
   ]
  },
  {
   "cell_type": "markdown",
   "id": "553e141e",
   "metadata": {},
   "source": [
    "**✅ Step 1: Inspect the Data**"
   ]
  },
  {
   "cell_type": "code",
   "execution_count": 29,
   "id": "f6b46919",
   "metadata": {},
   "outputs": [
    {
     "data": {
      "text/html": [
       "<div>\n",
       "<style scoped>\n",
       "    .dataframe tbody tr th:only-of-type {\n",
       "        vertical-align: middle;\n",
       "    }\n",
       "\n",
       "    .dataframe tbody tr th {\n",
       "        vertical-align: top;\n",
       "    }\n",
       "\n",
       "    .dataframe thead th {\n",
       "        text-align: right;\n",
       "    }\n",
       "</style>\n",
       "<table border=\"1\" class=\"dataframe\">\n",
       "  <thead>\n",
       "    <tr style=\"text-align: right;\">\n",
       "      <th></th>\n",
       "      <th>document</th>\n",
       "      <th>summary</th>\n",
       "    </tr>\n",
       "  </thead>\n",
       "  <tbody>\n",
       "    <tr>\n",
       "      <th>0</th>\n",
       "      <td>National Archives \\n \\n Yes, it’s that time ag...</td>\n",
       "      <td>– The unemployment rate dropped to 8.2% last m...</td>\n",
       "    </tr>\n",
       "    <tr>\n",
       "      <th>1</th>\n",
       "      <td>LOS ANGELES (AP) — In her first interview sinc...</td>\n",
       "      <td>– Shelly Sterling plans \"eventually\" to divorc...</td>\n",
       "    </tr>\n",
       "    <tr>\n",
       "      <th>2</th>\n",
       "      <td>GAITHERSBURG, Md. (AP) — A small, private jet ...</td>\n",
       "      <td>– A twin-engine Embraer jet that the FAA descr...</td>\n",
       "    </tr>\n",
       "    <tr>\n",
       "      <th>3</th>\n",
       "      <td>Tucker Carlson Exposes His Own Sexism on Twitt...</td>\n",
       "      <td>– Tucker Carlson is in deep doodoo with conser...</td>\n",
       "    </tr>\n",
       "    <tr>\n",
       "      <th>4</th>\n",
       "      <td>A man accused of removing another man's testic...</td>\n",
       "      <td>– What are the three most horrifying words in ...</td>\n",
       "    </tr>\n",
       "  </tbody>\n",
       "</table>\n",
       "</div>"
      ],
      "text/plain": [
       "                                            document  \\\n",
       "0  National Archives \\n \\n Yes, it’s that time ag...   \n",
       "1  LOS ANGELES (AP) — In her first interview sinc...   \n",
       "2  GAITHERSBURG, Md. (AP) — A small, private jet ...   \n",
       "3  Tucker Carlson Exposes His Own Sexism on Twitt...   \n",
       "4  A man accused of removing another man's testic...   \n",
       "\n",
       "                                             summary  \n",
       "0  – The unemployment rate dropped to 8.2% last m...  \n",
       "1  – Shelly Sterling plans \"eventually\" to divorc...  \n",
       "2  – A twin-engine Embraer jet that the FAA descr...  \n",
       "3  – Tucker Carlson is in deep doodoo with conser...  \n",
       "4  – What are the three most horrifying words in ...  "
      ]
     },
     "execution_count": 29,
     "metadata": {},
     "output_type": "execute_result"
    }
   ],
   "source": [
    "df_multi.head()"
   ]
  },
  {
   "cell_type": "markdown",
   "id": "19cae41c",
   "metadata": {},
   "source": [
    "**✅ Step 2: Generate Summaries Using T5**"
   ]
  },
  {
   "cell_type": "code",
   "execution_count": 30,
   "id": "c98c7873",
   "metadata": {},
   "outputs": [
    {
     "name": "stdout",
     "output_type": "stream",
     "text": [
      "\n",
      "📰 MultiNews Article #1 (truncated):\n",
      " National Archives \n",
      " \n",
      " Yes, it’s that time again, folks. It’s the first Friday of the month, when for one ever-so-brief moment the interests of Wall Street, Washington and Main Street are all aligned on one thing: Jobs. \n",
      " \n",
      " A fresh update on the U.S. employment situation for January hits the wires at 8:30 a.m. New York time offering one of the most important snapshots on how the economy fared during the previous month. Expectations are for 203,000 new jobs to be created, according to economists p ...\n",
      "\n",
      "✍️ Generated Summary #1:\n",
      " economists polled by Dow Jones Newswires expect 203,000 new jobs to be created . the unemployment rate is expected to hold steady at 8.3% . the economy has added 858,000 jobs since December .\n",
      "--------------------------------------------------------------------------------\n",
      "\n",
      "📰 MultiNews Article #2 (truncated):\n",
      " LOS ANGELES (AP) — In her first interview since the NBA banned her estranged husband, Shelly Sterling says she will fight to keep her share of the Los Angeles Clippers and plans one day to divorce Donald Sterling. \n",
      " \n",
      " (Click Prev or Next to continue viewing images.) \n",
      " \n",
      " ADVERTISEMENT (Click Prev or Next to continue viewing images.) \n",
      " \n",
      " Los Angeles Clippers co-owner Shelly Sterling, below, watches the Clippers play the Oklahoma City Thunder along with her attorney, Pierce O'Donnell, in the first  ...\n",
      "\n",
      "✍️ Generated Summary #2:\n",
      " shelly sterling says she will fight to keep her share of the los Angeles clippers . she says she plans one day to divorce her estranged husband, Donald sterling . sterling says the team is her \"passion\" and \"legacy to my family\"\n",
      "--------------------------------------------------------------------------------\n",
      "\n",
      "📰 MultiNews Article #3 (truncated):\n",
      " GAITHERSBURG, Md. (AP) — A small, private jet has crashed into a house in Maryland's Montgomery County on Monday, killing at least three people on board, authorities said. \n",
      " \n",
      " Preliminary information indicates at least three people were on board and didn't survive the Monday crash into home in Gaithersburg, a Washington, D.C. suburb, said Pete Piringer, a Montgomery County Fire and Rescue spokesman. \n",
      " \n",
      " He said a fourth person may have been aboard. \n",
      " \n",
      " Piringer said the jet crashed into one home ...\n",
      "\n",
      "✍️ Generated Summary #3:\n",
      " a small, private jet crashes into a home in gaithersburg, a Washington, D.C. suburb . preliminary information indicates at least three people were on board and didn't survive . a fourth person may have been aboard, a fire spokesman says .\n",
      "--------------------------------------------------------------------------------\n"
     ]
    }
   ],
   "source": [
    "multi_articles = df_multi[\"document\"][:3]\n",
    "multi_generated = []\n",
    "\n",
    "for i, article in enumerate(multi_articles):\n",
    "    print(f\"\\n📰 MultiNews Article #{i+1} (truncated):\\n\", article[:500], \"...\\n\")\n",
    "    \n",
    "    summary = generate_summary(article)\n",
    "    multi_generated.append(summary)\n",
    "    \n",
    "    print(f\"✍️ Generated Summary #{i+1}:\\n\", summary)\n",
    "    print(\"-\" * 80)"
   ]
  },
  {
   "cell_type": "markdown",
   "id": "0bd6a798",
   "metadata": {},
   "source": [
    "**✅ Step 3: ROUGE Evaluation**"
   ]
  },
  {
   "cell_type": "code",
   "execution_count": 31,
   "id": "b802ec54",
   "metadata": {},
   "outputs": [
    {
     "name": "stdout",
     "output_type": "stream",
     "text": [
      "📊 ROUGE Evaluation on 3 MultiNews samples:\n",
      " {'rouge1': 0.3602525630462772, 'rouge2': 0.21184298157982365, 'rougeL': 0.2478186706173735, 'rougeLsum': 0.24781867061737353}\n"
     ]
    }
   ],
   "source": [
    "from evaluate import load\n",
    "\n",
    "\n",
    "# Load ROUGE evaluator\n",
    "rouge = load(\"rouge\")\n",
    "\n",
    "reference_summaries = df_multi[\"summary\"][:3]\n",
    "\n",
    "scores = rouge.compute(predictions=multi_generated, references=reference_summaries)\n",
    "print(\"📊 ROUGE Evaluation on 3 MultiNews samples:\\n\", scores)"
   ]
  },
  {
   "cell_type": "markdown",
   "id": "dae5a1de",
   "metadata": {},
   "source": [
    "**✅ Step 4: Results Tabular Format**"
   ]
  },
  {
   "cell_type": "code",
   "execution_count": 32,
   "id": "9b8ca7df",
   "metadata": {},
   "outputs": [
    {
     "data": {
      "text/html": [
       "<div>\n",
       "<style scoped>\n",
       "    .dataframe tbody tr th:only-of-type {\n",
       "        vertical-align: middle;\n",
       "    }\n",
       "\n",
       "    .dataframe tbody tr th {\n",
       "        vertical-align: top;\n",
       "    }\n",
       "\n",
       "    .dataframe thead th {\n",
       "        text-align: right;\n",
       "    }\n",
       "</style>\n",
       "<table border=\"1\" class=\"dataframe\">\n",
       "  <thead>\n",
       "    <tr style=\"text-align: right;\">\n",
       "      <th></th>\n",
       "      <th>Metric</th>\n",
       "      <th>Precision</th>\n",
       "      <th>Recall</th>\n",
       "      <th>F1-Score</th>\n",
       "    </tr>\n",
       "  </thead>\n",
       "  <tbody>\n",
       "    <tr>\n",
       "      <th>0</th>\n",
       "      <td>ROUGE1</td>\n",
       "      <td>-</td>\n",
       "      <td>-</td>\n",
       "      <td>0.3603</td>\n",
       "    </tr>\n",
       "    <tr>\n",
       "      <th>1</th>\n",
       "      <td>ROUGE2</td>\n",
       "      <td>-</td>\n",
       "      <td>-</td>\n",
       "      <td>0.2118</td>\n",
       "    </tr>\n",
       "    <tr>\n",
       "      <th>2</th>\n",
       "      <td>ROUGEL</td>\n",
       "      <td>-</td>\n",
       "      <td>-</td>\n",
       "      <td>0.2478</td>\n",
       "    </tr>\n",
       "    <tr>\n",
       "      <th>3</th>\n",
       "      <td>ROUGELSUM</td>\n",
       "      <td>-</td>\n",
       "      <td>-</td>\n",
       "      <td>0.2478</td>\n",
       "    </tr>\n",
       "  </tbody>\n",
       "</table>\n",
       "</div>"
      ],
      "text/plain": [
       "      Metric Precision Recall  F1-Score\n",
       "0     ROUGE1         -      -    0.3603\n",
       "1     ROUGE2         -      -    0.2118\n",
       "2     ROUGEL         -      -    0.2478\n",
       "3  ROUGELSUM         -      -    0.2478"
      ]
     },
     "execution_count": 32,
     "metadata": {},
     "output_type": "execute_result"
    }
   ],
   "source": [
    "format_rouge_output(scores)"
   ]
  },
  {
   "cell_type": "markdown",
   "id": "60cc58a3",
   "metadata": {},
   "source": [
    "**✅ Prepare Multinews Evaluation Data**"
   ]
  },
  {
   "cell_type": "code",
   "execution_count": 33,
   "id": "413c70d7",
   "metadata": {},
   "outputs": [],
   "source": [
    "multi_preds = generated_summaries  # Replace with T5-generated outputs for XSum\n",
    "multi_refs = df_xsum[\"summary\"][:len(xsum_preds)]  # Actual references"
   ]
  },
  {
   "cell_type": "markdown",
   "id": "eaa834b4",
   "metadata": {},
   "source": [
    "# ✅ T5 with ROUGE & BERTScore"
   ]
  },
  {
   "cell_type": "code",
   "execution_count": 34,
   "id": "2445803f",
   "metadata": {},
   "outputs": [],
   "source": [
    "def evaluate_metrics(dataset_name, predictions, references):\n",
    "    # ROUGE\n",
    "    rouge_scores = rouge.compute(predictions=predictions, references=references, use_stemmer=True)\n",
    "\n",
    "    # BERTScore\n",
    "    bert_scores = bertscore.compute(predictions=predictions, references=references, lang=\"en\")\n",
    "    avg_bertscore = sum(bert_scores[\"f1\"]) / len(bert_scores[\"f1\"])\n",
    "\n",
    "    # Store result\n",
    "    summary_results.append({\n",
    "        \"Dataset\": dataset_name,\n",
    "        \"ROUGE-1\": round(rouge_scores[\"rouge1\"], 4),\n",
    "        \"ROUGE-2\": round(rouge_scores[\"rouge2\"], 4),\n",
    "        \"ROUGE-L\": round(rouge_scores[\"rougeL\"], 4),\n",
    "        \"BERTScore\": round(avg_bertscore, 4)\n",
    "    })"
   ]
  },
  {
   "cell_type": "code",
   "execution_count": 35,
   "id": "fe684ffc",
   "metadata": {},
   "outputs": [
    {
     "name": "stderr",
     "output_type": "stream",
     "text": [
      "C:\\Users\\SAMIM IMTIAZ\\anaconda3\\Lib\\site-packages\\torch\\nn\\modules\\module.py:1750: FutureWarning: `encoder_attention_mask` is deprecated and will be removed in version 4.55.0 for `RobertaSdpaSelfAttention.forward`.\n",
      "  return forward_call(*args, **kwargs)\n"
     ]
    },
    {
     "name": "stdout",
     "output_type": "stream",
     "text": [
      "✅ T5 Model ROUGE + BERTScore Summary\n",
      "      Dataset  ROUGE-1  ROUGE-2  ROUGE-L  BERTScore\n",
      "CNN DailyMail   0.3177   0.1184   0.2351     0.8595\n",
      "         XSum   0.0807   0.0000   0.0605     0.8196\n",
      "    MultiNews   0.0807   0.0000   0.0605     0.8196\n"
     ]
    }
   ],
   "source": [
    "# 🧹 Clear any previous results\n",
    "summary_results = []\n",
    "\n",
    "# ✅ Evaluate all datasets\n",
    "evaluate_metrics(\"CNN DailyMail\", cnn_preds, cnn_refs)\n",
    "evaluate_metrics(\"XSum\", xsum_preds, xsum_refs)\n",
    "evaluate_metrics(\"MultiNews\", multi_preds, multi_refs)\n",
    "\n",
    "# 📊 Display final summary\n",
    "df_summary = pd.DataFrame(summary_results)\n",
    "print(\"✅ T5 Model ROUGE + BERTScore Summary\")\n",
    "print(df_summary.to_string(index=False))\n"
   ]
  },
  {
   "cell_type": "markdown",
   "id": "7d9dfb74",
   "metadata": {},
   "source": [
    "# ✅ DataSets CSV Files to Save\n",
    "\n",
    "**So that we can use the dataset in different NoteBooks**"
   ]
  },
  {
   "cell_type": "code",
   "execution_count": 36,
   "id": "a175bba4",
   "metadata": {},
   "outputs": [],
   "source": [
    "# Save T5 datasets to CSV \n",
    "df_cnn.to_csv(\"cnn_dailymail.csv\", index=False)\n",
    "df_xsum.to_csv(\"xsum.csv\", index=False)\n",
    "df_multi.to_csv(\"multi_news.csv\", index=False)"
   ]
  },
  {
   "cell_type": "code",
   "execution_count": 38,
   "id": "66d63162",
   "metadata": {},
   "outputs": [
    {
     "name": "stdout",
     "output_type": "stream",
     "text": [
      "📊 CNN/DailyMail Shape: (5, 3)\n",
      "📊 XSum Shape: (5, 3)\n",
      "📊 MultiNews Shape: (5, 2)\n"
     ]
    }
   ],
   "source": [
    "# Display their shapes\n",
    "print(\"📊 CNN/DailyMail Shape:\", df_cnn.shape)\n",
    "print(\"📊 XSum Shape:\", df_xsum.shape)\n",
    "print(\"📊 MultiNews Shape:\", df_multi.shape)"
   ]
  },
  {
   "cell_type": "markdown",
   "id": "da9ede4b",
   "metadata": {},
   "source": [
    "# 💾 Save the Scores to .CSV Files\n",
    "\n",
    "**So that we can use to comapair models in different NoteBooks**"
   ]
  },
  {
   "cell_type": "code",
   "execution_count": 37,
   "id": "edfd01ba",
   "metadata": {},
   "outputs": [],
   "source": [
    "# Save to CSV\n",
    "df_summary[\"Model\"] = \"T5\"  \n",
    "df_summary.to_csv(\"t5_scores.csv\", index=False)"
   ]
  }
 ],
 "metadata": {
  "kernelspec": {
   "display_name": "Python 3",
   "language": "python",
   "name": "python3"
  },
  "language_info": {
   "codemirror_mode": {
    "name": "ipython",
    "version": 3
   },
   "file_extension": ".py",
   "mimetype": "text/x-python",
   "name": "python",
   "nbconvert_exporter": "python",
   "pygments_lexer": "ipython3",
   "version": "3.11.5"
  }
 },
 "nbformat": 4,
 "nbformat_minor": 5
}
