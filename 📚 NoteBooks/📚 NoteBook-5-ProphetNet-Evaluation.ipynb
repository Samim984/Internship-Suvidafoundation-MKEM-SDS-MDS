{
 "cells": [
  {
   "cell_type": "markdown",
   "id": "5d792be9",
   "metadata": {},
   "source": [
    "# 📚 NoteBook 6 ProphetNet Evaluation"
   ]
  },
  {
   "cell_type": "markdown",
   "id": "f34adec5",
   "metadata": {},
   "source": [
    "# 🚀 PROJECT PLAN\n",
    "MKEM Implementation – Transformer-Based Abstractive Text Summarization"
   ]
  },
  {
   "cell_type": "markdown",
   "id": "aeeb98d7",
   "metadata": {},
   "source": [
    "# 🎯 Problem Statement Recap"
   ]
  },
  {
   "cell_type": "markdown",
   "id": "44747e3c",
   "metadata": {},
   "source": [
    "# 🔍 Objective:\n",
    "\n",
    "To build and compare transformer-based summarization models (T5, BART, Pegasus,BARTScore,ProphetNet,BigBird,LED,mTS,FLAN-T5,GPT 3.5 Turbo) and then enhance them using MKEM (Multi-Knowledge-Enhanced Model) on curated English news datasets."
   ]
  },
  {
   "cell_type": "markdown",
   "id": "cc98f824",
   "metadata": {},
   "source": [
    "# 📌 Phase-1 Objective\n",
    "\n",
    "✅ Implement the following 3 summarization models:\n",
    "    \n",
    "PEGASUS (Google)---NoteBook(2)\n",
    "\n",
    "BART (Facebook)---NoteBook(3)\n",
    "\n",
    "T5 (Google)---NoteBook(1)\n",
    "\n",
    "Final Comparison + MKEM---NoteBook(4)\n",
    "\n",
    "NewsSum(Indian Newspaper)---NoteBook(5)\n",
    "\n",
    "BARTScore---NoteBook(6)\n",
    "\n",
    "ProphetNet---NoteBook(7)\n",
    "\n",
    "BigBird-Pegasus---NoteBook(8)\n",
    "\n",
    "LED(Longformer)---NoteBook(9)\n",
    "\n",
    "mTS ---NoteBook(10)\n",
    "\n",
    "FLAN-T5---NoteBook(11)\n",
    "\n",
    "GPT-3.5 Turbo---NoteBook(12)"
   ]
  },
  {
   "cell_type": "markdown",
   "id": "6e1cc981",
   "metadata": {},
   "source": [
    "# ✅ Evaluate on 3 benchmark datasets:\n",
    "    \n",
    "1. CNN/DailyMail\n",
    "\n",
    "2. Newssum (IndianNewsPaper)"
   ]
  },
  {
   "cell_type": "markdown",
   "id": "892e2140",
   "metadata": {},
   "source": [
    "# ✅ Evaluation Metrics:\n",
    "    \n",
    "ROUGE-1\n",
    "\n",
    "ROUGE-2\n",
    "\n",
    "ROUGE-L\n",
    "\n",
    "BERTScore"
   ]
  },
  {
   "cell_type": "markdown",
   "id": "453ee293",
   "metadata": {},
   "source": [
    "# 📊 Final Output (Per Model × Dataset):\n",
    "    \n",
    "You must submit structured results:\n",
    "\n",
    "Dataset name\n",
    "\n",
    "Model used\n",
    "\n",
    "ROUGE-1, ROUGE-2, ROUGE-L, BERTScore\n",
    "\n",
    "Inference Time\n",
    "\n",
    "GPU used\n",
    "\n",
    "Short analysis/observations"
   ]
  },
  {
   "cell_type": "markdown",
   "id": "6234649b",
   "metadata": {},
   "source": [
    "# 1.🚀 ProphetNet on CNN Dataset"
   ]
  },
  {
   "cell_type": "markdown",
   "id": "466937a1",
   "metadata": {},
   "source": [
    "**✏️ Step 1: Install & Import Libraries**"
   ]
  },
  {
   "cell_type": "code",
   "execution_count": 60,
   "id": "f57839a4",
   "metadata": {
    "scrolled": false
   },
   "outputs": [],
   "source": [
    "from transformers import ProphetNetTokenizer, ProphetNetForConditionalGeneration\n",
    "import torch\n",
    "import pandas as pd"
   ]
  },
  {
   "cell_type": "markdown",
   "id": "33ef328b",
   "metadata": {},
   "source": [
    "**✏️ Step 2: Load Model & Tokenizer**"
   ]
  },
  {
   "cell_type": "code",
   "execution_count": 56,
   "id": "ff50677c",
   "metadata": {},
   "outputs": [
    {
     "data": {
      "application/vnd.jupyter.widget-view+json": {
       "model_id": "ab8e9a1f169e4c49a273dd06c67b9a55",
       "version_major": 2,
       "version_minor": 0
      },
      "text/plain": [
       "tokenizer_config.json:   0%|          | 0.00/141 [00:00<?, ?B/s]"
      ]
     },
     "metadata": {},
     "output_type": "display_data"
    },
    {
     "name": "stderr",
     "output_type": "stream",
     "text": [
      "C:\\Users\\SAMIM IMTIAZ\\anaconda3\\Lib\\site-packages\\huggingface_hub\\file_download.py:143: UserWarning: `huggingface_hub` cache-system uses symlinks by default to efficiently store duplicated files but your machine does not support them in C:\\Users\\SAMIM IMTIAZ\\.cache\\huggingface\\hub\\models--microsoft--prophetnet-large-uncased. Caching files will still work but in a degraded version that might require more space on your disk. This warning can be disabled by setting the `HF_HUB_DISABLE_SYMLINKS_WARNING` environment variable. For more details, see https://huggingface.co/docs/huggingface_hub/how-to-cache#limitations.\n",
      "To support symlinks on Windows, you either need to activate Developer Mode or to run Python as an administrator. In order to activate developer mode, see this article: https://docs.microsoft.com/en-us/windows/apps/get-started/enable-your-device-for-development\n",
      "  warnings.warn(message)\n"
     ]
    },
    {
     "data": {
      "application/vnd.jupyter.widget-view+json": {
       "model_id": "2246979627854e7faef919a59db29192",
       "version_major": 2,
       "version_minor": 0
      },
      "text/plain": [
       "prophetnet.tokenizer: 0.00B [00:00, ?B/s]"
      ]
     },
     "metadata": {},
     "output_type": "display_data"
    },
    {
     "data": {
      "application/vnd.jupyter.widget-view+json": {
       "model_id": "9a65c168a19c499ca46ab844a5202fe3",
       "version_major": 2,
       "version_minor": 0
      },
      "text/plain": [
       "special_tokens_map.json:   0%|          | 0.00/90.0 [00:00<?, ?B/s]"
      ]
     },
     "metadata": {},
     "output_type": "display_data"
    },
    {
     "data": {
      "application/vnd.jupyter.widget-view+json": {
       "model_id": "f43ef64cee374a6b9f3ab2582f249535",
       "version_major": 2,
       "version_minor": 0
      },
      "text/plain": [
       "config.json: 0.00B [00:00, ?B/s]"
      ]
     },
     "metadata": {},
     "output_type": "display_data"
    },
    {
     "name": "stderr",
     "output_type": "stream",
     "text": [
      "C:\\Users\\SAMIM IMTIAZ\\anaconda3\\Lib\\site-packages\\transformers\\configuration_utils.py:334: UserWarning: Passing `gradient_checkpointing` to a config initialization is deprecated and will be removed in v5 Transformers. Using `model.gradient_checkpointing_enable()` instead, or if you are using the `Trainer` API, pass `gradient_checkpointing=True` in your `TrainingArguments`.\n",
      "  warnings.warn(\n",
      "Xet Storage is enabled for this repo, but the 'hf_xet' package is not installed. Falling back to regular HTTP download. For better performance, install the package with: `pip install huggingface_hub[hf_xet]` or `pip install hf_xet`\n"
     ]
    },
    {
     "data": {
      "application/vnd.jupyter.widget-view+json": {
       "model_id": "a6445bea140a433380631146250bd559",
       "version_major": 2,
       "version_minor": 0
      },
      "text/plain": [
       "model.safetensors:   0%|          | 0.00/1.57G [00:00<?, ?B/s]"
      ]
     },
     "metadata": {},
     "output_type": "display_data"
    },
    {
     "data": {
      "application/vnd.jupyter.widget-view+json": {
       "model_id": "7127bdb80af6495193c13380ac2fdd40",
       "version_major": 2,
       "version_minor": 0
      },
      "text/plain": [
       "generation_config.json:   0%|          | 0.00/293 [00:00<?, ?B/s]"
      ]
     },
     "metadata": {},
     "output_type": "display_data"
    }
   ],
   "source": [
    "model_name = \"microsoft/prophetnet-large-uncased\"\n",
    "tokenizer = ProphetNetTokenizer.from_pretrained(model_name)\n",
    "model = ProphetNetForConditionalGeneration.from_pretrained(model_name)\n",
    "\n",
    "device = 'cuda' if torch.cuda.is_available() else 'cpu'\n",
    "model = model.to(device)"
   ]
  },
  {
   "cell_type": "markdown",
   "id": "d83e9026",
   "metadata": {},
   "source": [
    "**✏️ Step 3: Load CNN Dataset**"
   ]
  },
  {
   "cell_type": "code",
   "execution_count": 57,
   "id": "92bc1d2f",
   "metadata": {},
   "outputs": [
    {
     "data": {
      "text/html": [
       "<div>\n",
       "<style scoped>\n",
       "    .dataframe tbody tr th:only-of-type {\n",
       "        vertical-align: middle;\n",
       "    }\n",
       "\n",
       "    .dataframe tbody tr th {\n",
       "        vertical-align: top;\n",
       "    }\n",
       "\n",
       "    .dataframe thead th {\n",
       "        text-align: right;\n",
       "    }\n",
       "</style>\n",
       "<table border=\"1\" class=\"dataframe\">\n",
       "  <thead>\n",
       "    <tr style=\"text-align: right;\">\n",
       "      <th></th>\n",
       "      <th>article</th>\n",
       "      <th>highlights</th>\n",
       "      <th>id</th>\n",
       "    </tr>\n",
       "  </thead>\n",
       "  <tbody>\n",
       "    <tr>\n",
       "      <th>0</th>\n",
       "      <td>LONDON, England (Reuters) -- Harry Potter star...</td>\n",
       "      <td>Harry Potter star Daniel Radcliffe gets £20M f...</td>\n",
       "      <td>42c027e4ff9730fbb3de84c1af0d2c506e41c3e4</td>\n",
       "    </tr>\n",
       "    <tr>\n",
       "      <th>1</th>\n",
       "      <td>Editor's note: In our Behind the Scenes series...</td>\n",
       "      <td>Mentally ill inmates in Miami are housed on th...</td>\n",
       "      <td>ee8871b15c50d0db17b0179a6d2beab35065f1e9</td>\n",
       "    </tr>\n",
       "    <tr>\n",
       "      <th>2</th>\n",
       "      <td>MINNEAPOLIS, Minnesota (CNN) -- Drivers who we...</td>\n",
       "      <td>NEW: \"I thought I was going to die,\" driver sa...</td>\n",
       "      <td>06352019a19ae31e527f37f7571c6dd7f0c5da37</td>\n",
       "    </tr>\n",
       "    <tr>\n",
       "      <th>3</th>\n",
       "      <td>WASHINGTON (CNN) -- Doctors removed five small...</td>\n",
       "      <td>Five small polyps found during procedure; \"non...</td>\n",
       "      <td>24521a2abb2e1f5e34e6824e0f9e56904a2b0e88</td>\n",
       "    </tr>\n",
       "    <tr>\n",
       "      <th>4</th>\n",
       "      <td>(CNN)  -- The National Football League has ind...</td>\n",
       "      <td>NEW: NFL chief, Atlanta Falcons owner critical...</td>\n",
       "      <td>7fe70cc8b12fab2d0a258fababf7d9c6b5e1262a</td>\n",
       "    </tr>\n",
       "  </tbody>\n",
       "</table>\n",
       "</div>"
      ],
      "text/plain": [
       "                                             article  \\\n",
       "0  LONDON, England (Reuters) -- Harry Potter star...   \n",
       "1  Editor's note: In our Behind the Scenes series...   \n",
       "2  MINNEAPOLIS, Minnesota (CNN) -- Drivers who we...   \n",
       "3  WASHINGTON (CNN) -- Doctors removed five small...   \n",
       "4  (CNN)  -- The National Football League has ind...   \n",
       "\n",
       "                                          highlights  \\\n",
       "0  Harry Potter star Daniel Radcliffe gets £20M f...   \n",
       "1  Mentally ill inmates in Miami are housed on th...   \n",
       "2  NEW: \"I thought I was going to die,\" driver sa...   \n",
       "3  Five small polyps found during procedure; \"non...   \n",
       "4  NEW: NFL chief, Atlanta Falcons owner critical...   \n",
       "\n",
       "                                         id  \n",
       "0  42c027e4ff9730fbb3de84c1af0d2c506e41c3e4  \n",
       "1  ee8871b15c50d0db17b0179a6d2beab35065f1e9  \n",
       "2  06352019a19ae31e527f37f7571c6dd7f0c5da37  \n",
       "3  24521a2abb2e1f5e34e6824e0f9e56904a2b0e88  \n",
       "4  7fe70cc8b12fab2d0a258fababf7d9c6b5e1262a  "
      ]
     },
     "execution_count": 57,
     "metadata": {},
     "output_type": "execute_result"
    }
   ],
   "source": [
    "import pandas as pd\n",
    "\n",
    "df_cnn = pd.read_csv(\"cnn_dailymail.csv\")\n",
    "df_cnn = df_cnn.dropna(subset=[\"article\", \"highlights\"])\n",
    "df_cnn = df_cnn[df_cnn[\"article\"].str.strip().astype(bool)]\n",
    "df_cnn = df_cnn[:5]  # For quick testing\n",
    "df_cnn.head()"
   ]
  },
  {
   "cell_type": "markdown",
   "id": "b67243d7",
   "metadata": {},
   "source": [
    "**✏️ Step 4: Define Summarization Function**"
   ]
  },
  {
   "cell_type": "code",
   "execution_count": 61,
   "id": "0b3e7e41",
   "metadata": {},
   "outputs": [],
   "source": [
    "def summarize_with_prophetnet(text):\n",
    "    inputs = tokenizer(text, max_length=1024, return_tensors=\"pt\", truncation=True).to(device)\n",
    "    summary_ids = model.generate(\n",
    "        inputs[\"input_ids\"],\n",
    "        max_length=150,\n",
    "        min_length=40,\n",
    "        num_beams=4,\n",
    "        length_penalty=2.0,\n",
    "        early_stopping=True\n",
    "    )\n",
    "    return tokenizer.decode(summary_ids[0], skip_special_tokens=True)\n"
   ]
  },
  {
   "cell_type": "markdown",
   "id": "05045d53",
   "metadata": {},
   "source": [
    "**✏️ Step 5: Generate Predictions**"
   ]
  },
  {
   "cell_type": "code",
   "execution_count": 62,
   "id": "f7458d70",
   "metadata": {},
   "outputs": [],
   "source": [
    "prophet_preds = [summarize_with_prophetnet(article) for article in df_cnn[\"article\"]]\n",
    "prophet_refs = df_cnn[\"highlights\"].tolist()"
   ]
  },
  {
   "cell_type": "markdown",
   "id": "580a1c14",
   "metadata": {},
   "source": [
    "**✏️ Step 6: Evaluate with ROUGE & BERTScore**"
   ]
  },
  {
   "cell_type": "code",
   "execution_count": 65,
   "id": "c5d3e4af",
   "metadata": {},
   "outputs": [
    {
     "name": "stdout",
     "output_type": "stream",
     "text": [
      "Requirement already satisfied: evaluate in c:\\users\\samim imtiaz\\anaconda3\\lib\\site-packages (0.4.5)\n",
      "Requirement already satisfied: datasets>=2.0.0 in c:\\users\\samim imtiaz\\anaconda3\\lib\\site-packages (from evaluate) (4.0.0)\n",
      "Requirement already satisfied: numpy>=1.17 in c:\\users\\samim imtiaz\\anaconda3\\lib\\site-packages (from evaluate) (1.26.4)\n",
      "Requirement already satisfied: dill in c:\\users\\samim imtiaz\\anaconda3\\lib\\site-packages (from evaluate) (0.3.6)\n",
      "Requirement already satisfied: pandas in c:\\users\\samim imtiaz\\anaconda3\\lib\\site-packages (from evaluate) (1.5.3)\n",
      "Requirement already satisfied: requests>=2.19.0 in c:\\users\\samim imtiaz\\anaconda3\\lib\\site-packages (from evaluate) (2.32.4)\n",
      "Requirement already satisfied: tqdm>=4.62.1 in c:\\users\\samim imtiaz\\anaconda3\\lib\\site-packages (from evaluate) (4.67.1)\n",
      "Requirement already satisfied: xxhash in c:\\users\\samim imtiaz\\anaconda3\\lib\\site-packages (from evaluate) (2.0.2)\n",
      "Requirement already satisfied: multiprocess in c:\\users\\samim imtiaz\\anaconda3\\lib\\site-packages (from evaluate) (0.70.14)\n",
      "Requirement already satisfied: fsspec>=2021.05.0 in c:\\users\\samim imtiaz\\anaconda3\\lib\\site-packages (from fsspec[http]>=2021.05.0->evaluate) (2025.3.0)\n",
      "Requirement already satisfied: huggingface-hub>=0.7.0 in c:\\users\\samim imtiaz\\anaconda3\\lib\\site-packages (from evaluate) (0.34.3)\n",
      "Requirement already satisfied: packaging in c:\\users\\samim imtiaz\\anaconda3\\lib\\site-packages (from evaluate) (23.1)\n",
      "Requirement already satisfied: filelock in c:\\users\\samim imtiaz\\anaconda3\\lib\\site-packages (from datasets>=2.0.0->evaluate) (3.9.0)\n",
      "Requirement already satisfied: pyarrow>=15.0.0 in c:\\users\\samim imtiaz\\anaconda3\\lib\\site-packages (from datasets>=2.0.0->evaluate) (21.0.0)\n",
      "Requirement already satisfied: pyyaml>=5.1 in c:\\users\\samim imtiaz\\anaconda3\\lib\\site-packages (from datasets>=2.0.0->evaluate) (6.0)\n",
      "Requirement already satisfied: aiohttp!=4.0.0a0,!=4.0.0a1 in c:\\users\\samim imtiaz\\anaconda3\\lib\\site-packages (from fsspec[http]>=2021.05.0->evaluate) (3.8.5)\n",
      "Requirement already satisfied: attrs>=17.3.0 in c:\\users\\samim imtiaz\\anaconda3\\lib\\site-packages (from aiohttp!=4.0.0a0,!=4.0.0a1->fsspec[http]>=2021.05.0->evaluate) (22.1.0)\n",
      "Requirement already satisfied: charset-normalizer<4.0,>=2.0 in c:\\users\\samim imtiaz\\anaconda3\\lib\\site-packages (from aiohttp!=4.0.0a0,!=4.0.0a1->fsspec[http]>=2021.05.0->evaluate) (2.0.4)\n",
      "Requirement already satisfied: multidict<7.0,>=4.5 in c:\\users\\samim imtiaz\\anaconda3\\lib\\site-packages (from aiohttp!=4.0.0a0,!=4.0.0a1->fsspec[http]>=2021.05.0->evaluate) (6.0.2)\n",
      "Requirement already satisfied: async-timeout<5.0,>=4.0.0a3 in c:\\users\\samim imtiaz\\anaconda3\\lib\\site-packages (from aiohttp!=4.0.0a0,!=4.0.0a1->fsspec[http]>=2021.05.0->evaluate) (4.0.2)\n",
      "Requirement already satisfied: yarl<2.0,>=1.0 in c:\\users\\samim imtiaz\\anaconda3\\lib\\site-packages (from aiohttp!=4.0.0a0,!=4.0.0a1->fsspec[http]>=2021.05.0->evaluate) (1.8.1)\n",
      "Requirement already satisfied: frozenlist>=1.1.1 in c:\\users\\samim imtiaz\\anaconda3\\lib\\site-packages (from aiohttp!=4.0.0a0,!=4.0.0a1->fsspec[http]>=2021.05.0->evaluate) (1.3.3)\n",
      "Requirement already satisfied: aiosignal>=1.1.2 in c:\\users\\samim imtiaz\\anaconda3\\lib\\site-packages (from aiohttp!=4.0.0a0,!=4.0.0a1->fsspec[http]>=2021.05.0->evaluate) (1.2.0)\n",
      "Requirement already satisfied: idna>=2.0 in c:\\users\\samim imtiaz\\anaconda3\\lib\\site-packages (from yarl<2.0,>=1.0->aiohttp!=4.0.0a0,!=4.0.0a1->fsspec[http]>=2021.05.0->evaluate) (3.4)\n",
      "Requirement already satisfied: typing-extensions>=3.7.4.3 in c:\\users\\samim imtiaz\\anaconda3\\lib\\site-packages (from huggingface-hub>=0.7.0->evaluate) (4.12.2)\n",
      "Requirement already satisfied: urllib3<3,>=1.21.1 in c:\\users\\samim imtiaz\\anaconda3\\lib\\site-packages (from requests>=2.19.0->evaluate) (1.26.16)\n",
      "Requirement already satisfied: certifi>=2017.4.17 in c:\\users\\samim imtiaz\\anaconda3\\lib\\site-packages (from requests>=2.19.0->evaluate) (2024.12.14)\n",
      "Requirement already satisfied: colorama in c:\\users\\samim imtiaz\\anaconda3\\lib\\site-packages (from tqdm>=4.62.1->evaluate) (0.4.6)\n",
      "Requirement already satisfied: python-dateutil>=2.8.1 in c:\\users\\samim imtiaz\\anaconda3\\lib\\site-packages (from pandas->evaluate) (2.8.2)\n",
      "Requirement already satisfied: pytz>=2020.1 in c:\\users\\samim imtiaz\\anaconda3\\lib\\site-packages (from pandas->evaluate) (2023.3.post1)\n",
      "Requirement already satisfied: six>=1.5 in c:\\users\\samim imtiaz\\anaconda3\\lib\\site-packages (from python-dateutil>=2.8.1->pandas->evaluate) (1.16.0)\n"
     ]
    }
   ],
   "source": [
    "!pip install evaluate"
   ]
  },
  {
   "cell_type": "code",
   "execution_count": 70,
   "id": "cca416d9",
   "metadata": {
    "scrolled": true
   },
   "outputs": [
    {
     "name": "stderr",
     "output_type": "stream",
     "text": [
      "Some weights of RobertaModel were not initialized from the model checkpoint at roberta-large and are newly initialized: ['pooler.dense.bias', 'pooler.dense.weight']\n",
      "You should probably TRAIN this model on a down-stream task to be able to use it for predictions and inference.\n",
      "C:\\Users\\SAMIM IMTIAZ\\anaconda3\\Lib\\site-packages\\torch\\nn\\modules\\module.py:1750: FutureWarning: `encoder_attention_mask` is deprecated and will be removed in version 4.55.0 for `RobertaSdpaSelfAttention.forward`.\n",
      "  return forward_call(*args, **kwargs)\n"
     ]
    },
    {
     "name": "stdout",
     "output_type": "stream",
     "text": [
      "📊 ProphetNet on CNN Dataset\n",
      "ROUGE-1 Score: 0.2368\n",
      "ROUGE-2 Score: 0.0647\n",
      "ROUGE-L Score: 0.1433\n",
      "BERTScore F1 : 0.8246\n"
     ]
    }
   ],
   "source": [
    "import evaluate\n",
    "import numpy as np\n",
    "\n",
    "# Load metrics\n",
    "rouge = evaluate.load(\"rouge\")\n",
    "bertscore = evaluate.load(\"bertscore\")\n",
    "\n",
    "# 🔍 ROUGE\n",
    "rouge_result = rouge.compute(predictions=prophet_preds, references=prophet_refs)\n",
    "rouge1 = rouge_result[\"rouge1\"]\n",
    "rouge2 = rouge_result[\"rouge2\"]\n",
    "rougeL = rouge_result[\"rougeL\"]\n",
    "\n",
    "# 🔍 BERTScore\n",
    "bert_score = bertscore.compute(predictions=prophet_preds, references=prophet_refs, lang=\"en\")\n",
    "bertscore_f1 = np.mean(bert_score[\"f1\"])\n",
    "\n",
    "# 📊 Final Output\n",
    "print(\"📊 ProphetNet on CNN Dataset\")\n",
    "print(f\"ROUGE-1 Score: {rouge1:.4f}\")\n",
    "print(f\"ROUGE-2 Score: {rouge2:.4f}\")\n",
    "print(f\"ROUGE-L Score: {rougeL:.4f}\")\n",
    "print(f\"BERTScore F1 : {bertscore_f1:.4f}\")"
   ]
  },
  {
   "cell_type": "markdown",
   "id": "50c42004",
   "metadata": {},
   "source": [
    "# 💾 Save the Scores to .CSV Files\n",
    "\n",
    "**So that we can use to comapair models in different NoteBooks**"
   ]
  },
  {
   "cell_type": "code",
   "execution_count": 71,
   "id": "e141a34f",
   "metadata": {},
   "outputs": [
    {
     "data": {
      "text/html": [
       "<div>\n",
       "<style scoped>\n",
       "    .dataframe tbody tr th:only-of-type {\n",
       "        vertical-align: middle;\n",
       "    }\n",
       "\n",
       "    .dataframe tbody tr th {\n",
       "        vertical-align: top;\n",
       "    }\n",
       "\n",
       "    .dataframe thead th {\n",
       "        text-align: right;\n",
       "    }\n",
       "</style>\n",
       "<table border=\"1\" class=\"dataframe\">\n",
       "  <thead>\n",
       "    <tr style=\"text-align: right;\">\n",
       "      <th></th>\n",
       "      <th>Model</th>\n",
       "      <th>Dataset</th>\n",
       "      <th>ROUGE-1</th>\n",
       "      <th>ROUGE-2</th>\n",
       "      <th>ROUGE-L</th>\n",
       "      <th>BERTScore</th>\n",
       "      <th>GPU_Used</th>\n",
       "      <th>Inference_Time</th>\n",
       "      <th>Comments</th>\n",
       "    </tr>\n",
       "  </thead>\n",
       "  <tbody>\n",
       "    <tr>\n",
       "      <th>0</th>\n",
       "      <td>ProphetNet</td>\n",
       "      <td>CNN/DailyMail</td>\n",
       "      <td>0.23685</td>\n",
       "      <td>0.064652</td>\n",
       "      <td>0.143279</td>\n",
       "      <td>0.82461</td>\n",
       "      <td>CPU</td>\n",
       "      <td>TBD</td>\n",
       "      <td>ProphetNet performs reasonably well on news su...</td>\n",
       "    </tr>\n",
       "  </tbody>\n",
       "</table>\n",
       "</div>"
      ],
      "text/plain": [
       "        Model        Dataset  ROUGE-1   ROUGE-2   ROUGE-L  BERTScore GPU_Used  \\\n",
       "0  ProphetNet  CNN/DailyMail  0.23685  0.064652  0.143279    0.82461      CPU   \n",
       "\n",
       "  Inference_Time                                           Comments  \n",
       "0            TBD  ProphetNet performs reasonably well on news su...  "
      ]
     },
     "execution_count": 71,
     "metadata": {},
     "output_type": "execute_result"
    }
   ],
   "source": [
    "import pandas as pd\n",
    "\n",
    "# ✅ Create a DataFrame to store model evaluation results\n",
    "prophetnet_scores = pd.DataFrame({\n",
    "    \"Model\": [\"ProphetNet\"],\n",
    "    \"Dataset\": [\"CNN/DailyMail\"],\n",
    "    \"ROUGE-1\": [rouge1],\n",
    "    \"ROUGE-2\": [rouge2],\n",
    "    \"ROUGE-L\": [rougeL],\n",
    "    \"BERTScore\": [bertscore_f1],\n",
    "    \"GPU_Used\": [torch.cuda.get_device_name(0) if torch.cuda.is_available() else \"CPU\"],\n",
    "    \"Inference_Time\": [\"TBD\"],  # You can later replace \"TBD\" with actual measured time\n",
    "    \"Comments\": [\"ProphetNet performs reasonably well on news summarization task.\"]\n",
    "})\n",
    "\n",
    "# ✅ Save to CSV\n",
    "prophetnet_scores.to_csv(\"model_scores_prophetnet_cnn.csv\", index=False)\n",
    "\n",
    "# ✅ Preview\n",
    "prophetnet_scores"
   ]
  },
  {
   "cell_type": "markdown",
   "id": "246afafa",
   "metadata": {},
   "source": [
    "# 2.🚀 ProphetNet on NewsSum Dataset"
   ]
  },
  {
   "cell_type": "markdown",
   "id": "a57babe4",
   "metadata": {},
   "source": [
    "**✏️ Step 1: Load NewsSum Dataset**"
   ]
  },
  {
   "cell_type": "code",
   "execution_count": 76,
   "id": "a38801d7",
   "metadata": {},
   "outputs": [
    {
     "data": {
      "text/html": [
       "<div>\n",
       "<style scoped>\n",
       "    .dataframe tbody tr th:only-of-type {\n",
       "        vertical-align: middle;\n",
       "    }\n",
       "\n",
       "    .dataframe tbody tr th {\n",
       "        vertical-align: top;\n",
       "    }\n",
       "\n",
       "    .dataframe thead th {\n",
       "        text-align: right;\n",
       "    }\n",
       "</style>\n",
       "<table border=\"1\" class=\"dataframe\">\n",
       "  <thead>\n",
       "    <tr style=\"text-align: right;\">\n",
       "      <th></th>\n",
       "      <th>Headline</th>\n",
       "      <th>Article</th>\n",
       "      <th>Category</th>\n",
       "      <th>Summary</th>\n",
       "    </tr>\n",
       "  </thead>\n",
       "  <tbody>\n",
       "    <tr>\n",
       "      <th>0</th>\n",
       "      <td>Elephant death brings to fore man-animal confl...</td>\n",
       "      <td>The death of a pregnant elephant in the buffer...</td>\n",
       "      <td>Local News</td>\n",
       "      <td>Thousands of farmers in Kerala have either aba...</td>\n",
       "    </tr>\n",
       "    <tr>\n",
       "      <th>1</th>\n",
       "      <td>Cases filed after two â€˜commit suicideâ€™ in ...</td>\n",
       "      <td>Two suicides were reported from Vadodara and D...</td>\n",
       "      <td>Crime and Justice</td>\n",
       "      <td>In the first incident, a 30-year-old woman all...</td>\n",
       "    </tr>\n",
       "    <tr>\n",
       "      <th>2</th>\n",
       "      <td>Woman alleges father tied to MP hospital bed o...</td>\n",
       "      <td>A day after a woman alleged that her father ha...</td>\n",
       "      <td>Health and Wellness</td>\n",
       "      <td>The hospital denied the allegation, saying the...</td>\n",
       "    </tr>\n",
       "    <tr>\n",
       "      <th>3</th>\n",
       "      <td>Sena member, author, app designer â€“ the many...</td>\n",
       "      <td>Assistant police inspector Sachin Vaze, who wa...</td>\n",
       "      <td>Defense</td>\n",
       "      <td>On Saturday, Vaze along with police constables...</td>\n",
       "    </tr>\n",
       "    <tr>\n",
       "      <th>4</th>\n",
       "      <td>Manager, owner of resort where Gujarat Congres...</td>\n",
       "      <td>The manager and owner of a resort in Rajkot, w...</td>\n",
       "      <td>Politics</td>\n",
       "      <td>The resort is reportedly owned by Indranil Raj...</td>\n",
       "    </tr>\n",
       "  </tbody>\n",
       "</table>\n",
       "</div>"
      ],
      "text/plain": [
       "                                            Headline  \\\n",
       "0  Elephant death brings to fore man-animal confl...   \n",
       "1  Cases filed after two â€˜commit suicideâ€™ in ...   \n",
       "2  Woman alleges father tied to MP hospital bed o...   \n",
       "3  Sena member, author, app designer â€“ the many...   \n",
       "4  Manager, owner of resort where Gujarat Congres...   \n",
       "\n",
       "                                             Article             Category  \\\n",
       "0  The death of a pregnant elephant in the buffer...           Local News   \n",
       "1  Two suicides were reported from Vadodara and D...    Crime and Justice   \n",
       "2  A day after a woman alleged that her father ha...  Health and Wellness   \n",
       "3  Assistant police inspector Sachin Vaze, who wa...              Defense   \n",
       "4  The manager and owner of a resort in Rajkot, w...             Politics   \n",
       "\n",
       "                                             Summary  \n",
       "0  Thousands of farmers in Kerala have either aba...  \n",
       "1  In the first incident, a 30-year-old woman all...  \n",
       "2  The hospital denied the allegation, saying the...  \n",
       "3  On Saturday, Vaze along with police constables...  \n",
       "4  The resort is reportedly owned by Indranil Raj...  "
      ]
     },
     "execution_count": 76,
     "metadata": {},
     "output_type": "execute_result"
    }
   ],
   "source": [
    "import pandas as pd\n",
    "\n",
    "# Load the cleaned NewsSum dataset\n",
    "df_newsum = pd.read_csv(\"newsum_cleaned.csv\")\n",
    "\n",
    "# Optional: Limit to top 5 for testing\n",
    "df_newsum = df_newsum[:5]\n",
    "\n",
    "# Preview the structure\n",
    "df_newsum.head()"
   ]
  },
  {
   "cell_type": "markdown",
   "id": "96edd44d",
   "metadata": {},
   "source": [
    "**✏️Step 2: Generate Summaries with ProphetNet**"
   ]
  },
  {
   "cell_type": "code",
   "execution_count": 77,
   "id": "7d26740a",
   "metadata": {},
   "outputs": [],
   "source": [
    "# Generate summaries using ProphetNet for NewsSum\n",
    "prophet_preds_newsum = [summarize_with_prophetnet(article) for article in df_newsum[\"Article\"]]\n",
    "prophet_refs_newsum = df_newsum[\"Summary\"].tolist()"
   ]
  },
  {
   "cell_type": "markdown",
   "id": "3ce85ef5",
   "metadata": {},
   "source": [
    "**✏️Step 3: Evaluate with ROUGE and BERTScore**"
   ]
  },
  {
   "cell_type": "code",
   "execution_count": 80,
   "id": "af4599a1",
   "metadata": {},
   "outputs": [
    {
     "name": "stdout",
     "output_type": "stream",
     "text": [
      "🔍 ProphetNet - NewsSum ROUGE:\n",
      " {'rouge1': 0.21813003663003663, 'rouge2': 0.10525130598522978, 'rougeL': 0.17054029304029303, 'rougeLsum': 0.17054029304029303}\n"
     ]
    },
    {
     "name": "stderr",
     "output_type": "stream",
     "text": [
      "Some weights of RobertaModel were not initialized from the model checkpoint at roberta-large and are newly initialized: ['pooler.dense.bias', 'pooler.dense.weight']\n",
      "You should probably TRAIN this model on a down-stream task to be able to use it for predictions and inference.\n"
     ]
    },
    {
     "name": "stdout",
     "output_type": "stream",
     "text": [
      "🧠 ProphetNet - NewsSum BERTScore: 0.8251974701881408\n"
     ]
    },
    {
     "data": {
      "text/html": [
       "<div>\n",
       "<style scoped>\n",
       "    .dataframe tbody tr th:only-of-type {\n",
       "        vertical-align: middle;\n",
       "    }\n",
       "\n",
       "    .dataframe tbody tr th {\n",
       "        vertical-align: top;\n",
       "    }\n",
       "\n",
       "    .dataframe thead th {\n",
       "        text-align: right;\n",
       "    }\n",
       "</style>\n",
       "<table border=\"1\" class=\"dataframe\">\n",
       "  <thead>\n",
       "    <tr style=\"text-align: right;\">\n",
       "      <th></th>\n",
       "      <th>Model</th>\n",
       "      <th>Dataset</th>\n",
       "      <th>ROUGE-1</th>\n",
       "      <th>ROUGE-2</th>\n",
       "      <th>ROUGE-L</th>\n",
       "      <th>BERTScore</th>\n",
       "      <th>GPU_Used</th>\n",
       "      <th>Inference_Time</th>\n",
       "      <th>Comments</th>\n",
       "    </tr>\n",
       "  </thead>\n",
       "  <tbody>\n",
       "    <tr>\n",
       "      <th>0</th>\n",
       "      <td>ProphetNet</td>\n",
       "      <td>CNN/DailyMail</td>\n",
       "      <td>23680000.0</td>\n",
       "      <td>6470000.0</td>\n",
       "      <td>14330000.0</td>\n",
       "      <td>82460000.0</td>\n",
       "      <td>CPU</td>\n",
       "      <td>TBD</td>\n",
       "      <td>ProphetNet performs reasonably well on news su...</td>\n",
       "    </tr>\n",
       "  </tbody>\n",
       "</table>\n",
       "</div>"
      ],
      "text/plain": [
       "        Model        Dataset     ROUGE-1    ROUGE-2     ROUGE-L   BERTScore  \\\n",
       "0  ProphetNet  CNN/DailyMail  23680000.0  6470000.0  14330000.0  82460000.0   \n",
       "\n",
       "  GPU_Used Inference_Time                                           Comments  \n",
       "0      CPU            TBD  ProphetNet performs reasonably well on news su...  "
      ]
     },
     "execution_count": 80,
     "metadata": {},
     "output_type": "execute_result"
    }
   ],
   "source": [
    "import evaluate\n",
    "\n",
    "# Load metrics\n",
    "rouge = evaluate.load(\"rouge\")\n",
    "bertscore = evaluate.load(\"bertscore\")\n",
    "\n",
    "# ROUGE evaluation\n",
    "rouge_result_newsum = rouge.compute(predictions=prophet_preds_newsum, references=prophet_refs_newsum)\n",
    "print(\"🔍 ProphetNet - NewsSum ROUGE:\\n\", rouge_result_newsum)\n",
    "\n",
    "# BERTScore evaluation\n",
    "bertscore_result_newsum = bertscore.compute(predictions=prophet_preds_newsum, references=prophet_refs_newsum, lang=\"en\")\n",
    "avg_bertscore_newsum = sum(bertscore_result_newsum[\"f1\"]) / len(bertscore_result_newsum[\"f1\"])\n",
    "print(\"🧠 ProphetNet - NewsSum BERTScore:\", avg_bertscore_newsum)\n",
    "\n",
    "# ✅ Save to CSV\n",
    "prophetnet_scores.to_csv(\"ProphetNet_Newsum_Scores.csv\", index=False)\n",
    "\n",
    "# ✅ Preview\n",
    "prophetnet_scores"
   ]
  },
  {
   "cell_type": "markdown",
   "id": "3ecf0ce9",
   "metadata": {},
   "source": [
    "# 💾 Step 4: Save Evaluation Scores to CSV"
   ]
  },
  {
   "cell_type": "code",
   "execution_count": 79,
   "id": "ddb2d832",
   "metadata": {},
   "outputs": [],
   "source": [
    "import csv\n",
    "\n",
    "# Save ProphetNet + NewsSum results to CSV\n",
    "with open(\"ProphetNet_Newsum_Scores.csv\", mode=\"w\", newline=\"\") as file:\n",
    "    writer = csv.writer(file)\n",
    "    writer.writerow([\"Model\", \"Dataset\", \"ROUGE-1\", \"ROUGE-2\", \"ROUGE-L\", \"BERTScore\"])\n",
    "    writer.writerow([\n",
    "        \"ProphetNet\", \"NewsSum\",\n",
    "        rouge_result_newsum[\"rouge1\"],\n",
    "        rouge_result_newsum[\"rouge2\"],\n",
    "        rouge_result_newsum[\"rougeL\"],\n",
    "        avg_bertscore_newsum\n",
    "    ])"
   ]
  }
 ],
 "metadata": {
  "kernelspec": {
   "display_name": "Python 3",
   "language": "python",
   "name": "python3"
  },
  "language_info": {
   "codemirror_mode": {
    "name": "ipython",
    "version": 3
   },
   "file_extension": ".py",
   "mimetype": "text/x-python",
   "name": "python",
   "nbconvert_exporter": "python",
   "pygments_lexer": "ipython3",
   "version": "3.11.5"
  }
 },
 "nbformat": 4,
 "nbformat_minor": 5
}
