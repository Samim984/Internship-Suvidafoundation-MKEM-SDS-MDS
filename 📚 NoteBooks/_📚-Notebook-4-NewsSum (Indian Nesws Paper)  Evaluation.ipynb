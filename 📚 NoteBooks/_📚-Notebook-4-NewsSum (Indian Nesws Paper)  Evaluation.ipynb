{
 "cells": [
  {
   "cell_type": "markdown",
   "id": "52cbb242",
   "metadata": {},
   "source": [
    "# 📚Notebook 5: NewsSum (Indian Nesws Paper)  Evaluation "
   ]
  },
  {
   "cell_type": "markdown",
   "id": "ad667ebc",
   "metadata": {},
   "source": [
    "# 🤖ON T5, PEGASUS & BART"
   ]
  },
  {
   "cell_type": "markdown",
   "id": "4e64d461",
   "metadata": {},
   "source": [
    "**✏️ Step 1: Setup & Load Pretrained Models**"
   ]
  },
  {
   "cell_type": "code",
   "execution_count": 53,
   "id": "1276d772",
   "metadata": {},
   "outputs": [],
   "source": [
    "from transformers import AutoTokenizer, AutoModelForSeq2SeqLM\n",
    "from evaluate import load\n",
    "import torch\n",
    "import pandas as pd\n",
    "\n",
    "# Load evaluation metrics\n",
    "rouge = load(\"rouge\")\n",
    "bertscore = load(\"bertscore\")\n",
    "\n",
    "device = torch.device(\"cuda\" if torch.cuda.is_available() else \"cpu\")"
   ]
  },
  {
   "cell_type": "markdown",
   "id": "334e8fff",
   "metadata": {},
   "source": [
    "**✏️ Step 2: Load NewsSum Dataset**"
   ]
  },
  {
   "cell_type": "code",
   "execution_count": 54,
   "id": "6fe11c7b",
   "metadata": {},
   "outputs": [
    {
     "data": {
      "text/html": [
       "<div>\n",
       "<style scoped>\n",
       "    .dataframe tbody tr th:only-of-type {\n",
       "        vertical-align: middle;\n",
       "    }\n",
       "\n",
       "    .dataframe tbody tr th {\n",
       "        vertical-align: top;\n",
       "    }\n",
       "\n",
       "    .dataframe thead th {\n",
       "        text-align: right;\n",
       "    }\n",
       "</style>\n",
       "<table border=\"1\" class=\"dataframe\">\n",
       "  <thead>\n",
       "    <tr style=\"text-align: right;\">\n",
       "      <th></th>\n",
       "      <th>Index</th>\n",
       "      <th>Article_id</th>\n",
       "      <th>Headline</th>\n",
       "      <th>Human Summerry</th>\n",
       "      <th>Published Date</th>\n",
       "      <th>URL of News Article</th>\n",
       "      <th>Article</th>\n",
       "      <th>Category</th>\n",
       "    </tr>\n",
       "  </thead>\n",
       "  <tbody>\n",
       "    <tr>\n",
       "      <th>0</th>\n",
       "      <td>1</td>\n",
       "      <td>INDEXP19988</td>\n",
       "      <td>Elephant death brings to fore man-animal confl...</td>\n",
       "      <td>Thousands of farmers in Kerala have either aba...</td>\n",
       "      <td>June 8, 2020  7:28:42 am</td>\n",
       "      <td>https://indianexpress.com/article/india/elepha...</td>\n",
       "      <td>The death of a pregnant elephant in the buffer...</td>\n",
       "      <td>Local News</td>\n",
       "    </tr>\n",
       "    <tr>\n",
       "      <th>1</th>\n",
       "      <td>2</td>\n",
       "      <td>INDEXP19987</td>\n",
       "      <td>Cases filed after two â€˜commit suicideâ€™ in ...</td>\n",
       "      <td>In the first incident, a 30-year-old woman all...</td>\n",
       "      <td>June 8, 2020  2:06:22 am</td>\n",
       "      <td>https://indianexpress.com/article/india/cases-...</td>\n",
       "      <td>Two suicides were reported from Vadodara and D...</td>\n",
       "      <td>Crime and Justice</td>\n",
       "    </tr>\n",
       "    <tr>\n",
       "      <th>2</th>\n",
       "      <td>3</td>\n",
       "      <td>INDEXP19986</td>\n",
       "      <td>Woman alleges father tied to MP hospital bed o...</td>\n",
       "      <td>The hospital denied the allegation, saying the...</td>\n",
       "      <td>June 8, 2020  2:05:16 am</td>\n",
       "      <td>https://indianexpress.com/article/india/woman-...</td>\n",
       "      <td>A day after a woman alleged that her father ha...</td>\n",
       "      <td>Health and Wellness</td>\n",
       "    </tr>\n",
       "    <tr>\n",
       "      <th>3</th>\n",
       "      <td>4</td>\n",
       "      <td>INDEXP19985</td>\n",
       "      <td>Sena member, author, app designer â€“ the many...</td>\n",
       "      <td>On Saturday, Vaze along with police constables...</td>\n",
       "      <td>June 8, 2020  7:30:15 am</td>\n",
       "      <td>https://indianexpress.com/article/india/sena-m...</td>\n",
       "      <td>Assistant police inspector Sachin Vaze, who wa...</td>\n",
       "      <td>Defense</td>\n",
       "    </tr>\n",
       "    <tr>\n",
       "      <th>4</th>\n",
       "      <td>5</td>\n",
       "      <td>INDEXP19984</td>\n",
       "      <td>Manager, owner of resort where Gujarat Congres...</td>\n",
       "      <td>The resort is reportedly owned by Indranil Raj...</td>\n",
       "      <td>June 8, 2020  7:19:53 am</td>\n",
       "      <td>https://indianexpress.com/article/india/manage...</td>\n",
       "      <td>The manager and owner of a resort in Rajkot, w...</td>\n",
       "      <td>Politics</td>\n",
       "    </tr>\n",
       "  </tbody>\n",
       "</table>\n",
       "</div>"
      ],
      "text/plain": [
       "   Index   Article_id                                           Headline  \\\n",
       "0      1  INDEXP19988  Elephant death brings to fore man-animal confl...   \n",
       "1      2  INDEXP19987  Cases filed after two â€˜commit suicideâ€™ in ...   \n",
       "2      3  INDEXP19986  Woman alleges father tied to MP hospital bed o...   \n",
       "3      4  INDEXP19985  Sena member, author, app designer â€“ the many...   \n",
       "4      5  INDEXP19984  Manager, owner of resort where Gujarat Congres...   \n",
       "\n",
       "                                      Human Summerry  \\\n",
       "0  Thousands of farmers in Kerala have either aba...   \n",
       "1  In the first incident, a 30-year-old woman all...   \n",
       "2  The hospital denied the allegation, saying the...   \n",
       "3  On Saturday, Vaze along with police constables...   \n",
       "4  The resort is reportedly owned by Indranil Raj...   \n",
       "\n",
       "              Published Date  \\\n",
       "0   June 8, 2020  7:28:42 am   \n",
       "1   June 8, 2020  2:06:22 am   \n",
       "2   June 8, 2020  2:05:16 am   \n",
       "3   June 8, 2020  7:30:15 am   \n",
       "4   June 8, 2020  7:19:53 am   \n",
       "\n",
       "                                 URL of News Article  \\\n",
       "0  https://indianexpress.com/article/india/elepha...   \n",
       "1  https://indianexpress.com/article/india/cases-...   \n",
       "2  https://indianexpress.com/article/india/woman-...   \n",
       "3  https://indianexpress.com/article/india/sena-m...   \n",
       "4  https://indianexpress.com/article/india/manage...   \n",
       "\n",
       "                                             Article             Category  \n",
       "0  The death of a pregnant elephant in the buffer...           Local News  \n",
       "1  Two suicides were reported from Vadodara and D...    Crime and Justice  \n",
       "2  A day after a woman alleged that her father ha...  Health and Wellness  \n",
       "3  Assistant police inspector Sachin Vaze, who wa...              Defense  \n",
       "4  The manager and owner of a resort in Rajkot, w...             Politics  "
      ]
     },
     "execution_count": 54,
     "metadata": {},
     "output_type": "execute_result"
    }
   ],
   "source": [
    "import pandas as pd\n",
    "\n",
    "# Load the Excel file\n",
    "df_newsum = pd.read_excel(\"NewsSum.xlsx\")\n",
    "\n",
    "#Inspect the first few rows\n",
    "df_newsum.head()"
   ]
  },
  {
   "cell_type": "code",
   "execution_count": 55,
   "id": "e019a4c8",
   "metadata": {},
   "outputs": [
    {
     "data": {
      "text/plain": [
       "Index(['Index', 'Article_id', 'Headline', 'Human Summerry', 'Published Date',\n",
       "       'URL of News Article', 'Article', 'Category'],\n",
       "      dtype='object')"
      ]
     },
     "execution_count": 55,
     "metadata": {},
     "output_type": "execute_result"
    }
   ],
   "source": [
    "df_newsum.columns"
   ]
  },
  {
   "cell_type": "code",
   "execution_count": 56,
   "id": "4a2dca25",
   "metadata": {},
   "outputs": [
    {
     "name": "stdout",
     "output_type": "stream",
     "text": [
      "📊 NewsSum Dataset Shape: (1003, 8)\n"
     ]
    }
   ],
   "source": [
    "print(\"📊 NewsSum Dataset Shape:\", df_newsum.shape)"
   ]
  },
  {
   "cell_type": "markdown",
   "id": "f1fd4251",
   "metadata": {},
   "source": [
    "**✏️ Step 3: Clean, Rename & Save**"
   ]
  },
  {
   "cell_type": "code",
   "execution_count": 57,
   "id": "11618379",
   "metadata": {},
   "outputs": [],
   "source": [
    "# Step 1: Copy the selected columns safely\n",
    "df_newsum = df_newsum[['Headline', 'Article', 'Category', 'Human Summerry']].copy()\n",
    "\n",
    "# Step 2: Rename column\n",
    "df_newsum.rename(columns={'Human Summerry': 'Summary'}, inplace=True)\n",
    "\n",
    "# Step 3: Drop rows with missing values\n",
    "df_newsum.dropna(subset=['Headline', 'Article', 'Category', 'Summary'], inplace=True)"
   ]
  },
  {
   "cell_type": "code",
   "execution_count": 58,
   "id": "045320cb",
   "metadata": {},
   "outputs": [
    {
     "data": {
      "text/html": [
       "<div>\n",
       "<style scoped>\n",
       "    .dataframe tbody tr th:only-of-type {\n",
       "        vertical-align: middle;\n",
       "    }\n",
       "\n",
       "    .dataframe tbody tr th {\n",
       "        vertical-align: top;\n",
       "    }\n",
       "\n",
       "    .dataframe thead th {\n",
       "        text-align: right;\n",
       "    }\n",
       "</style>\n",
       "<table border=\"1\" class=\"dataframe\">\n",
       "  <thead>\n",
       "    <tr style=\"text-align: right;\">\n",
       "      <th></th>\n",
       "      <th>Headline</th>\n",
       "      <th>Article</th>\n",
       "      <th>Category</th>\n",
       "      <th>Summary</th>\n",
       "    </tr>\n",
       "  </thead>\n",
       "  <tbody>\n",
       "    <tr>\n",
       "      <th>0</th>\n",
       "      <td>Elephant death brings to fore man-animal confl...</td>\n",
       "      <td>The death of a pregnant elephant in the buffer...</td>\n",
       "      <td>Local News</td>\n",
       "      <td>Thousands of farmers in Kerala have either aba...</td>\n",
       "    </tr>\n",
       "    <tr>\n",
       "      <th>1</th>\n",
       "      <td>Cases filed after two â€˜commit suicideâ€™ in ...</td>\n",
       "      <td>Two suicides were reported from Vadodara and D...</td>\n",
       "      <td>Crime and Justice</td>\n",
       "      <td>In the first incident, a 30-year-old woman all...</td>\n",
       "    </tr>\n",
       "    <tr>\n",
       "      <th>2</th>\n",
       "      <td>Woman alleges father tied to MP hospital bed o...</td>\n",
       "      <td>A day after a woman alleged that her father ha...</td>\n",
       "      <td>Health and Wellness</td>\n",
       "      <td>The hospital denied the allegation, saying the...</td>\n",
       "    </tr>\n",
       "    <tr>\n",
       "      <th>3</th>\n",
       "      <td>Sena member, author, app designer â€“ the many...</td>\n",
       "      <td>Assistant police inspector Sachin Vaze, who wa...</td>\n",
       "      <td>Defense</td>\n",
       "      <td>On Saturday, Vaze along with police constables...</td>\n",
       "    </tr>\n",
       "    <tr>\n",
       "      <th>4</th>\n",
       "      <td>Manager, owner of resort where Gujarat Congres...</td>\n",
       "      <td>The manager and owner of a resort in Rajkot, w...</td>\n",
       "      <td>Politics</td>\n",
       "      <td>The resort is reportedly owned by Indranil Raj...</td>\n",
       "    </tr>\n",
       "  </tbody>\n",
       "</table>\n",
       "</div>"
      ],
      "text/plain": [
       "                                            Headline  \\\n",
       "0  Elephant death brings to fore man-animal confl...   \n",
       "1  Cases filed after two â€˜commit suicideâ€™ in ...   \n",
       "2  Woman alleges father tied to MP hospital bed o...   \n",
       "3  Sena member, author, app designer â€“ the many...   \n",
       "4  Manager, owner of resort where Gujarat Congres...   \n",
       "\n",
       "                                             Article             Category  \\\n",
       "0  The death of a pregnant elephant in the buffer...           Local News   \n",
       "1  Two suicides were reported from Vadodara and D...    Crime and Justice   \n",
       "2  A day after a woman alleged that her father ha...  Health and Wellness   \n",
       "3  Assistant police inspector Sachin Vaze, who wa...              Defense   \n",
       "4  The manager and owner of a resort in Rajkot, w...             Politics   \n",
       "\n",
       "                                             Summary  \n",
       "0  Thousands of farmers in Kerala have either aba...  \n",
       "1  In the first incident, a 30-year-old woman all...  \n",
       "2  The hospital denied the allegation, saying the...  \n",
       "3  On Saturday, Vaze along with police constables...  \n",
       "4  The resort is reportedly owned by Indranil Raj...  "
      ]
     },
     "execution_count": 58,
     "metadata": {},
     "output_type": "execute_result"
    }
   ],
   "source": [
    "df_newsum.head()"
   ]
  },
  {
   "cell_type": "markdown",
   "id": "0dae88a1",
   "metadata": {},
   "source": [
    "**✏️ Step 4: Clean Category Values**"
   ]
  },
  {
   "cell_type": "code",
   "execution_count": 59,
   "id": "093b7fd6",
   "metadata": {},
   "outputs": [
    {
     "data": {
      "text/plain": [
       "Health and Wellness     303\n",
       "Politics                192\n",
       "Crime and Justice       132\n",
       " Local News             101\n",
       " National News           56\n",
       "Education                48\n",
       "Defense                  43\n",
       "International News       41\n",
       "National News            39\n",
       "Business and Finance     27\n",
       " Environment             14\n",
       "Sports                    7\n",
       "Name: Category, dtype: int64"
      ]
     },
     "execution_count": 59,
     "metadata": {},
     "output_type": "execute_result"
    }
   ],
   "source": [
    "# Count how many times each category appears\n",
    "df_newsum['Category'].value_counts()"
   ]
  },
  {
   "cell_type": "code",
   "execution_count": 60,
   "id": "855da92e",
   "metadata": {},
   "outputs": [],
   "source": [
    "# Step: Combine rare categories into \"Other\"\n",
    "category_counts = df_newsum['Category'].value_counts()\n",
    "rare_categories = category_counts[category_counts < 30].index\n",
    "\n",
    "df_newsum['Category'] = df_newsum['Category'].replace(rare_categories, 'Other')"
   ]
  },
  {
   "cell_type": "code",
   "execution_count": 61,
   "id": "0082e56e",
   "metadata": {},
   "outputs": [
    {
     "name": "stdout",
     "output_type": "stream",
     "text": [
      "✅ Updated Category Counts:\n",
      "Health and Wellness    303\n",
      "Politics               192\n",
      "Crime and Justice      132\n",
      " Local News            101\n",
      " National News          56\n",
      "Other                   48\n",
      "Education               48\n",
      "Defense                 43\n",
      "International News      41\n",
      "National News           39\n",
      "Name: Category, dtype: int64\n"
     ]
    }
   ],
   "source": [
    "print(\"✅ Updated Category Counts:\")\n",
    "print(df_newsum['Category'].value_counts())"
   ]
  },
  {
   "cell_type": "markdown",
   "id": "30bc65ae",
   "metadata": {},
   "source": [
    "**✏️Step 5: Save Cleaned Dataset**"
   ]
  },
  {
   "cell_type": "code",
   "execution_count": 62,
   "id": "484acf95",
   "metadata": {},
   "outputs": [
    {
     "name": "stdout",
     "output_type": "stream",
     "text": [
      "✅ Cleaned NewsSum dataset saved as 'newsum_cleaned.csv'\n"
     ]
    }
   ],
   "source": [
    "# Save cleaned and simplified NewsSum dataset\n",
    "df_newsum.to_csv(\"newsum_cleaned.csv\", index=False)\n",
    "print(\"✅ Cleaned NewsSum dataset saved as 'newsum_cleaned.csv'\")"
   ]
  },
  {
   "cell_type": "code",
   "execution_count": 63,
   "id": "53483db6",
   "metadata": {},
   "outputs": [
    {
     "name": "stdout",
     "output_type": "stream",
     "text": [
      "✅ NewsSum Shape: (1003, 4)\n"
     ]
    },
    {
     "data": {
      "text/html": [
       "<div>\n",
       "<style scoped>\n",
       "    .dataframe tbody tr th:only-of-type {\n",
       "        vertical-align: middle;\n",
       "    }\n",
       "\n",
       "    .dataframe tbody tr th {\n",
       "        vertical-align: top;\n",
       "    }\n",
       "\n",
       "    .dataframe thead th {\n",
       "        text-align: right;\n",
       "    }\n",
       "</style>\n",
       "<table border=\"1\" class=\"dataframe\">\n",
       "  <thead>\n",
       "    <tr style=\"text-align: right;\">\n",
       "      <th></th>\n",
       "      <th>Headline</th>\n",
       "      <th>Article</th>\n",
       "      <th>Category</th>\n",
       "      <th>Summary</th>\n",
       "    </tr>\n",
       "  </thead>\n",
       "  <tbody>\n",
       "    <tr>\n",
       "      <th>0</th>\n",
       "      <td>Elephant death brings to fore man-animal confl...</td>\n",
       "      <td>The death of a pregnant elephant in the buffer...</td>\n",
       "      <td>Local News</td>\n",
       "      <td>Thousands of farmers in Kerala have either aba...</td>\n",
       "    </tr>\n",
       "    <tr>\n",
       "      <th>1</th>\n",
       "      <td>Cases filed after two â€˜commit suicideâ€™ in ...</td>\n",
       "      <td>Two suicides were reported from Vadodara and D...</td>\n",
       "      <td>Crime and Justice</td>\n",
       "      <td>In the first incident, a 30-year-old woman all...</td>\n",
       "    </tr>\n",
       "    <tr>\n",
       "      <th>2</th>\n",
       "      <td>Woman alleges father tied to MP hospital bed o...</td>\n",
       "      <td>A day after a woman alleged that her father ha...</td>\n",
       "      <td>Health and Wellness</td>\n",
       "      <td>The hospital denied the allegation, saying the...</td>\n",
       "    </tr>\n",
       "    <tr>\n",
       "      <th>3</th>\n",
       "      <td>Sena member, author, app designer â€“ the many...</td>\n",
       "      <td>Assistant police inspector Sachin Vaze, who wa...</td>\n",
       "      <td>Defense</td>\n",
       "      <td>On Saturday, Vaze along with police constables...</td>\n",
       "    </tr>\n",
       "    <tr>\n",
       "      <th>4</th>\n",
       "      <td>Manager, owner of resort where Gujarat Congres...</td>\n",
       "      <td>The manager and owner of a resort in Rajkot, w...</td>\n",
       "      <td>Politics</td>\n",
       "      <td>The resort is reportedly owned by Indranil Raj...</td>\n",
       "    </tr>\n",
       "  </tbody>\n",
       "</table>\n",
       "</div>"
      ],
      "text/plain": [
       "                                            Headline  \\\n",
       "0  Elephant death brings to fore man-animal confl...   \n",
       "1  Cases filed after two â€˜commit suicideâ€™ in ...   \n",
       "2  Woman alleges father tied to MP hospital bed o...   \n",
       "3  Sena member, author, app designer â€“ the many...   \n",
       "4  Manager, owner of resort where Gujarat Congres...   \n",
       "\n",
       "                                             Article             Category  \\\n",
       "0  The death of a pregnant elephant in the buffer...           Local News   \n",
       "1  Two suicides were reported from Vadodara and D...    Crime and Justice   \n",
       "2  A day after a woman alleged that her father ha...  Health and Wellness   \n",
       "3  Assistant police inspector Sachin Vaze, who wa...              Defense   \n",
       "4  The manager and owner of a resort in Rajkot, w...             Politics   \n",
       "\n",
       "                                             Summary  \n",
       "0  Thousands of farmers in Kerala have either aba...  \n",
       "1  In the first incident, a 30-year-old woman all...  \n",
       "2  The hospital denied the allegation, saying the...  \n",
       "3  On Saturday, Vaze along with police constables...  \n",
       "4  The resort is reportedly owned by Indranil Raj...  "
      ]
     },
     "execution_count": 63,
     "metadata": {},
     "output_type": "execute_result"
    }
   ],
   "source": [
    "import pandas as pd\n",
    "\n",
    "# Load the cleaned NewsSum dataset\n",
    "df_newsum = pd.read_csv(\"newsum_cleaned.csv\")\n",
    "\n",
    "# Display shape and first few rows\n",
    "print(\"✅ NewsSum Shape:\", df_newsum.shape)\n",
    "df_newsum.head()"
   ]
  },
  {
   "cell_type": "markdown",
   "id": "35d50b2a",
   "metadata": {},
   "source": [
    "# 🚀  Evaluate T5, PEGASUS, and BART on NewsSum"
   ]
  },
  {
   "cell_type": "code",
   "execution_count": 64,
   "id": "785d2230",
   "metadata": {},
   "outputs": [
    {
     "name": "stderr",
     "output_type": "stream",
     "text": [
      "Some weights of PegasusForConditionalGeneration were not initialized from the model checkpoint at google/pegasus-xsum and are newly initialized: ['model.decoder.embed_positions.weight', 'model.encoder.embed_positions.weight']\n",
      "You should probably TRAIN this model on a down-stream task to be able to use it for predictions and inference.\n"
     ]
    }
   ],
   "source": [
    "from transformers import (\n",
    "    T5Tokenizer, T5ForConditionalGeneration,\n",
    "    PegasusTokenizer, PegasusForConditionalGeneration,\n",
    "    BartTokenizer, BartForConditionalGeneration\n",
    ")\n",
    "import torch\n",
    "\n",
    "device = torch.device(\"cuda\" if torch.cuda.is_available() else \"cpu\")\n",
    "\n",
    "# T5\n",
    "t5_tokenizer = T5Tokenizer.from_pretrained(\"t5-base\")\n",
    "t5_model = T5ForConditionalGeneration.from_pretrained(\"t5-base\").to(device)\n",
    "\n",
    "# PEGASUS\n",
    "pegasus_tokenizer = PegasusTokenizer.from_pretrained(\"google/pegasus-xsum\")\n",
    "pegasus_model = PegasusForConditionalGeneration.from_pretrained(\"google/pegasus-xsum\").to(device)\n",
    "\n",
    "# BART\n",
    "bart_tokenizer = BartTokenizer.from_pretrained(\"facebook/bart-large-cnn\")\n",
    "bart_model = BartForConditionalGeneration.from_pretrained(\"facebook/bart-large-cnn\").to(device)\n"
   ]
  },
  {
   "cell_type": "markdown",
   "id": "17f094c3",
   "metadata": {},
   "source": [
    "**✅ Preparation**"
   ]
  },
  {
   "cell_type": "markdown",
   "id": "99905dce",
   "metadata": {},
   "source": [
    "**✅ Define Summary Functions:T5**"
   ]
  },
  {
   "cell_type": "code",
   "execution_count": 65,
   "id": "01beef82",
   "metadata": {},
   "outputs": [],
   "source": [
    "def generate_summary_with_t5(text):\n",
    "    input_text = \"summarize: \" + text\n",
    "    inputs = t5_tokenizer(input_text, return_tensors=\"pt\", max_length=512, truncation=True).to(device)\n",
    "\n",
    "    summary_ids = t5_model.generate(\n",
    "        inputs[\"input_ids\"],\n",
    "        max_length=60,\n",
    "        min_length=10,\n",
    "        length_penalty=2.0,\n",
    "        num_beams=4,\n",
    "        early_stopping=True\n",
    "    )\n",
    "\n",
    "    return t5_tokenizer.decode(summary_ids[0], skip_special_tokens=True)"
   ]
  },
  {
   "cell_type": "markdown",
   "id": "cc54e1ad",
   "metadata": {},
   "source": [
    "**✅ Define Summary Functions:PEGASUS**"
   ]
  },
  {
   "cell_type": "code",
   "execution_count": 66,
   "id": "bf3d958d",
   "metadata": {},
   "outputs": [],
   "source": [
    "def generate_summary_with_pegasus(text):\n",
    "    inputs = pegasus_tokenizer(text, return_tensors=\"pt\", max_length=1024, truncation=True).to(device)\n",
    "\n",
    "    summary_ids = pegasus_model.generate(\n",
    "        inputs[\"input_ids\"],\n",
    "        max_length=60,\n",
    "        min_length=10,\n",
    "        length_penalty=2.0,\n",
    "        num_beams=4,\n",
    "        early_stopping=True\n",
    "    )\n",
    "\n",
    "    return pegasus_tokenizer.decode(summary_ids[0], skip_special_tokens=True)"
   ]
  },
  {
   "cell_type": "markdown",
   "id": "0de3d2b2",
   "metadata": {},
   "source": [
    "**✅ Define Summary Functions:BART**"
   ]
  },
  {
   "cell_type": "code",
   "execution_count": 67,
   "id": "3448fba5",
   "metadata": {},
   "outputs": [],
   "source": [
    "def generate_summary_with_bart(text):\n",
    "    inputs = bart_tokenizer(text, return_tensors=\"pt\", max_length=1024, truncation=True).to(device)\n",
    "\n",
    "    summary_ids = bart_model.generate(\n",
    "        inputs[\"input_ids\"],\n",
    "        max_length=60,\n",
    "        min_length=10,\n",
    "        length_penalty=2.0,\n",
    "        num_beams=4,\n",
    "        early_stopping=True\n",
    "    )\n",
    "\n",
    "    return bart_tokenizer.decode(summary_ids[0], skip_special_tokens=True)"
   ]
  },
  {
   "cell_type": "markdown",
   "id": "b228a7f1",
   "metadata": {},
   "source": [
    "**✅ Summaries Generation with T5**"
   ]
  },
  {
   "cell_type": "code",
   "execution_count": 68,
   "id": "d51b1081",
   "metadata": {},
   "outputs": [],
   "source": [
    "sample_articles = df_newsum[\"Article\"][:3]"
   ]
  },
  {
   "cell_type": "code",
   "execution_count": 69,
   "id": "047008ad",
   "metadata": {},
   "outputs": [],
   "source": [
    "def summarize_with_t5(text):\n",
    "    inputs = t5_tokenizer(text, return_tensors=\"pt\", max_length=512, truncation=True).to(device)\n",
    "    summary_ids = t5_model.generate(inputs[\"input_ids\"], max_length=60, min_length=10, length_penalty=2.0, num_beams=4)\n",
    "    return t5_tokenizer.decode(summary_ids[0], skip_special_tokens=True)\n"
   ]
  },
  {
   "cell_type": "code",
   "execution_count": 70,
   "id": "6abbdf3d",
   "metadata": {},
   "outputs": [
    {
     "name": "stdout",
     "output_type": "stream",
     "text": [
      "\n",
      "📰 NewsSum Article #1:\n",
      " The death of a pregnant elephant in the buffer zone of Silent Valley National Park in Keralaâ€™s Palakkad district, after the pachyderm allegedly bit into a coconut filled with firecrackers, has brought to the forefront the stateâ€™s growing, unresolved challenge of managing man-animal conflicts. Thousands of farmers in Kerala have either abandoned cultivation or have stopped nursing their farm la ...\n",
      "\n",
      "🧠 T5 Summary #1:\n",
      " 7,229 in 2017-18.â€ Read | Death of an elephant in Silent Valley National Park in Kerala . During the same period, 416 wild elephants died in Kerala, with 24 deaths attributed to â€unnatural causesâ€\n",
      "----------------------------------------------------------------------------------------------------\n",
      "\n",
      "📰 NewsSum Article #2:\n",
      " Two suicides were reported from Vadodara and Dahod each on the intervening night of Saturday and Sunday. Police have registered a case of accidental death in both cases. In the first incident, a 30-year-old woman allegedly hanged herself from a tree near the primary school in Bhiloi village of Dahod. Police said the deceased, Vanaben Parmar, was alone at home and her parents were in Ahmedabad. The ...\n",
      "\n",
      "🧠 T5 Summary #2:\n",
      " police have registered a case of accidental death in both incidents . In the first incident, a 30-year-old woman allegedly hanged herself from a tree near the primary school in Dahod . In another incident, a 40-year-old\n",
      "----------------------------------------------------------------------------------------------------\n",
      "\n",
      "📰 NewsSum Article #3:\n",
      " A day after a woman alleged that her father had been tied to a bed in a private hospital in Madhya Pradeshâ€™s Shajapur for non-payment of dues, the Shajapur district administration seized the treatment papers and took statements of the doctors and staff on duty, who denied the allegations. Sheela Dangi, a resident of Ranara village in Rajgarh district, alleged on Friday that City Hospital, where  ...\n",
      "\n",
      "🧠 T5 Summary #3:\n",
      " a resident of Ranara village in Rajgarh district alleged on Friday that her father had been tied to a bed in a private hospital in Shajapur for non-payment of dues . sheela Dangi, a resident of Ranara village\n",
      "----------------------------------------------------------------------------------------------------\n"
     ]
    }
   ],
   "source": [
    "sample_articles = df_newsum[\"Article\"][:3]\n",
    "\n",
    "for i, article in enumerate(sample_articles):\n",
    "    print(f\"\\n📰 NewsSum Article #{i+1}:\\n\", article[:400], \"...\\n\")\n",
    "    \n",
    "    t5_summary = summarize_with_t5(article)\n",
    "    print(f\"🧠 T5 Summary #{i+1}:\\n\", t5_summary)\n",
    "\n",
    "    print(\"-\" * 100)"
   ]
  },
  {
   "cell_type": "markdown",
   "id": "a3a5877d",
   "metadata": {},
   "source": [
    "**✅ Summaries Generation with PEGASUS**"
   ]
  },
  {
   "cell_type": "code",
   "execution_count": 71,
   "id": "0b5bc939",
   "metadata": {},
   "outputs": [],
   "source": [
    "# PEGASUS Summary Function\n",
    "def summarize_with_pegasus(text):\n",
    "    inputs = pegasus_tokenizer(text, truncation=True, padding=\"longest\", return_tensors=\"pt\").to(device)\n",
    "    summary_ids = pegasus_model.generate(inputs[\"input_ids\"], max_length=60, min_length=10, length_penalty=2.0, num_beams=4)\n",
    "    return pegasus_tokenizer.decode(summary_ids[0], skip_special_tokens=True)"
   ]
  },
  {
   "cell_type": "code",
   "execution_count": 72,
   "id": "fc61da8d",
   "metadata": {},
   "outputs": [
    {
     "name": "stdout",
     "output_type": "stream",
     "text": [
      "\n",
      "📰 NewsSum Article #1:\n",
      " The death of a pregnant elephant in the buffer zone of Silent Valley National Park in Keralaâ€™s Palakkad district, after the pachyderm allegedly bit into a coconut filled with firecrackers, has brought to the forefront the stateâ€™s growing, unresolved challenge of managing man-animal conflicts. Thousands of farmers in Kerala have either abandoned cultivation or have stopped nursing their farm la ...\n",
      "\n",
      "🦅 PEGASUS Summary #1:\n",
      " In our series of letters from African journalists, film-maker and columnist M Ilyas Kashmiri looks at the growing menace of man-animal conflicts in Kerala.\n",
      "------------------------------------------------------------------------------------------------------------------------\n",
      "\n",
      "📰 NewsSum Article #2:\n",
      " Two suicides were reported from Vadodara and Dahod each on the intervening night of Saturday and Sunday. Police have registered a case of accidental death in both cases. In the first incident, a 30-year-old woman allegedly hanged herself from a tree near the primary school in Bhiloi village of Dahod. Police said the deceased, Vanaben Parmar, was alone at home and her parents were in Ahmedabad. The ...\n",
      "\n",
      "🦅 PEGASUS Summary #2:\n",
      " Two people allegedly took their own lives in the last 24 hours in Gujarat, police said on Sunday.\n",
      "------------------------------------------------------------------------------------------------------------------------\n",
      "\n",
      "📰 NewsSum Article #3:\n",
      " A day after a woman alleged that her father had been tied to a bed in a private hospital in Madhya Pradeshâ€™s Shajapur for non-payment of dues, the Shajapur district administration seized the treatment papers and took statements of the doctors and staff on duty, who denied the allegations. Sheela Dangi, a resident of Ranara village in Rajgarh district, alleged on Friday that City Hospital, where  ...\n",
      "\n",
      "🦅 PEGASUS Summary #3:\n",
      " A day after a woman alleged that her father had been tied to a bed in a private hospital in Madhya PradeshTMs Shajapur for non-payment of dues, the Shajapur district administration seized the treatment papers and took statements of the doctors and staff on duty, who denied\n",
      "------------------------------------------------------------------------------------------------------------------------\n"
     ]
    }
   ],
   "source": [
    "sample_articles = df_newsum[\"Article\"][:3]\n",
    "\n",
    "for i, article in enumerate(sample_articles):\n",
    "    print(f\"\\n📰 NewsSum Article #{i+1}:\\n\", article[:400], \"...\\n\")\n",
    "    \n",
    "    pegasus_summary = summarize_with_pegasus(article)\n",
    "    print(f\"🦅 PEGASUS Summary #{i+1}:\\n\", pegasus_summary)\n",
    "\n",
    "    \n",
    "    print(\"-\" * 120)"
   ]
  },
  {
   "cell_type": "markdown",
   "id": "baffc087",
   "metadata": {},
   "source": [
    "**✅ Summaries Generation with BART**"
   ]
  },
  {
   "cell_type": "code",
   "execution_count": 28,
   "id": "db211b1c",
   "metadata": {},
   "outputs": [],
   "source": [
    "# BART Summary Function\n",
    "def summarize_with_bart(text):\n",
    "    inputs = bart_tokenizer(\n",
    "        text,\n",
    "        truncation=True,             # Prevent going beyond limit\n",
    "        max_length=1024,             # BART's max input length\n",
    "        padding=\"longest\",\n",
    "        return_tensors=\"pt\"\n",
    "    ).to(device)\n",
    "\n",
    "    summary_ids = bart_model.generate(\n",
    "        inputs[\"input_ids\"],\n",
    "        max_length=60,\n",
    "        min_length=10,\n",
    "        length_penalty=2.0,\n",
    "        num_beams=4,\n",
    "        early_stopping=True\n",
    "    )\n",
    "    return bart_tokenizer.decode(summary_ids[0], skip_special_tokens=True)"
   ]
  },
  {
   "cell_type": "code",
   "execution_count": 29,
   "id": "22f39661",
   "metadata": {},
   "outputs": [
    {
     "name": "stdout",
     "output_type": "stream",
     "text": [
      "\n",
      "📰 NewsSum Article #1:\n",
      " The death of a pregnant elephant in the buffer zone of Silent Valley National Park in Keralaâ€™s Palakkad district, after the pachyderm allegedly bit into a coconut filled with firecrackers, has brought to the forefront the stateâ€™s growing, unresolved challenge of managing man-animal conflicts. Thousands of farmers in Kerala have either abandoned cultivation or have stopped nursing their farm la ...\n",
      "\n",
      "🧠 BART Summary #1:\n",
      " Thousands of farmers in Kerala have either abandoned cultivation or have stopped nursing their farm lands. The number of incidents of human-animal conflict is increasing year by year. In 2018-19, as many as 7,890 incidents were reported, whereas it was 7,229 in 2017-\n",
      "------------------------------------------------------------------------------------------------------------------------\n",
      "\n",
      "📰 NewsSum Article #2:\n",
      " Two suicides were reported from Vadodara and Dahod each on the intervening night of Saturday and Sunday. Police have registered a case of accidental death in both cases. In the first incident, a 30-year-old woman allegedly hanged herself from a tree near the primary school in Bhiloi village of Dahod. Police said the deceased, Vanaben Parmar, was alone at home and her parents were in Ahmedabad. The ...\n",
      "\n",
      "🧠 BART Summary #2:\n",
      " Two suicides were reported from Vadodara and Dahod each on the intervening night of Saturday and Sunday. Police have registered a case of accidental death in both cases. In the first incident, a 30-year-old woman allegedly hanged herself from a tree near the primary school in\n",
      "------------------------------------------------------------------------------------------------------------------------\n",
      "\n",
      "📰 NewsSum Article #3:\n",
      " A day after a woman alleged that her father had been tied to a bed in a private hospital in Madhya Pradeshâ€™s Shajapur for non-payment of dues, the Shajapur district administration seized the treatment papers and took statements of the doctors and staff on duty, who denied the allegations. Sheela Dangi, a resident of Ranara village in Rajgarh district, alleged on Friday that City Hospital, where  ...\n",
      "\n",
      "🧠 BART Summary #3:\n",
      " Sheela Dangi, a resident of Ranara village in Rajgarh district, alleged on Friday that City Hospital, where her father had been admitted for close to a week, refused to discharge him. The hospital denied the allegation, saying the patient was tied to the bed because\n",
      "------------------------------------------------------------------------------------------------------------------------\n"
     ]
    }
   ],
   "source": [
    "sample_articles = df_newsum[\"Article\"][:3]\n",
    "\n",
    "for i, article in enumerate(sample_articles):\n",
    "    print(f\"\\n📰 NewsSum Article #{i+1}:\\n\", article[:400], \"...\\n\")\n",
    "\n",
    "    \n",
    "    bart_summary = summarize_with_bart(article)\n",
    "    print(f\"🧠 BART Summary #{i+1}:\\n\", bart_summary)\n",
    "   \n",
    "\n",
    "    print(\"-\" * 120)"
   ]
  },
  {
   "cell_type": "markdown",
   "id": "520dc07f",
   "metadata": {},
   "source": [
    "# 🎯Evaluate Model Summaries (ROUGE + BERTScore)"
   ]
  },
  {
   "cell_type": "markdown",
   "id": "abb03c3a",
   "metadata": {},
   "source": [
    "**🦅Evaluate_function**"
   ]
  },
  {
   "cell_type": "code",
   "execution_count": 73,
   "id": "77e1017a",
   "metadata": {},
   "outputs": [],
   "source": [
    "from evaluate import load\n",
    "\n",
    "# Load evaluation metrics\n",
    "rouge = load(\"rouge\")\n",
    "bertscore = load(\"bertscore\")\n",
    "\n",
    "# Global result list (define only once)\n",
    "summary_results = []\n",
    "\n",
    "# ✅ Define evaluation function\n",
    "def evaluate_metrics(dataset_name, predictions, references):\n",
    "    # ROUGE\n",
    "    rouge_scores = rouge.compute(predictions=predictions, references=references, use_stemmer=True)\n",
    "    \n",
    "    # BERTScore\n",
    "    bert_scores = bertscore.compute(predictions=predictions, references=references, lang=\"en\")\n",
    "    avg_bertscore = sum(bert_scores[\"f1\"]) / len(bert_scores[\"f1\"])\n",
    "    \n",
    "    # Save results\n",
    "    summary_results.append({\n",
    "        \"Dataset\": dataset_name,\n",
    "        \"ROUGE-1\": round(rouge_scores[\"rouge1\"], 4),\n",
    "        \"ROUGE-2\": round(rouge_scores[\"rouge2\"], 4),\n",
    "        \"ROUGE-L\": round(rouge_scores[\"rougeL\"], 4),\n",
    "        \"BERTScore\": round(avg_bertscore, 4)\n",
    "    })\n"
   ]
  },
  {
   "cell_type": "markdown",
   "id": "f3e14264",
   "metadata": {},
   "source": [
    "**🦅Evaluation_T5**"
   ]
  },
  {
   "cell_type": "code",
   "execution_count": 74,
   "id": "1203c06e",
   "metadata": {},
   "outputs": [],
   "source": [
    "t5_preds = [summarize_with_t5(article) for article in df_newsum[\"Article\"][:3]]\n",
    "t5_refs = df_newsum[\"Summary\"][:3].tolist()"
   ]
  },
  {
   "cell_type": "code",
   "execution_count": 75,
   "id": "b13e1399",
   "metadata": {},
   "outputs": [
    {
     "name": "stderr",
     "output_type": "stream",
     "text": [
      "Some weights of RobertaModel were not initialized from the model checkpoint at roberta-large and are newly initialized: ['pooler.dense.bias', 'pooler.dense.weight']\n",
      "You should probably TRAIN this model on a down-stream task to be able to use it for predictions and inference.\n",
      "C:\\Users\\SAMIM IMTIAZ\\anaconda3\\Lib\\site-packages\\torch\\nn\\modules\\module.py:1750: FutureWarning: `encoder_attention_mask` is deprecated and will be removed in version 4.55.0 for `RobertaSdpaSelfAttention.forward`.\n",
      "  return forward_call(*args, **kwargs)\n"
     ]
    }
   ],
   "source": [
    "evaluate_metrics(\"NewsSum-T5\", t5_preds, t5_refs)"
   ]
  },
  {
   "cell_type": "markdown",
   "id": "b620a46f",
   "metadata": {},
   "source": [
    "**🦅Evaluation_PEGASUS**"
   ]
  },
  {
   "cell_type": "code",
   "execution_count": 76,
   "id": "40407d89",
   "metadata": {},
   "outputs": [],
   "source": [
    "pegasus_preds = [summarize_with_t5(article) for article in df_newsum[\"Article\"][:3]]\n",
    "pegasus_refs = df_newsum[\"Summary\"][:3].tolist()"
   ]
  },
  {
   "cell_type": "code",
   "execution_count": 77,
   "id": "ee0c2b8a",
   "metadata": {},
   "outputs": [],
   "source": [
    "evaluate_metrics(\"NewsSum-PEGASUS\", pegasus_preds, pegasus_refs)"
   ]
  },
  {
   "cell_type": "markdown",
   "id": "45504588",
   "metadata": {},
   "source": [
    "**🦅Evaluation_BART**"
   ]
  },
  {
   "cell_type": "code",
   "execution_count": 78,
   "id": "8a889081",
   "metadata": {},
   "outputs": [],
   "source": [
    "bart_preds = [summarize_with_t5(article) for article in df_newsum[\"Article\"][:3]]\n",
    "bart_refs = df_newsum[\"Summary\"][:3].tolist()"
   ]
  },
  {
   "cell_type": "code",
   "execution_count": 79,
   "id": "28f2f98d",
   "metadata": {},
   "outputs": [],
   "source": [
    "evaluate_metrics(\"NewsSum-BART\", bart_preds, bart_refs)"
   ]
  },
  {
   "cell_type": "markdown",
   "id": "42d3d950",
   "metadata": {},
   "source": [
    "**📊 Final Evaluation Summary**"
   ]
  },
  {
   "cell_type": "code",
   "execution_count": 80,
   "id": "1be87009",
   "metadata": {},
   "outputs": [
    {
     "name": "stdout",
     "output_type": "stream",
     "text": [
      "📊 Final Evaluation Summary on NewsSum Dataset\n",
      "        Dataset  ROUGE-1  ROUGE-2  ROUGE-L  BERTScore\n",
      "     NewsSum-T5   0.3317   0.1949   0.2949     0.8533\n",
      "NewsSum-PEGASUS   0.3317   0.1949   0.2949     0.8533\n",
      "   NewsSum-BART   0.3317   0.1949   0.2949     0.8533\n"
     ]
    }
   ],
   "source": [
    "import pandas as pd\n",
    "\n",
    "# Create a DataFrame from the collected results\n",
    "df_summary = pd.DataFrame(summary_results)\n",
    "\n",
    "print(\"📊 Final Evaluation Summary on NewsSum Dataset\")\n",
    "print(df_summary.to_string(index=False))"
   ]
  },
  {
   "cell_type": "code",
   "execution_count": 81,
   "id": "80f5944a",
   "metadata": {},
   "outputs": [],
   "source": [
    "df_newsum.to_csv(\"newsum_cleaned.csv\", index=False)"
   ]
  },
  {
   "cell_type": "markdown",
   "id": "928ea72e",
   "metadata": {},
   "source": [
    "💾 Save the Scores to .CSV Files\n",
    "\n",
    "**So that we can use to comapair models in different NoteBooks**"
   ]
  },
  {
   "cell_type": "code",
   "execution_count": 82,
   "id": "284bbc6e",
   "metadata": {},
   "outputs": [],
   "source": [
    "df_summary = pd.DataFrame(summary_results)\n",
    "df_summary.to_csv(\"newsum_model_scores.csv\", index=False)"
   ]
  }
 ],
 "metadata": {
  "kernelspec": {
   "display_name": "Python 3",
   "language": "python",
   "name": "python3"
  },
  "language_info": {
   "codemirror_mode": {
    "name": "ipython",
    "version": 3
   },
   "file_extension": ".py",
   "mimetype": "text/x-python",
   "name": "python",
   "nbconvert_exporter": "python",
   "pygments_lexer": "ipython3",
   "version": "3.11.5"
  }
 },
 "nbformat": 4,
 "nbformat_minor": 5
}
