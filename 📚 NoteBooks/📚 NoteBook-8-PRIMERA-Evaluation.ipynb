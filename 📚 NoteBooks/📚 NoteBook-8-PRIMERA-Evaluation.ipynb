{
 "cells": [
  {
   "cell_type": "markdown",
   "id": "ec6d6ed2",
   "metadata": {},
   "source": [
    "# 📚 NoteBook 9 allenai/PRIMERA Evaluation"
   ]
  },
  {
   "cell_type": "markdown",
   "id": "6f9faa20",
   "metadata": {},
   "source": [
    "# 🚀 PROJECT PLAN\n",
    "\n",
    "MKEM Implementation – Transformer-Based Abstractive Text Summarization"
   ]
  },
  {
   "cell_type": "markdown",
   "id": "045239bc",
   "metadata": {},
   "source": [
    "# 🎯 Problem Statement Recap"
   ]
  },
  {
   "cell_type": "markdown",
   "id": "27a7fecb",
   "metadata": {},
   "source": [
    "# 🔍 Objective:\n",
    "    \n",
    "To build and compare transformer-based summarization models (T5, BART, Pegasus,BARTScore,ProphetNet,BigBird,LED,mTS,FLAN-T5,GPT 3.5 Turbo) and then enhance them using MKEM (Multi-Knowledge-Enhanced Model) on curated English news datasets."
   ]
  },
  {
   "cell_type": "markdown",
   "id": "61d844db",
   "metadata": {},
   "source": [
    "# 📌 Phase-1 Objective\n",
    "\n",
    "✅ Implement the following 3 summarization models:\n",
    "\n",
    "PEGASUS (Google)---NoteBook(2)\n",
    "\n",
    "BART (Facebook)---NoteBook(3)\n",
    "\n",
    "T5 (Google)---NoteBook(1)\n",
    "\n",
    "Final Comparison + MKEM---NoteBook(4)\n",
    "\n",
    "NewsSum(Indian Newspaper)---NoteBook(5)\n",
    "\n",
    "BARTScore---NoteBook(6)\n",
    "\n",
    "ProphetNet---NoteBook(7)\n",
    "\n",
    "BigBird-Pegasus---NoteBook(8)\n",
    "\n",
    "LED(Longformer)---NoteBook(9)\n",
    "\n",
    "allenai/PRIMERA ---NoteBook(10)\n",
    "\n",
    "FLAN-T5---NoteBook(11)\n",
    "\n",
    "GPT-3.5 Turbo---NoteBook(12)"
   ]
  },
  {
   "cell_type": "markdown",
   "id": "2a07f103",
   "metadata": {},
   "source": [
    "# ✅ Evaluate on 3 benchmark datasets:\n",
    "    \n",
    "CNN/DailyMail\n",
    "\n",
    "Newssum (IndianNewsPaper)"
   ]
  },
  {
   "cell_type": "markdown",
   "id": "1da9e1d7",
   "metadata": {},
   "source": [
    "✅ Evaluation Metrics:\n",
    "    \n",
    "ROUGE-1\n",
    "\n",
    "ROUGE-2\n",
    "\n",
    "ROUGE-L\n",
    "\n",
    "BERTScore"
   ]
  },
  {
   "cell_type": "markdown",
   "id": "5900d84a",
   "metadata": {},
   "source": [
    "# 📊 Final Output (Per Model × Dataset):\n",
    "    \n",
    "You must submit structured results:\n",
    "\n",
    "Dataset name\n",
    "\n",
    "Model used\n",
    "\n",
    "ROUGE-1, ROUGE-2, ROUGE-L, BERTScore\n",
    "\n",
    "Inference Time\n",
    "\n",
    "GPU used\n",
    "\n",
    "Short analysis/observations"
   ]
  },
  {
   "cell_type": "markdown",
   "id": "d024d001",
   "metadata": {},
   "source": [
    "# 1.🚀 allenai/PRIMERA on CNN Dataset"
   ]
  },
  {
   "cell_type": "markdown",
   "id": "03ad226b",
   "metadata": {},
   "source": [
    "**✏️Step 1: Install & Import Libraries**"
   ]
  },
  {
   "cell_type": "code",
   "execution_count": 1,
   "id": "593e2861",
   "metadata": {},
   "outputs": [],
   "source": [
    "# Install PRIMERA dependencies\n",
    "!pip install transformers sentencepiece datasets evaluate bert-score --quiet"
   ]
  },
  {
   "cell_type": "code",
   "execution_count": 2,
   "id": "983a4022",
   "metadata": {},
   "outputs": [
    {
     "name": "stderr",
     "output_type": "stream",
     "text": [
      "C:\\Users\\SAMIM IMTIAZ\\anaconda3\\Lib\\site-packages\\torch\\utils\\_pytree.py:185: FutureWarning: optree is installed but the version is too old to support PyTorch Dynamo in C++ pytree. C++ pytree support is disabled. Please consider upgrading optree using `python3 -m pip install --upgrade 'optree>=0.13.0'`.\n",
      "  warnings.warn(\n"
     ]
    }
   ],
   "source": [
    "import torch\n",
    "from transformers import AutoTokenizer, AutoModelForSeq2SeqLM\n",
    "import pandas as pd\n",
    "import time\n",
    "import evaluate\n",
    "import bert_score"
   ]
  },
  {
   "cell_type": "markdown",
   "id": "2f909919",
   "metadata": {},
   "source": [
    "**✏️ Step 2: Load Model & Tokenizer**"
   ]
  },
  {
   "cell_type": "code",
   "execution_count": 3,
   "id": "7620b29e",
   "metadata": {},
   "outputs": [
    {
     "name": "stdout",
     "output_type": "stream",
     "text": [
      "✅ PRIMERA model loaded on CPU\n"
     ]
    }
   ],
   "source": [
    "from transformers import AutoTokenizer, AutoModelForSeq2SeqLM\n",
    "import torch\n",
    "\n",
    "# ✅ Device setup\n",
    "device = \"cuda\" if torch.cuda.is_available() else \"cpu\"\n",
    "\n",
    "# ✅ Load PRIMERA model & tokenizer\n",
    "tokenizer_primera = AutoTokenizer.from_pretrained(\"allenai/PRIMERA\")\n",
    "model_primera = AutoModelForSeq2SeqLM.from_pretrained(\"allenai/PRIMERA\").to(device)\n",
    "\n",
    "print(f\"✅ PRIMERA model loaded on {device.upper()}\")"
   ]
  },
  {
   "cell_type": "markdown",
   "id": "c7c81887",
   "metadata": {},
   "source": [
    "**✏️ Step 3: Load CNN Dataset**"
   ]
  },
  {
   "cell_type": "code",
   "execution_count": 4,
   "id": "45d57051",
   "metadata": {},
   "outputs": [
    {
     "name": "stdout",
     "output_type": "stream",
     "text": [
      "✅ CNN Dataset Loaded. Shape: (5, 3)\n"
     ]
    },
    {
     "data": {
      "text/html": [
       "<div>\n",
       "<style scoped>\n",
       "    .dataframe tbody tr th:only-of-type {\n",
       "        vertical-align: middle;\n",
       "    }\n",
       "\n",
       "    .dataframe tbody tr th {\n",
       "        vertical-align: top;\n",
       "    }\n",
       "\n",
       "    .dataframe thead th {\n",
       "        text-align: right;\n",
       "    }\n",
       "</style>\n",
       "<table border=\"1\" class=\"dataframe\">\n",
       "  <thead>\n",
       "    <tr style=\"text-align: right;\">\n",
       "      <th></th>\n",
       "      <th>article</th>\n",
       "      <th>highlights</th>\n",
       "      <th>id</th>\n",
       "    </tr>\n",
       "  </thead>\n",
       "  <tbody>\n",
       "    <tr>\n",
       "      <th>0</th>\n",
       "      <td>LONDON, England (Reuters) -- Harry Potter star...</td>\n",
       "      <td>Harry Potter star Daniel Radcliffe gets £20M f...</td>\n",
       "      <td>42c027e4ff9730fbb3de84c1af0d2c506e41c3e4</td>\n",
       "    </tr>\n",
       "    <tr>\n",
       "      <th>1</th>\n",
       "      <td>Editor's note: In our Behind the Scenes series...</td>\n",
       "      <td>Mentally ill inmates in Miami are housed on th...</td>\n",
       "      <td>ee8871b15c50d0db17b0179a6d2beab35065f1e9</td>\n",
       "    </tr>\n",
       "    <tr>\n",
       "      <th>2</th>\n",
       "      <td>MINNEAPOLIS, Minnesota (CNN) -- Drivers who we...</td>\n",
       "      <td>NEW: \"I thought I was going to die,\" driver sa...</td>\n",
       "      <td>06352019a19ae31e527f37f7571c6dd7f0c5da37</td>\n",
       "    </tr>\n",
       "    <tr>\n",
       "      <th>3</th>\n",
       "      <td>WASHINGTON (CNN) -- Doctors removed five small...</td>\n",
       "      <td>Five small polyps found during procedure; \"non...</td>\n",
       "      <td>24521a2abb2e1f5e34e6824e0f9e56904a2b0e88</td>\n",
       "    </tr>\n",
       "    <tr>\n",
       "      <th>4</th>\n",
       "      <td>(CNN)  -- The National Football League has ind...</td>\n",
       "      <td>NEW: NFL chief, Atlanta Falcons owner critical...</td>\n",
       "      <td>7fe70cc8b12fab2d0a258fababf7d9c6b5e1262a</td>\n",
       "    </tr>\n",
       "  </tbody>\n",
       "</table>\n",
       "</div>"
      ],
      "text/plain": [
       "                                             article  \\\n",
       "0  LONDON, England (Reuters) -- Harry Potter star...   \n",
       "1  Editor's note: In our Behind the Scenes series...   \n",
       "2  MINNEAPOLIS, Minnesota (CNN) -- Drivers who we...   \n",
       "3  WASHINGTON (CNN) -- Doctors removed five small...   \n",
       "4  (CNN)  -- The National Football League has ind...   \n",
       "\n",
       "                                          highlights  \\\n",
       "0  Harry Potter star Daniel Radcliffe gets £20M f...   \n",
       "1  Mentally ill inmates in Miami are housed on th...   \n",
       "2  NEW: \"I thought I was going to die,\" driver sa...   \n",
       "3  Five small polyps found during procedure; \"non...   \n",
       "4  NEW: NFL chief, Atlanta Falcons owner critical...   \n",
       "\n",
       "                                         id  \n",
       "0  42c027e4ff9730fbb3de84c1af0d2c506e41c3e4  \n",
       "1  ee8871b15c50d0db17b0179a6d2beab35065f1e9  \n",
       "2  06352019a19ae31e527f37f7571c6dd7f0c5da37  \n",
       "3  24521a2abb2e1f5e34e6824e0f9e56904a2b0e88  \n",
       "4  7fe70cc8b12fab2d0a258fababf7d9c6b5e1262a  "
      ]
     },
     "execution_count": 4,
     "metadata": {},
     "output_type": "execute_result"
    }
   ],
   "source": [
    "# Load cleaned CNN dataset\n",
    "df_cnn = pd.read_csv(\"cnn_dailymail.csv\")\n",
    "\n",
    "# Drop missing or empty articles/highlights\n",
    "df_cnn = df_cnn.dropna(subset=[\"article\", \"highlights\"])\n",
    "df_cnn = df_cnn[df_cnn[\"article\"].str.strip().astype(bool)]\n",
    "\n",
    "# Optional: Limit for quick testing\n",
    "# df_cnn = df_cnn[:5]\n",
    "\n",
    "print(\"✅ CNN Dataset Loaded. Shape:\", df_cnn.shape)\n",
    "df_cnn.head()"
   ]
  },
  {
   "cell_type": "markdown",
   "id": "12e700f5",
   "metadata": {},
   "source": [
    "**✏️ Step 4: Define Summarization Function**"
   ]
  },
  {
   "cell_type": "code",
   "execution_count": 5,
   "id": "a6330ada",
   "metadata": {},
   "outputs": [],
   "source": [
    "def summarize_with_primera(text, max_input_length=4096, min_summary_length=40, max_summary_length=150):\n",
    "    # Tokenize input\n",
    "    inputs = tokenizer_primera(\n",
    "        text,\n",
    "        return_tensors=\"pt\",\n",
    "        truncation=True,\n",
    "        padding=\"longest\",\n",
    "        max_length=max_input_length\n",
    "    ).to(device)\n",
    "\n",
    "    # Generate summary\n",
    "    summary_ids = model_primera.generate(\n",
    "        inputs[\"input_ids\"],\n",
    "        min_length=min_summary_length,\n",
    "        max_length=max_summary_length,\n",
    "        length_penalty=2.0,\n",
    "        num_beams=4\n",
    "    )\n",
    "\n",
    "    # Decode and return\n",
    "    return tokenizer_primera.decode(summary_ids[0], skip_special_tokens=True)"
   ]
  },
  {
   "cell_type": "markdown",
   "id": "f29f6068",
   "metadata": {},
   "source": [
    "**✏️ Step 5: Generate Predictions**"
   ]
  },
  {
   "cell_type": "code",
   "execution_count": 6,
   "id": "91c99f18",
   "metadata": {},
   "outputs": [
    {
     "name": "stderr",
     "output_type": "stream",
     "text": [
      "Input ids are automatically padded from 565 to 1024 to be a multiple of `config.attention_window`: 512\n",
      "`cache.key_cache[idx]` is deprecated and will be removed in v4.56.0. Use `cache.layers[idx].keys` instead.\n",
      "`cache.value_cache[idx]` is deprecated and will be removed in v4.56.0. Use `cache.layers[idx].values` instead.\n",
      "Input ids are automatically padded from 888 to 1024 to be a multiple of `config.attention_window`: 512\n",
      "Input ids are automatically padded from 919 to 1024 to be a multiple of `config.attention_window`: 512\n",
      "Input ids are automatically padded from 531 to 1024 to be a multiple of `config.attention_window`: 512\n",
      "Input ids are automatically padded from 1196 to 1536 to be a multiple of `config.attention_window`: 512\n"
     ]
    },
    {
     "name": "stdout",
     "output_type": "stream",
     "text": [
      "⏱ Inference Time: 248.78 seconds\n"
     ]
    }
   ],
   "source": [
    "import time\n",
    "\n",
    "# ✅ Generate predictions for CNN dataset using PRIMERA\n",
    "start_time = time.time()\n",
    "\n",
    "primera_cnn_preds = [summarize_with_primera(article) for article in df_cnn[\"article\"]]\n",
    "primera_cnn_refs = df_cnn[\"highlights\"].tolist()\n",
    "\n",
    "inference_time = round(time.time() - start_time, 2)\n",
    "print(f\"⏱ Inference Time: {inference_time} seconds\")"
   ]
  },
  {
   "cell_type": "markdown",
   "id": "4be6273e",
   "metadata": {},
   "source": [
    "**✏️ Step 6: Evaluate with ROUGE & BERTScore**"
   ]
  },
  {
   "cell_type": "code",
   "execution_count": 7,
   "id": "1f9428c1",
   "metadata": {},
   "outputs": [
    {
     "name": "stderr",
     "output_type": "stream",
     "text": [
      "Some weights of RobertaModel were not initialized from the model checkpoint at roberta-large and are newly initialized: ['pooler.dense.bias', 'pooler.dense.weight']\n",
      "You should probably TRAIN this model on a down-stream task to be able to use it for predictions and inference.\n",
      "C:\\Users\\SAMIM IMTIAZ\\anaconda3\\Lib\\site-packages\\torch\\nn\\modules\\module.py:1750: FutureWarning: `encoder_attention_mask` is deprecated and will be removed in version 4.55.0 for `RobertaSdpaSelfAttention.forward`.\n",
      "  return forward_call(*args, **kwargs)\n"
     ]
    },
    {
     "name": "stdout",
     "output_type": "stream",
     "text": [
      "✅ PRIMERA CNN scores saved to primera_cnn_scores.csv\n"
     ]
    },
    {
     "data": {
      "text/html": [
       "<div>\n",
       "<style scoped>\n",
       "    .dataframe tbody tr th:only-of-type {\n",
       "        vertical-align: middle;\n",
       "    }\n",
       "\n",
       "    .dataframe tbody tr th {\n",
       "        vertical-align: top;\n",
       "    }\n",
       "\n",
       "    .dataframe thead th {\n",
       "        text-align: right;\n",
       "    }\n",
       "</style>\n",
       "<table border=\"1\" class=\"dataframe\">\n",
       "  <thead>\n",
       "    <tr style=\"text-align: right;\">\n",
       "      <th></th>\n",
       "      <th>Dataset</th>\n",
       "      <th>Model</th>\n",
       "      <th>ROUGE-1</th>\n",
       "      <th>ROUGE-2</th>\n",
       "      <th>ROUGE-L</th>\n",
       "      <th>BERTScore</th>\n",
       "      <th>Inference Time (s)</th>\n",
       "      <th>GPU Used</th>\n",
       "    </tr>\n",
       "  </thead>\n",
       "  <tbody>\n",
       "    <tr>\n",
       "      <th>0</th>\n",
       "      <td>CNN</td>\n",
       "      <td>PRIMERA</td>\n",
       "      <td>0.271003</td>\n",
       "      <td>0.10834</td>\n",
       "      <td>0.16965</td>\n",
       "      <td>0.8513</td>\n",
       "      <td>248.78</td>\n",
       "      <td>CPU</td>\n",
       "    </tr>\n",
       "  </tbody>\n",
       "</table>\n",
       "</div>"
      ],
      "text/plain": [
       "  Dataset    Model   ROUGE-1  ROUGE-2  ROUGE-L  BERTScore  Inference Time (s)  \\\n",
       "0     CNN  PRIMERA  0.271003  0.10834  0.16965     0.8513              248.78   \n",
       "\n",
       "  GPU Used  \n",
       "0      CPU  "
      ]
     },
     "execution_count": 7,
     "metadata": {},
     "output_type": "execute_result"
    }
   ],
   "source": [
    "import evaluate\n",
    "import pandas as pd\n",
    "import torch\n",
    "\n",
    "# ✅ Load evaluation metrics\n",
    "rouge = evaluate.load(\"rouge\")\n",
    "bertscore = evaluate.load(\"bertscore\")\n",
    "\n",
    "# ✅ ROUGE scores\n",
    "rouge_results = rouge.compute(predictions=primera_cnn_preds, references=primera_cnn_refs)\n",
    "\n",
    "# ✅ BERTScore (average F1 score)\n",
    "bertscore_results = bertscore.compute(predictions=primera_cnn_preds,\n",
    "                                      references=primera_cnn_refs,\n",
    "                                      lang=\"en\")\n",
    "\n",
    "# ✅ Prepare results dictionary\n",
    "primera_cnn_scores = {\n",
    "    \"Dataset\": [\"CNN\"],\n",
    "    \"Model\": [\"PRIMERA\"],\n",
    "    \"ROUGE-1\": [rouge_results[\"rouge1\"]],\n",
    "    \"ROUGE-2\": [rouge_results[\"rouge2\"]],\n",
    "    \"ROUGE-L\": [rouge_results[\"rougeL\"]],\n",
    "    \"BERTScore\": [round(sum(bertscore_results[\"f1\"]) / len(bertscore_results[\"f1\"]), 4)],\n",
    "    \"Inference Time (s)\": [inference_time],\n",
    "    \"GPU Used\": [torch.cuda.get_device_name(0) if torch.cuda.is_available() else \"CPU\"]\n",
    "}\n",
    "\n",
    "# ✅ Save to CSV\n",
    "primera_cnn_scores_df = pd.DataFrame(primera_cnn_scores)\n",
    "primera_cnn_scores_df.to_csv(\"primera_cnn_scores.csv\", index=False)\n",
    "\n",
    "print(\"✅ PRIMERA CNN scores saved to primera_cnn_scores.csv\")\n",
    "primera_cnn_scores_df"
   ]
  },
  {
   "cell_type": "markdown",
   "id": "aae8b5e9",
   "metadata": {},
   "source": [
    "**💾 Save the Scores to .CSV Files**\n",
    "\n",
    "**So that we can use to comapair models in different NoteBooks**"
   ]
  },
  {
   "cell_type": "code",
   "execution_count": 8,
   "id": "4ba4f5ff",
   "metadata": {},
   "outputs": [
    {
     "name": "stdout",
     "output_type": "stream",
     "text": [
      "✅ PRIMERA CNN scores saved to primera_cnn_scores.csv\n"
     ]
    }
   ],
   "source": [
    "primera_cnn_scores_df = pd.DataFrame(primera_cnn_scores)\n",
    "primera_cnn_scores_df.to_csv(\"primera_cnn_scores.csv\", index=False)\n",
    "\n",
    "print(\"✅ PRIMERA CNN scores saved to primera_cnn_scores.csv\")"
   ]
  },
  {
   "cell_type": "markdown",
   "id": "bebd9719",
   "metadata": {},
   "source": [
    "# 2.🚀 allenai/PRIMERA on NewsSum Dataset"
   ]
  },
  {
   "cell_type": "markdown",
   "id": "91cf8629",
   "metadata": {},
   "source": [
    "**✏️ Step 1: Load NewsSum Dataset**"
   ]
  },
  {
   "cell_type": "code",
   "execution_count": 9,
   "id": "2faacab6",
   "metadata": {},
   "outputs": [
    {
     "data": {
      "text/html": [
       "<div>\n",
       "<style scoped>\n",
       "    .dataframe tbody tr th:only-of-type {\n",
       "        vertical-align: middle;\n",
       "    }\n",
       "\n",
       "    .dataframe tbody tr th {\n",
       "        vertical-align: top;\n",
       "    }\n",
       "\n",
       "    .dataframe thead th {\n",
       "        text-align: right;\n",
       "    }\n",
       "</style>\n",
       "<table border=\"1\" class=\"dataframe\">\n",
       "  <thead>\n",
       "    <tr style=\"text-align: right;\">\n",
       "      <th></th>\n",
       "      <th>Headline</th>\n",
       "      <th>Article</th>\n",
       "      <th>Category</th>\n",
       "      <th>Summary</th>\n",
       "    </tr>\n",
       "  </thead>\n",
       "  <tbody>\n",
       "    <tr>\n",
       "      <th>0</th>\n",
       "      <td>Elephant death brings to fore man-animal confl...</td>\n",
       "      <td>The death of a pregnant elephant in the buffer...</td>\n",
       "      <td>Local News</td>\n",
       "      <td>Thousands of farmers in Kerala have either aba...</td>\n",
       "    </tr>\n",
       "    <tr>\n",
       "      <th>1</th>\n",
       "      <td>Cases filed after two â€˜commit suicideâ€™ in ...</td>\n",
       "      <td>Two suicides were reported from Vadodara and D...</td>\n",
       "      <td>Crime and Justice</td>\n",
       "      <td>In the first incident, a 30-year-old woman all...</td>\n",
       "    </tr>\n",
       "    <tr>\n",
       "      <th>2</th>\n",
       "      <td>Woman alleges father tied to MP hospital bed o...</td>\n",
       "      <td>A day after a woman alleged that her father ha...</td>\n",
       "      <td>Health and Wellness</td>\n",
       "      <td>The hospital denied the allegation, saying the...</td>\n",
       "    </tr>\n",
       "    <tr>\n",
       "      <th>3</th>\n",
       "      <td>Sena member, author, app designer â€“ the many...</td>\n",
       "      <td>Assistant police inspector Sachin Vaze, who wa...</td>\n",
       "      <td>Defense</td>\n",
       "      <td>On Saturday, Vaze along with police constables...</td>\n",
       "    </tr>\n",
       "    <tr>\n",
       "      <th>4</th>\n",
       "      <td>Manager, owner of resort where Gujarat Congres...</td>\n",
       "      <td>The manager and owner of a resort in Rajkot, w...</td>\n",
       "      <td>Politics</td>\n",
       "      <td>The resort is reportedly owned by Indranil Raj...</td>\n",
       "    </tr>\n",
       "  </tbody>\n",
       "</table>\n",
       "</div>"
      ],
      "text/plain": [
       "                                            Headline  \\\n",
       "0  Elephant death brings to fore man-animal confl...   \n",
       "1  Cases filed after two â€˜commit suicideâ€™ in ...   \n",
       "2  Woman alleges father tied to MP hospital bed o...   \n",
       "3  Sena member, author, app designer â€“ the many...   \n",
       "4  Manager, owner of resort where Gujarat Congres...   \n",
       "\n",
       "                                             Article             Category  \\\n",
       "0  The death of a pregnant elephant in the buffer...           Local News   \n",
       "1  Two suicides were reported from Vadodara and D...    Crime and Justice   \n",
       "2  A day after a woman alleged that her father ha...  Health and Wellness   \n",
       "3  Assistant police inspector Sachin Vaze, who wa...              Defense   \n",
       "4  The manager and owner of a resort in Rajkot, w...             Politics   \n",
       "\n",
       "                                             Summary  \n",
       "0  Thousands of farmers in Kerala have either aba...  \n",
       "1  In the first incident, a 30-year-old woman all...  \n",
       "2  The hospital denied the allegation, saying the...  \n",
       "3  On Saturday, Vaze along with police constables...  \n",
       "4  The resort is reportedly owned by Indranil Raj...  "
      ]
     },
     "execution_count": 9,
     "metadata": {},
     "output_type": "execute_result"
    }
   ],
   "source": [
    "import pandas as pd\n",
    "\n",
    "# Load the cleaned NewsSum dataset\n",
    "df_newsum = pd.read_csv(\"newsum_cleaned.csv\")\n",
    "\n",
    "# Optional: sample a smaller batch for testing\n",
    "# df_newsum = df_newsum[:5]\n",
    "\n",
    "df_newsum.head()"
   ]
  },
  {
   "cell_type": "markdown",
   "id": "2bdc64ec",
   "metadata": {},
   "source": [
    "**✏️ Step 2: Define Summarization Function**"
   ]
  },
  {
   "cell_type": "code",
   "execution_count": 11,
   "id": "04c66459",
   "metadata": {},
   "outputs": [],
   "source": [
    "import time\n",
    "import evaluate\n",
    "import pandas as pd\n",
    "import torch\n",
    "\n",
    "# Take only first 5 rows\n",
    "df_newsum_small = df_newsum.iloc[:5].copy()\n",
    "\n",
    "# Summarization function (fast settings)\n",
    "def summarize_with_primera_fast(text):\n",
    "    inputs = tokenizer_primera(\n",
    "        text,\n",
    "        return_tensors=\"pt\",\n",
    "        truncation=True,\n",
    "        padding=\"longest\",\n",
    "        max_length=2048\n",
    "    ).to(device)\n",
    "\n",
    "    summary_ids = model_primera.generate(\n",
    "        inputs[\"input_ids\"],\n",
    "        min_length=30,\n",
    "        max_length=120,\n",
    "        length_penalty=2.0,\n",
    "        num_beams=4\n",
    "    )\n",
    "\n",
    "    return tokenizer_primera.decode(summary_ids[0], skip_special_tokens=True)"
   ]
  },
  {
   "cell_type": "markdown",
   "id": "6a685794",
   "metadata": {},
   "source": [
    "**✏️Step 3: Generate Summaries with allenai/PRIMERA**"
   ]
  },
  {
   "cell_type": "code",
   "execution_count": 13,
   "id": "8df8bf8a",
   "metadata": {
    "scrolled": false
   },
   "outputs": [
    {
     "name": "stdout",
     "output_type": "stream",
     "text": [
      "⏱ Inference Time (NewsSum - PRIMERA, 5 rows): 289.82 seconds\n"
     ]
    }
   ],
   "source": [
    "# Generate predictions testing purpose\n",
    "start_time = time.time()\n",
    "primera_newsum_preds = [summarize_with_primera_fast(article) for article in df_newsum_small[\"Article\"]]\n",
    "primera_newsum_refs = df_newsum_small[\"Summary\"].tolist()\n",
    "inference_time = round(time.time() - start_time, 2)\n",
    "print(f\"⏱ Inference Time (NewsSum - PRIMERA, 5 rows): {inference_time} seconds\")"
   ]
  },
  {
   "cell_type": "markdown",
   "id": "48df275e",
   "metadata": {},
   "source": [
    "**✏️Step 3: Evaluate with ROUGE and BERTScore**"
   ]
  },
  {
   "cell_type": "code",
   "execution_count": 14,
   "id": "e8075b54",
   "metadata": {},
   "outputs": [
    {
     "name": "stderr",
     "output_type": "stream",
     "text": [
      "Some weights of RobertaModel were not initialized from the model checkpoint at roberta-large and are newly initialized: ['pooler.dense.bias', 'pooler.dense.weight']\n",
      "You should probably TRAIN this model on a down-stream task to be able to use it for predictions and inference.\n",
      "C:\\Users\\SAMIM IMTIAZ\\anaconda3\\Lib\\site-packages\\torch\\nn\\modules\\module.py:1750: FutureWarning: `encoder_attention_mask` is deprecated and will be removed in version 4.55.0 for `RobertaSdpaSelfAttention.forward`.\n",
      "  return forward_call(*args, **kwargs)\n"
     ]
    }
   ],
   "source": [
    "#  Evaluate\n",
    "rouge = evaluate.load(\"rouge\")\n",
    "bertscore = evaluate.load(\"bertscore\")\n",
    "\n",
    "rouge_results = rouge.compute(predictions=primera_newsum_preds, references=primera_newsum_refs)\n",
    "bertscore_results = bertscore.compute(predictions=primera_newsum_preds, references=primera_newsum_refs, lang=\"en\")\n",
    "bert_f1 = round(sum(bertscore_results[\"f1\"]) / len(bertscore_results[\"f1\"]), 4)"
   ]
  },
  {
   "cell_type": "markdown",
   "id": "39e84d0c",
   "metadata": {},
   "source": [
    "**💾 Step 4: Save Evaluation Scores to CSV**"
   ]
  },
  {
   "cell_type": "code",
   "execution_count": 15,
   "id": "ebf5bafd",
   "metadata": {},
   "outputs": [
    {
     "name": "stdout",
     "output_type": "stream",
     "text": [
      "✅ PRIMERA NewsSum scores saved to primera_newsum_scores.csv\n"
     ]
    },
    {
     "data": {
      "text/html": [
       "<div>\n",
       "<style scoped>\n",
       "    .dataframe tbody tr th:only-of-type {\n",
       "        vertical-align: middle;\n",
       "    }\n",
       "\n",
       "    .dataframe tbody tr th {\n",
       "        vertical-align: top;\n",
       "    }\n",
       "\n",
       "    .dataframe thead th {\n",
       "        text-align: right;\n",
       "    }\n",
       "</style>\n",
       "<table border=\"1\" class=\"dataframe\">\n",
       "  <thead>\n",
       "    <tr style=\"text-align: right;\">\n",
       "      <th></th>\n",
       "      <th>Dataset</th>\n",
       "      <th>Model</th>\n",
       "      <th>ROUGE-1</th>\n",
       "      <th>ROUGE-2</th>\n",
       "      <th>ROUGE-L</th>\n",
       "      <th>BERTScore</th>\n",
       "      <th>Inference Time (s)</th>\n",
       "      <th>GPU Used</th>\n",
       "    </tr>\n",
       "  </thead>\n",
       "  <tbody>\n",
       "    <tr>\n",
       "      <th>0</th>\n",
       "      <td>NewsSum</td>\n",
       "      <td>PRIMERA</td>\n",
       "      <td>0.376837</td>\n",
       "      <td>0.342666</td>\n",
       "      <td>0.356498</td>\n",
       "      <td>0.8777</td>\n",
       "      <td>289.82</td>\n",
       "      <td>CPU</td>\n",
       "    </tr>\n",
       "  </tbody>\n",
       "</table>\n",
       "</div>"
      ],
      "text/plain": [
       "   Dataset    Model   ROUGE-1   ROUGE-2   ROUGE-L  BERTScore  \\\n",
       "0  NewsSum  PRIMERA  0.376837  0.342666  0.356498     0.8777   \n",
       "\n",
       "   Inference Time (s) GPU Used  \n",
       "0              289.82      CPU  "
      ]
     },
     "execution_count": 15,
     "metadata": {},
     "output_type": "execute_result"
    }
   ],
   "source": [
    "# Save scores\n",
    "primera_newsum_scores = {\n",
    "    \"Dataset\": [\"NewsSum\"],\n",
    "    \"Model\": [\"PRIMERA\"],\n",
    "    \"ROUGE-1\": [rouge_results[\"rouge1\"]],\n",
    "    \"ROUGE-2\": [rouge_results[\"rouge2\"]],\n",
    "    \"ROUGE-L\": [rouge_results[\"rougeL\"]],\n",
    "    \"BERTScore\": [bert_f1],\n",
    "    \"Inference Time (s)\": [inference_time],\n",
    "    \"GPU Used\": [torch.cuda.get_device_name(0) if torch.cuda.is_available() else \"CPU\"]\n",
    "}\n",
    "\n",
    "primera_newsum_scores_df = pd.DataFrame(primera_newsum_scores)\n",
    "primera_newsum_scores_df.to_csv(\"primera_newsum_scores.csv\", index=False)\n",
    "\n",
    "print(\"✅ PRIMERA NewsSum scores saved to primera_newsum_scores.csv\")\n",
    "primera_newsum_scores_df"
   ]
  }
 ],
 "metadata": {
  "kernelspec": {
   "display_name": "Python 3",
   "language": "python",
   "name": "python3"
  },
  "language_info": {
   "codemirror_mode": {
    "name": "ipython",
    "version": 3
   },
   "file_extension": ".py",
   "mimetype": "text/x-python",
   "name": "python",
   "nbconvert_exporter": "python",
   "pygments_lexer": "ipython3",
   "version": "3.11.5"
  }
 },
 "nbformat": 4,
 "nbformat_minor": 5
}
