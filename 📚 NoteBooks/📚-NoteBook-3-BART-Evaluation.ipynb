{
 "cells": [
  {
   "cell_type": "markdown",
   "id": "ce5ebaf7",
   "metadata": {},
   "source": [
    "# 📚 NoteBook 3 BART Evaluation"
   ]
  },
  {
   "cell_type": "markdown",
   "id": "3783362d",
   "metadata": {},
   "source": [
    "# 🚀 PROJECT PLAN\n",
    "\n",
    "MKEM Implementation – Transformer-Based Abstractive Text Summarization"
   ]
  },
  {
   "cell_type": "markdown",
   "id": "2c2dce08",
   "metadata": {},
   "source": [
    "# 🎯 Problem Statement Recap"
   ]
  },
  {
   "cell_type": "markdown",
   "id": "3f4a54ad",
   "metadata": {},
   "source": [
    "# 🔍 Objective:\n",
    "\n",
    "To build and compare transformer-based summarization models (T5, BART, Pegasus) and then enhance them using MKEM (Multi-Knowledge-Enhanced Model) on curated English news datasets."
   ]
  },
  {
   "cell_type": "markdown",
   "id": "15cbce76",
   "metadata": {},
   "source": [
    "# 📌 Phase-1 Objective"
   ]
  },
  {
   "cell_type": "markdown",
   "id": "e8dfece7",
   "metadata": {},
   "source": [
    "# ✅ Implement the following 3 summarization models:\n",
    "    \n",
    "PEGASUS (Google)---NoteBook(2)\n",
    "\n",
    "BART (Facebook)---NoteBook(3)\n",
    "\n",
    "T5 (Google)---NoteBook(1)"
   ]
  },
  {
   "cell_type": "markdown",
   "id": "2b5a19de",
   "metadata": {},
   "source": [
    "# ✅ Evaluate on 3 benchmark datasets:\n",
    "    \n",
    "CNN/DailyMail\n",
    "\n",
    "XSum\n",
    "\n",
    "MultiNews"
   ]
  },
  {
   "cell_type": "markdown",
   "id": "c14d3f7c",
   "metadata": {},
   "source": [
    "# ✅ Evaluation Metrics:\n",
    "    \n",
    "ROUGE-1\n",
    "\n",
    "ROUGE-2\n",
    "\n",
    "ROUGE-L\n",
    "\n",
    "BERTScore"
   ]
  },
  {
   "cell_type": "markdown",
   "id": "14b4c6be",
   "metadata": {},
   "source": [
    "# 📊 Final Output (Per Model × Dataset):\n",
    "    \n",
    "You must submit structured results:\n",
    "\n",
    "Dataset name\n",
    "\n",
    "Model used\n",
    "\n",
    "ROUGE-1, ROUGE-2, ROUGE-L, BERTScore\n",
    "\n",
    "Short analysis/observations"
   ]
  },
  {
   "cell_type": "markdown",
   "id": "996e242e",
   "metadata": {},
   "source": [
    "# 📌 Phase-2 Objective:Final Comparison + MKEM-- NoteBook (4)"
   ]
  },
  {
   "cell_type": "markdown",
   "id": "582eb6b7",
   "metadata": {},
   "source": [
    "**🎯 Task: Model Comparison + MKEM Fusion**"
   ]
  },
  {
   "cell_type": "markdown",
   "id": "c3b07485",
   "metadata": {},
   "source": [
    "# 🚀BART Implementation Plan"
   ]
  },
  {
   "cell_type": "markdown",
   "id": "49504b9b",
   "metadata": {},
   "source": [
    "# 1.🚀BART on CNN"
   ]
  },
  {
   "cell_type": "markdown",
   "id": "a6d91cdd",
   "metadata": {},
   "source": [
    "**🔹 Step 1: Setup & Imports**"
   ]
  },
  {
   "cell_type": "code",
   "execution_count": 29,
   "id": "4e50de9a",
   "metadata": {},
   "outputs": [],
   "source": [
    "from transformers import BartTokenizer, BartForConditionalGeneration\n",
    "import torch\n",
    "import pandas as pd"
   ]
  },
  {
   "cell_type": "markdown",
   "id": "30bc6bcc",
   "metadata": {},
   "source": [
    "**🔹 Step 2: Load BART model & tokenizer**"
   ]
  },
  {
   "cell_type": "code",
   "execution_count": 30,
   "id": "44c42fe3",
   "metadata": {},
   "outputs": [],
   "source": [
    "model_name = \"facebook/bart-large-cnn\"\n",
    "tokenizer = BartTokenizer.from_pretrained(model_name)\n",
    "model = BartForConditionalGeneration.from_pretrained(model_name)\n",
    "\n",
    "device = torch.device(\"cuda\" if torch.cuda.is_available() else \"cpu\")\n",
    "model = model.to(device)"
   ]
  },
  {
   "cell_type": "markdown",
   "id": "7ddd431f",
   "metadata": {},
   "source": [
    "**🔹 Step 3: Load Dataset (from CSV)**"
   ]
  },
  {
   "cell_type": "code",
   "execution_count": 31,
   "id": "7b091dc9",
   "metadata": {},
   "outputs": [],
   "source": [
    "# Load full datasets \n",
    "from datasets import load_dataset\n",
    "\n",
    "cnn_dailymail = load_dataset(\"cnn_dailymail\", \"3.0.0\")"
   ]
  },
  {
   "cell_type": "code",
   "execution_count": 32,
   "id": "6e182018",
   "metadata": {},
   "outputs": [
    {
     "name": "stdout",
     "output_type": "stream",
     "text": [
      "📊 CNN/DailyMail Test Set: (11490, 3)\n"
     ]
    }
   ],
   "source": [
    "print(\"📊 CNN/DailyMail Test Set:\", cnn_dailymail['test'].shape)"
   ]
  },
  {
   "cell_type": "code",
   "execution_count": 33,
   "id": "1c822f48",
   "metadata": {},
   "outputs": [],
   "source": [
    "# Load CNN dataset saved from Notebook 1\n",
    "df_cnn = pd.read_csv(\"cnn_dailymail.csv\")"
   ]
  },
  {
   "cell_type": "markdown",
   "id": "fd7da4fc",
   "metadata": {},
   "source": [
    "**🔹Step 4: Inspect the Data**"
   ]
  },
  {
   "cell_type": "code",
   "execution_count": 34,
   "id": "133d7f96",
   "metadata": {},
   "outputs": [
    {
     "data": {
      "text/html": [
       "<div>\n",
       "<style scoped>\n",
       "    .dataframe tbody tr th:only-of-type {\n",
       "        vertical-align: middle;\n",
       "    }\n",
       "\n",
       "    .dataframe tbody tr th {\n",
       "        vertical-align: top;\n",
       "    }\n",
       "\n",
       "    .dataframe thead th {\n",
       "        text-align: right;\n",
       "    }\n",
       "</style>\n",
       "<table border=\"1\" class=\"dataframe\">\n",
       "  <thead>\n",
       "    <tr style=\"text-align: right;\">\n",
       "      <th></th>\n",
       "      <th>article</th>\n",
       "      <th>highlights</th>\n",
       "      <th>id</th>\n",
       "    </tr>\n",
       "  </thead>\n",
       "  <tbody>\n",
       "    <tr>\n",
       "      <th>0</th>\n",
       "      <td>LONDON, England (Reuters) -- Harry Potter star...</td>\n",
       "      <td>Harry Potter star Daniel Radcliffe gets £20M f...</td>\n",
       "      <td>42c027e4ff9730fbb3de84c1af0d2c506e41c3e4</td>\n",
       "    </tr>\n",
       "    <tr>\n",
       "      <th>1</th>\n",
       "      <td>Editor's note: In our Behind the Scenes series...</td>\n",
       "      <td>Mentally ill inmates in Miami are housed on th...</td>\n",
       "      <td>ee8871b15c50d0db17b0179a6d2beab35065f1e9</td>\n",
       "    </tr>\n",
       "    <tr>\n",
       "      <th>2</th>\n",
       "      <td>MINNEAPOLIS, Minnesota (CNN) -- Drivers who we...</td>\n",
       "      <td>NEW: \"I thought I was going to die,\" driver sa...</td>\n",
       "      <td>06352019a19ae31e527f37f7571c6dd7f0c5da37</td>\n",
       "    </tr>\n",
       "    <tr>\n",
       "      <th>3</th>\n",
       "      <td>WASHINGTON (CNN) -- Doctors removed five small...</td>\n",
       "      <td>Five small polyps found during procedure; \"non...</td>\n",
       "      <td>24521a2abb2e1f5e34e6824e0f9e56904a2b0e88</td>\n",
       "    </tr>\n",
       "    <tr>\n",
       "      <th>4</th>\n",
       "      <td>(CNN)  -- The National Football League has ind...</td>\n",
       "      <td>NEW: NFL chief, Atlanta Falcons owner critical...</td>\n",
       "      <td>7fe70cc8b12fab2d0a258fababf7d9c6b5e1262a</td>\n",
       "    </tr>\n",
       "  </tbody>\n",
       "</table>\n",
       "</div>"
      ],
      "text/plain": [
       "                                             article  \\\n",
       "0  LONDON, England (Reuters) -- Harry Potter star...   \n",
       "1  Editor's note: In our Behind the Scenes series...   \n",
       "2  MINNEAPOLIS, Minnesota (CNN) -- Drivers who we...   \n",
       "3  WASHINGTON (CNN) -- Doctors removed five small...   \n",
       "4  (CNN)  -- The National Football League has ind...   \n",
       "\n",
       "                                          highlights  \\\n",
       "0  Harry Potter star Daniel Radcliffe gets £20M f...   \n",
       "1  Mentally ill inmates in Miami are housed on th...   \n",
       "2  NEW: \"I thought I was going to die,\" driver sa...   \n",
       "3  Five small polyps found during procedure; \"non...   \n",
       "4  NEW: NFL chief, Atlanta Falcons owner critical...   \n",
       "\n",
       "                                         id  \n",
       "0  42c027e4ff9730fbb3de84c1af0d2c506e41c3e4  \n",
       "1  ee8871b15c50d0db17b0179a6d2beab35065f1e9  \n",
       "2  06352019a19ae31e527f37f7571c6dd7f0c5da37  \n",
       "3  24521a2abb2e1f5e34e6824e0f9e56904a2b0e88  \n",
       "4  7fe70cc8b12fab2d0a258fababf7d9c6b5e1262a  "
      ]
     },
     "execution_count": 34,
     "metadata": {},
     "output_type": "execute_result"
    }
   ],
   "source": [
    "df_cnn.head()"
   ]
  },
  {
   "cell_type": "markdown",
   "id": "1ff5f464",
   "metadata": {},
   "source": [
    "**🔹 Step 5: Clean Data**"
   ]
  },
  {
   "cell_type": "code",
   "execution_count": 35,
   "id": "ff86925a",
   "metadata": {},
   "outputs": [],
   "source": [
    "# Clean the dataset\n",
    "df_cnn = df_cnn.dropna(subset=[\"article\", \"highlights\"])\n",
    "df_cnn = df_cnn[df_cnn[\"article\"].str.strip().astype(bool)]"
   ]
  },
  {
   "cell_type": "markdown",
   "id": "b7fd1d92",
   "metadata": {},
   "source": [
    "**Remove Empty or Invalid Entries**"
   ]
  },
  {
   "cell_type": "markdown",
   "id": "8c228507",
   "metadata": {},
   "source": [
    "**🔹 Step 6: Define the Summary Generation Function**"
   ]
  },
  {
   "cell_type": "code",
   "execution_count": 36,
   "id": "b578f151",
   "metadata": {
    "scrolled": false
   },
   "outputs": [],
   "source": [
    "def generate_summary(text):\n",
    "    inputs = tokenizer(\n",
    "        text,\n",
    "        truncation=True,\n",
    "        max_length=1024,  # BART max input size\n",
    "        padding=\"longest\",\n",
    "        return_tensors=\"pt\"\n",
    "    ).to(device)\n",
    "\n",
    "    summary_ids = model.generate(\n",
    "        inputs[\"input_ids\"],\n",
    "        max_length=60,\n",
    "        min_length=10,\n",
    "        length_penalty=2.0,\n",
    "        num_beams=4,\n",
    "        early_stopping=True\n",
    "    )\n",
    "    return tokenizer.decode(summary_ids[0], skip_special_tokens=True)"
   ]
  },
  {
   "cell_type": "markdown",
   "id": "15ef279e",
   "metadata": {},
   "source": [
    "**🔹 Step 7: Generate Summaries**"
   ]
  },
  {
   "cell_type": "code",
   "execution_count": 37,
   "id": "696b153d",
   "metadata": {},
   "outputs": [
    {
     "name": "stdout",
     "output_type": "stream",
     "text": [
      "\n",
      "📰 Original Article #1:\n",
      " LONDON, England (Reuters) -- Harry Potter star Daniel Radcliffe gains access to a reported £20 million ($41.1 million) fortune as he turns 18 on Monday, but he insists the money won't cast a spell on him. Daniel Radcliffe as Harry Potter in \"Harry Potter and the Order of the Phoenix\" To the disappointment of gossip columnists around the world, the young actor says he has no plans to fritter his cash away on fast cars, drink and celebrity parties. \"I don't plan to be one of those people who, as s ...\n",
      "\n",
      "✍️ BART Summary #1:\n",
      " Harry Potter star Daniel Radcliffe turns 18 on Monday. He gains access to a reported £20 million ($41.1 million) fortune. Radcliffe's earnings from the first five Potter films have been held in a trust fund.\n",
      "--------------------------------------------------------------------------------\n",
      "\n",
      "📰 Original Article #2:\n",
      " Editor's note: In our Behind the Scenes series, CNN correspondents share their experiences in covering news and analyze the stories behind the events. Here, Soledad O'Brien takes users inside a jail where many of the inmates are mentally ill. An inmate housed on the \"forgotten floor,\" where many mentally ill inmates are housed in Miami before trial. MIAMI, Florida (CNN) -- The ninth floor of the Miami-Dade pretrial detention facility is dubbed the \"forgotten floor.\" Here, inmates with the most s ...\n",
      "\n",
      "✍️ BART Summary #2:\n",
      " Judge Steven Leifman is an advocate for justice and the mentally ill. About one-third of all people in Miami-Dade county jails are mentally ill, he says. He says the sheer volume is overwhelming the system. Starting in 2008, many inmates will be sent to a\n",
      "--------------------------------------------------------------------------------\n",
      "\n",
      "📰 Original Article #3:\n",
      " MINNEAPOLIS, Minnesota (CNN) -- Drivers who were on the Minneapolis bridge when it collapsed told harrowing tales of survival. \"The whole bridge from one side of the Mississippi to the other just completely gave way, fell all the way down,\" survivor Gary Babineau told CNN. \"I probably had a 30-, 35-foot free fall. And there's cars in the water, there's cars on fire. The whole bridge is down.\" He said his back was injured but he determined he could move around. \"I realized there was a school bus  ...\n",
      "\n",
      "✍️ BART Summary #3:\n",
      " NEW: \"I probably had a 30-, 35-foot free fall,\" survivor Gary Babineau says. NEW: \"My truck was completely face down, pointed toward the ground, and my truck got ripped in half,\" he says. Dr. John Hink rushed to the scene\n",
      "--------------------------------------------------------------------------------\n"
     ]
    }
   ],
   "source": [
    "sample_articles = df_cnn[\"article\"][:3]  \n",
    "generated_summaries = []\n",
    "\n",
    "for i, article in enumerate(sample_articles):\n",
    "    print(f\"\\n📰 Original Article #{i+1}:\\n\", article[:500], \"...\\n\")\n",
    "    \n",
    "    summary = generate_summary(article)\n",
    "    generated_summaries.append(summary)\n",
    "    \n",
    "    print(f\"✍️ BART Summary #{i+1}:\\n\", summary)\n",
    "    print(\"-\" * 80)\n"
   ]
  },
  {
   "cell_type": "markdown",
   "id": "4dc9ef73",
   "metadata": {},
   "source": [
    "**🔹 Step 8: Save Predictions & References**\n",
    "\n",
    "**This will prepare the results for evaluation:**"
   ]
  },
  {
   "cell_type": "code",
   "execution_count": 38,
   "id": "85be835d",
   "metadata": {},
   "outputs": [],
   "source": [
    "bart_cnn_preds = generated_summaries\n",
    "bart_cnn_refs = df_cnn[\"highlights\"][:len(generated_summaries)]"
   ]
  },
  {
   "cell_type": "markdown",
   "id": "4ddadbbb",
   "metadata": {},
   "source": [
    "**🔹Step 9: Evaluate with ROUGE & BERTScore**"
   ]
  },
  {
   "cell_type": "code",
   "execution_count": 40,
   "id": "1aad5aff",
   "metadata": {},
   "outputs": [],
   "source": [
    "from evaluate import load\n",
    "\n",
    "rouge = load(\"rouge\")\n",
    "bertscore = load(\"bertscore\")\n",
    "\n",
    "summary_results = []  # New list or continue same "
   ]
  },
  {
   "cell_type": "markdown",
   "id": "59ad67cb",
   "metadata": {},
   "source": [
    "**evaluation function** "
   ]
  },
  {
   "cell_type": "code",
   "execution_count": 41,
   "id": "ac76339c",
   "metadata": {},
   "outputs": [],
   "source": [
    "def evaluate_metrics(dataset_name, predictions, references):\n",
    "    rouge_scores = rouge.compute(predictions=predictions, references=references, use_stemmer=True)\n",
    "    bert_scores = bertscore.compute(predictions=predictions, references=references, lang=\"en\")\n",
    "    avg_bertscore = sum(bert_scores[\"f1\"]) / len(bert_scores[\"f1\"])\n",
    "\n",
    "    summary_results.append({\n",
    "        \"Dataset\": dataset_name,\n",
    "        \"ROUGE-1\": round(rouge_scores[\"rouge1\"], 4),\n",
    "        \"ROUGE-2\": round(rouge_scores[\"rouge2\"], 4),\n",
    "        \"ROUGE-L\": round(rouge_scores[\"rougeL\"], 4),\n",
    "        \"BERTScore\": round(avg_bertscore, 4)\n",
    "    })"
   ]
  },
  {
   "cell_type": "code",
   "execution_count": 42,
   "id": "5e41f862",
   "metadata": {},
   "outputs": [
    {
     "name": "stderr",
     "output_type": "stream",
     "text": [
      "Some weights of RobertaModel were not initialized from the model checkpoint at roberta-large and are newly initialized: ['pooler.dense.bias', 'pooler.dense.weight']\n",
      "You should probably TRAIN this model on a down-stream task to be able to use it for predictions and inference.\n",
      "C:\\Users\\SAMIM IMTIAZ\\anaconda3\\Lib\\site-packages\\torch\\nn\\modules\\module.py:1750: FutureWarning: `encoder_attention_mask` is deprecated and will be removed in version 4.55.0 for `RobertaSdpaSelfAttention.forward`.\n",
      "  return forward_call(*args, **kwargs)\n"
     ]
    }
   ],
   "source": [
    "evaluate_metrics(\"CNN DailyMail\", bart_cnn_preds, bart_cnn_refs)"
   ]
  },
  {
   "cell_type": "markdown",
   "id": "afbbe57c",
   "metadata": {},
   "source": [
    "**🔹 Step 10: Display the Result**"
   ]
  },
  {
   "cell_type": "code",
   "execution_count": 43,
   "id": "13293944",
   "metadata": {},
   "outputs": [
    {
     "name": "stdout",
     "output_type": "stream",
     "text": [
      "✅ BART Model ROUGE + BERTScore Summary\n",
      "      Dataset  ROUGE-1  ROUGE-2  ROUGE-L  BERTScore\n",
      "CNN DailyMail   0.5277   0.2867   0.3625     0.8904\n"
     ]
    }
   ],
   "source": [
    "import pandas as pd\n",
    "\n",
    "df_summary = pd.DataFrame(summary_results)\n",
    "print(\"✅ BART Model ROUGE + BERTScore Summary\")\n",
    "print(df_summary.to_string(index=False))"
   ]
  },
  {
   "cell_type": "markdown",
   "id": "afb81f1d",
   "metadata": {},
   "source": [
    "# 2.🚀BART on XSUM"
   ]
  },
  {
   "cell_type": "markdown",
   "id": "4fc4d146",
   "metadata": {},
   "source": [
    "**🔹 Step 1: Load XSum Dataset (from Notebook 1 CSV)**"
   ]
  },
  {
   "cell_type": "code",
   "execution_count": 44,
   "id": "de3e7a14",
   "metadata": {},
   "outputs": [
    {
     "name": "stderr",
     "output_type": "stream",
     "text": [
      "Using the latest cached version of the dataset since xsum couldn't be found on the Hugging Face Hub\n",
      "WARNING:datasets.load:Using the latest cached version of the dataset since xsum couldn't be found on the Hugging Face Hub\n",
      "Found the latest cached dataset configuration 'default' at C:\\Users\\SAMIM IMTIAZ\\.cache\\huggingface\\datasets\\xsum\\default\\1.2.0\\082863bf4754ee058a5b6f6525d0cb2b18eadb62c7b370b095d1364050a52b71 (last modified on Sun Aug  3 14:51:50 2025).\n",
      "WARNING:datasets.packaged_modules.cache.cache:Found the latest cached dataset configuration 'default' at C:\\Users\\SAMIM IMTIAZ\\.cache\\huggingface\\datasets\\xsum\\default\\1.2.0\\082863bf4754ee058a5b6f6525d0cb2b18eadb62c7b370b095d1364050a52b71 (last modified on Sun Aug  3 14:51:50 2025).\n"
     ]
    }
   ],
   "source": [
    "# ✅ Load datasets properly\n",
    "from datasets import load_dataset\n",
    "\n",
    "# XSum (extreme summarization)\n",
    "xsum = load_dataset(\"xsum\")"
   ]
  },
  {
   "cell_type": "code",
   "execution_count": 45,
   "id": "eb5f0a65",
   "metadata": {},
   "outputs": [
    {
     "name": "stdout",
     "output_type": "stream",
     "text": [
      "📊 XSum Test Set: (11334, 3)\n"
     ]
    }
   ],
   "source": [
    "# ✅ Show original dataset sizes (test set only or all splits as needed)\n",
    "print(\"📊 XSum Test Set:\", xsum['test'].shape)"
   ]
  },
  {
   "cell_type": "code",
   "execution_count": 46,
   "id": "2b5ea579",
   "metadata": {},
   "outputs": [],
   "source": [
    "import pandas as pd\n",
    "\n",
    "# Load XSum dataset saved from Notebook 1\n",
    "df_xsum = pd.read_csv(\"xsum.csv\")"
   ]
  },
  {
   "cell_type": "markdown",
   "id": "9f04025b",
   "metadata": {},
   "source": [
    "**Step 2: Clean up**"
   ]
  },
  {
   "cell_type": "code",
   "execution_count": 47,
   "id": "409fc73e",
   "metadata": {},
   "outputs": [],
   "source": [
    "df_xsum = df_xsum.dropna(subset=[\"document\", \"summary\"])\n",
    "df_xsum = df_xsum[df_xsum[\"document\"].str.strip().astype(bool)]"
   ]
  },
  {
   "cell_type": "markdown",
   "id": "6dd5dcdc",
   "metadata": {},
   "source": [
    "**🔹Step 3: Inspect the Data**"
   ]
  },
  {
   "cell_type": "code",
   "execution_count": 48,
   "id": "f263ab6c",
   "metadata": {},
   "outputs": [
    {
     "data": {
      "text/html": [
       "<div>\n",
       "<style scoped>\n",
       "    .dataframe tbody tr th:only-of-type {\n",
       "        vertical-align: middle;\n",
       "    }\n",
       "\n",
       "    .dataframe tbody tr th {\n",
       "        vertical-align: top;\n",
       "    }\n",
       "\n",
       "    .dataframe thead th {\n",
       "        text-align: right;\n",
       "    }\n",
       "</style>\n",
       "<table border=\"1\" class=\"dataframe\">\n",
       "  <thead>\n",
       "    <tr style=\"text-align: right;\">\n",
       "      <th></th>\n",
       "      <th>document</th>\n",
       "      <th>summary</th>\n",
       "      <th>id</th>\n",
       "    </tr>\n",
       "  </thead>\n",
       "  <tbody>\n",
       "    <tr>\n",
       "      <th>0</th>\n",
       "      <td>The full cost of damage in Newton Stewart, one...</td>\n",
       "      <td>Clean-up operations are continuing across the ...</td>\n",
       "      <td>35232142</td>\n",
       "    </tr>\n",
       "    <tr>\n",
       "      <th>1</th>\n",
       "      <td>A fire alarm went off at the Holiday Inn in Ho...</td>\n",
       "      <td>Two tourist buses have been destroyed by fire ...</td>\n",
       "      <td>40143035</td>\n",
       "    </tr>\n",
       "    <tr>\n",
       "      <th>2</th>\n",
       "      <td>Ferrari appeared in a position to challenge un...</td>\n",
       "      <td>Lewis Hamilton stormed to pole position at the...</td>\n",
       "      <td>35951548</td>\n",
       "    </tr>\n",
       "    <tr>\n",
       "      <th>3</th>\n",
       "      <td>John Edward Bates, formerly of Spalding, Linco...</td>\n",
       "      <td>A former Lincolnshire Police officer carried o...</td>\n",
       "      <td>36266422</td>\n",
       "    </tr>\n",
       "    <tr>\n",
       "      <th>4</th>\n",
       "      <td>Patients and staff were evacuated from Cerahpa...</td>\n",
       "      <td>An armed man who locked himself into a room at...</td>\n",
       "      <td>38826984</td>\n",
       "    </tr>\n",
       "  </tbody>\n",
       "</table>\n",
       "</div>"
      ],
      "text/plain": [
       "                                            document  \\\n",
       "0  The full cost of damage in Newton Stewart, one...   \n",
       "1  A fire alarm went off at the Holiday Inn in Ho...   \n",
       "2  Ferrari appeared in a position to challenge un...   \n",
       "3  John Edward Bates, formerly of Spalding, Linco...   \n",
       "4  Patients and staff were evacuated from Cerahpa...   \n",
       "\n",
       "                                             summary        id  \n",
       "0  Clean-up operations are continuing across the ...  35232142  \n",
       "1  Two tourist buses have been destroyed by fire ...  40143035  \n",
       "2  Lewis Hamilton stormed to pole position at the...  35951548  \n",
       "3  A former Lincolnshire Police officer carried o...  36266422  \n",
       "4  An armed man who locked himself into a room at...  38826984  "
      ]
     },
     "execution_count": 48,
     "metadata": {},
     "output_type": "execute_result"
    }
   ],
   "source": [
    "df_xsum.head()"
   ]
  },
  {
   "cell_type": "markdown",
   "id": "751f6b32",
   "metadata": {},
   "source": [
    "**🔹 Step 4: Generate Summaries with BART on XSum**"
   ]
  },
  {
   "cell_type": "code",
   "execution_count": 49,
   "id": "ce93177f",
   "metadata": {
    "scrolled": false
   },
   "outputs": [
    {
     "name": "stdout",
     "output_type": "stream",
     "text": [
      "\n",
      "📰 Original XSum Article #1:\n",
      " The full cost of damage in Newton Stewart, one of the areas worst affected, is still being assessed.\n",
      "Repair work is ongoing in Hawick and many roads in Peeblesshire remain badly affected by standing water.\n",
      "Trains on the west coast mainline face disruption due to damage at the Lamington Viaduct.\n",
      "Many businesses and householders were affected by flooding in Newton Stewart after the River Cree overflowed into the town.\n",
      "First Minister Nicola Sturgeon visited the area to inspect the damage.\n",
      "The water ...\n",
      "\n",
      "✍️ BART Summary #1:\n",
      " The full cost of damage in Newton Stewart, one of the areas worst affected, is still being assessed. First Minister Nicola Sturgeon visited the area to inspect the damage. A flood alert remains in place across the Borders.\n",
      "--------------------------------------------------------------------------------\n",
      "\n",
      "📰 Original XSum Article #2:\n",
      " A fire alarm went off at the Holiday Inn in Hope Street at about 04:20 BST on Saturday and guests were asked to leave the hotel.\n",
      "As they gathered outside they saw the two buses, parked side-by-side in the car park, engulfed by flames.\n",
      "One of the tour groups is from Germany, the other from China and Taiwan. It was their first night in Northern Ireland.\n",
      "The driver of one of the buses said many of the passengers had left personal belongings on board and these had been destroyed.\n",
      "Both groups have or ...\n",
      "\n",
      "✍️ BART Summary #2:\n",
      " A fire alarm went off at the Holiday Inn in Hope Street at about 04:20 BST. Guests were asked to leave the hotel and saw two buses engulfed in flames. One of the tour groups is from Germany, the other from China and Taiwan. Police have appealed for information about the\n",
      "--------------------------------------------------------------------------------\n",
      "\n",
      "📰 Original XSum Article #3:\n",
      " Ferrari appeared in a position to challenge until the final laps, when the Mercedes stretched their legs to go half a second clear of the red cars.\n",
      "Sebastian Vettel will start third ahead of team-mate Kimi Raikkonen.\n",
      "The world champion subsequently escaped punishment for reversing in the pit lane, which could have seen him stripped of pole.\n",
      "But stewards only handed Hamilton a reprimand, after governing body the FIA said \"no clear instruction was given on where he should park\".\n",
      "Belgian Stoffel Va ...\n",
      "\n",
      "✍️ BART Summary #3:\n",
      " Ferrari appeared in a position to challenge until the final laps, when the Mercedes stretched their legs to go half a second clear of the red cars. Sebastian Vettel will start third ahead of team-mate Kimi Raikkonen. McLaren's Stoffel Vandoorne out\n",
      "--------------------------------------------------------------------------------\n"
     ]
    }
   ],
   "source": [
    "sample_articles = df_xsum[\"document\"][:3]\n",
    "generated_summaries = []\n",
    "\n",
    "for i, article in enumerate(sample_articles):\n",
    "    print(f\"\\n📰 Original XSum Article #{i+1}:\\n\", article[:500], \"...\\n\")\n",
    "\n",
    "    summary = generate_summary(article)\n",
    "    generated_summaries.append(summary)\n",
    "\n",
    "    print(f\"✍️ BART Summary #{i+1}:\\n\", summary)\n",
    "    print(\"-\" * 80)"
   ]
  },
  {
   "cell_type": "markdown",
   "id": "c546ae9e",
   "metadata": {},
   "source": [
    "**🔹 Step 5: Evaluate Summaries for XSum**"
   ]
  },
  {
   "cell_type": "code",
   "execution_count": 50,
   "id": "cc69e00c",
   "metadata": {},
   "outputs": [],
   "source": [
    "# Save XSum predictions and references\n",
    "bart_xsum_preds = generated_summaries\n",
    "bart_xsum_refs = df_xsum[\"summary\"][:len(generated_summaries)]"
   ]
  },
  {
   "cell_type": "code",
   "execution_count": 51,
   "id": "c36e410b",
   "metadata": {},
   "outputs": [
    {
     "name": "stderr",
     "output_type": "stream",
     "text": [
      "C:\\Users\\SAMIM IMTIAZ\\anaconda3\\Lib\\site-packages\\torch\\nn\\modules\\module.py:1750: FutureWarning: `encoder_attention_mask` is deprecated and will be removed in version 4.55.0 for `RobertaSdpaSelfAttention.forward`.\n",
      "  return forward_call(*args, **kwargs)\n"
     ]
    }
   ],
   "source": [
    "# Evaluate\n",
    "evaluate_metrics(\"XSum\", bart_xsum_preds, bart_xsum_refs)"
   ]
  },
  {
   "cell_type": "markdown",
   "id": "60e8bc50",
   "metadata": {},
   "source": [
    "**🔹 Step 6: Evaluate with ROUGE & BERTScore**"
   ]
  },
  {
   "cell_type": "code",
   "execution_count": 27,
   "id": "ffef90b3",
   "metadata": {},
   "outputs": [],
   "source": [
    "#summary_results = []  # Clear previous evaluations before new ones"
   ]
  },
  {
   "cell_type": "code",
   "execution_count": 52,
   "id": "5b9ad4da",
   "metadata": {},
   "outputs": [
    {
     "name": "stdout",
     "output_type": "stream",
     "text": [
      "✅ BART Model ROUGE + BERTScore Summary\n",
      "      Dataset  ROUGE-1  ROUGE-2  ROUGE-L  BERTScore\n",
      "CNN DailyMail   0.5277   0.2867   0.3625     0.8904\n",
      "         XSum   0.2018   0.0347   0.1296     0.8680\n"
     ]
    }
   ],
   "source": [
    "import pandas as pd\n",
    "\n",
    "df_summary = pd.DataFrame(summary_results)\n",
    "print(\"✅ BART Model ROUGE + BERTScore Summary\")\n",
    "print(df_summary.to_string(index=False))"
   ]
  },
  {
   "cell_type": "markdown",
   "id": "8b0a3f50",
   "metadata": {},
   "source": [
    "# 3.🚀BART on MultiNews"
   ]
  },
  {
   "cell_type": "markdown",
   "id": "f04c008f",
   "metadata": {},
   "source": [
    "**🔹 Step 1: Load XSum Dataset (from Notebook 1 CSV)**"
   ]
  },
  {
   "cell_type": "code",
   "execution_count": 53,
   "id": "98dce82c",
   "metadata": {},
   "outputs": [
    {
     "name": "stderr",
     "output_type": "stream",
     "text": [
      "Using the latest cached version of the dataset since multi_news couldn't be found on the Hugging Face Hub\n",
      "WARNING:datasets.load:Using the latest cached version of the dataset since multi_news couldn't be found on the Hugging Face Hub\n",
      "Found the latest cached dataset configuration 'default' at C:\\Users\\SAMIM IMTIAZ\\.cache\\huggingface\\datasets\\multi_news\\default\\1.0.0\\2f1f69a2bedc8ad1c5d8ae5148e4755ee7095f465c1c01ae8f85454342065a72 (last modified on Sun Aug  3 14:55:04 2025).\n",
      "WARNING:datasets.packaged_modules.cache.cache:Found the latest cached dataset configuration 'default' at C:\\Users\\SAMIM IMTIAZ\\.cache\\huggingface\\datasets\\multi_news\\default\\1.0.0\\2f1f69a2bedc8ad1c5d8ae5148e4755ee7095f465c1c01ae8f85454342065a72 (last modified on Sun Aug  3 14:55:04 2025).\n"
     ]
    }
   ],
   "source": [
    "# ✅ Load datasets properly\n",
    "from datasets import load_dataset\n",
    "\n",
    "# MultiNews (multi-document summarization)\n",
    "multi_news = load_dataset(\"multi_news\")"
   ]
  },
  {
   "cell_type": "code",
   "execution_count": 54,
   "id": "db3a6494",
   "metadata": {},
   "outputs": [
    {
     "name": "stdout",
     "output_type": "stream",
     "text": [
      "📊 MultiNews Test Set: (5622, 2)\n"
     ]
    }
   ],
   "source": [
    "# ✅ Show original dataset sizes (test set only or all splits as needed)\n",
    "print(\"📊 MultiNews Test Set:\", multi_news['test'].shape)"
   ]
  },
  {
   "cell_type": "code",
   "execution_count": 55,
   "id": "a9db4622",
   "metadata": {},
   "outputs": [],
   "source": [
    "import pandas as pd\n",
    "\n",
    "# Load dataset saved in Notebook 1\n",
    "df_multi = pd.read_csv(\"multi_news.csv\")"
   ]
  },
  {
   "cell_type": "markdown",
   "id": "0bd9b385",
   "metadata": {},
   "source": [
    "**🔹Step 2: Inspect the Data**"
   ]
  },
  {
   "cell_type": "code",
   "execution_count": 56,
   "id": "94a8cd7c",
   "metadata": {},
   "outputs": [
    {
     "data": {
      "text/html": [
       "<div>\n",
       "<style scoped>\n",
       "    .dataframe tbody tr th:only-of-type {\n",
       "        vertical-align: middle;\n",
       "    }\n",
       "\n",
       "    .dataframe tbody tr th {\n",
       "        vertical-align: top;\n",
       "    }\n",
       "\n",
       "    .dataframe thead th {\n",
       "        text-align: right;\n",
       "    }\n",
       "</style>\n",
       "<table border=\"1\" class=\"dataframe\">\n",
       "  <thead>\n",
       "    <tr style=\"text-align: right;\">\n",
       "      <th></th>\n",
       "      <th>document</th>\n",
       "      <th>summary</th>\n",
       "    </tr>\n",
       "  </thead>\n",
       "  <tbody>\n",
       "    <tr>\n",
       "      <th>0</th>\n",
       "      <td>National Archives \\n \\n Yes, it’s that time ag...</td>\n",
       "      <td>– The unemployment rate dropped to 8.2% last m...</td>\n",
       "    </tr>\n",
       "    <tr>\n",
       "      <th>1</th>\n",
       "      <td>LOS ANGELES (AP) — In her first interview sinc...</td>\n",
       "      <td>– Shelly Sterling plans \"eventually\" to divorc...</td>\n",
       "    </tr>\n",
       "    <tr>\n",
       "      <th>2</th>\n",
       "      <td>GAITHERSBURG, Md. (AP) — A small, private jet ...</td>\n",
       "      <td>– A twin-engine Embraer jet that the FAA descr...</td>\n",
       "    </tr>\n",
       "    <tr>\n",
       "      <th>3</th>\n",
       "      <td>Tucker Carlson Exposes His Own Sexism on Twitt...</td>\n",
       "      <td>– Tucker Carlson is in deep doodoo with conser...</td>\n",
       "    </tr>\n",
       "    <tr>\n",
       "      <th>4</th>\n",
       "      <td>A man accused of removing another man's testic...</td>\n",
       "      <td>– What are the three most horrifying words in ...</td>\n",
       "    </tr>\n",
       "  </tbody>\n",
       "</table>\n",
       "</div>"
      ],
      "text/plain": [
       "                                            document  \\\n",
       "0  National Archives \\n \\n Yes, it’s that time ag...   \n",
       "1  LOS ANGELES (AP) — In her first interview sinc...   \n",
       "2  GAITHERSBURG, Md. (AP) — A small, private jet ...   \n",
       "3  Tucker Carlson Exposes His Own Sexism on Twitt...   \n",
       "4  A man accused of removing another man's testic...   \n",
       "\n",
       "                                             summary  \n",
       "0  – The unemployment rate dropped to 8.2% last m...  \n",
       "1  – Shelly Sterling plans \"eventually\" to divorc...  \n",
       "2  – A twin-engine Embraer jet that the FAA descr...  \n",
       "3  – Tucker Carlson is in deep doodoo with conser...  \n",
       "4  – What are the three most horrifying words in ...  "
      ]
     },
     "execution_count": 56,
     "metadata": {},
     "output_type": "execute_result"
    }
   ],
   "source": [
    "df_multi.head()"
   ]
  },
  {
   "cell_type": "markdown",
   "id": "e4221169",
   "metadata": {},
   "source": [
    "**🔹 Step 3: Clean the data**"
   ]
  },
  {
   "cell_type": "code",
   "execution_count": 57,
   "id": "9f682c8a",
   "metadata": {},
   "outputs": [],
   "source": [
    "df_multi = df_multi.dropna(subset=[\"document\", \"summary\"])\n",
    "df_multi = df_multi[df_multi[\"document\"].str.strip().astype(bool)]"
   ]
  },
  {
   "cell_type": "markdown",
   "id": "589ff9fc",
   "metadata": {},
   "source": [
    "**🔹 Step 4: Generate Summaries**"
   ]
  },
  {
   "cell_type": "code",
   "execution_count": 58,
   "id": "312de083",
   "metadata": {},
   "outputs": [
    {
     "name": "stdout",
     "output_type": "stream",
     "text": [
      "\n",
      "📰 Original MultiNews Article #1:\n",
      " National Archives \n",
      " \n",
      " Yes, it’s that time again, folks. It’s the first Friday of the month, when for one ever-so-brief moment the interests of Wall Street, Washington and Main Street are all aligned on one thing: Jobs. \n",
      " \n",
      " A fresh update on the U.S. employment situation for January hits the wires at 8:30 a.m. New York time offering one of the most important snapshots on how the economy fared during the previous month. Expectations are for 203,000 new jobs to be created, according to economists p ...\n",
      "\n",
      "✍️ BART Summary #1:\n",
      " A fresh update on the U.S. employment situation for January hits the wires at 8:30 a.m. New York time. Expectations are for 203,000 new jobs to be created, according to economists polled by Dow Jones Newswires. The unemployment rate is expected\n",
      "--------------------------------------------------------------------------------\n",
      "\n",
      "📰 Original MultiNews Article #2:\n",
      " LOS ANGELES (AP) — In her first interview since the NBA banned her estranged husband, Shelly Sterling says she will fight to keep her share of the Los Angeles Clippers and plans one day to divorce Donald Sterling. \n",
      " \n",
      " (Click Prev or Next to continue viewing images.) \n",
      " \n",
      " ADVERTISEMENT (Click Prev or Next to continue viewing images.) \n",
      " \n",
      " Los Angeles Clippers co-owner Shelly Sterling, below, watches the Clippers play the Oklahoma City Thunder along with her attorney, Pierce O'Donnell, in the first  ...\n",
      "\n",
      "✍️ BART Summary #2:\n",
      " Shelly Sterling says she will fight to keep her share of the Los Angeles Clippers. NBA Commissioner Adam Silver has banned Donald Sterling for making racist comments. Sterling also says she \"eventually\" will divorce her husband, Donald Sterling.\n",
      "--------------------------------------------------------------------------------\n",
      "\n",
      "📰 Original MultiNews Article #3:\n",
      " GAITHERSBURG, Md. (AP) — A small, private jet has crashed into a house in Maryland's Montgomery County on Monday, killing at least three people on board, authorities said. \n",
      " \n",
      " Preliminary information indicates at least three people were on board and didn't survive the Monday crash into home in Gaithersburg, a Washington, D.C. suburb, said Pete Piringer, a Montgomery County Fire and Rescue spokesman. \n",
      " \n",
      " He said a fourth person may have been aboard. \n",
      " \n",
      " Piringer said the jet crashed into one home ...\n",
      "\n",
      "✍️ BART Summary #3:\n",
      " NEW: NTSB investigators are collecting perishable evidence, not determining the cause. NEW: Investigators could be on the scene for three to seven days for what they call the \"fact-finding\" phase. A mother and her two young children are three of the six lives lost in the\n",
      "--------------------------------------------------------------------------------\n"
     ]
    }
   ],
   "source": [
    "sample_articles = df_multi[\"document\"][:3]\n",
    "generated_summaries = []\n",
    "\n",
    "for i, article in enumerate(sample_articles):\n",
    "    print(f\"\\n📰 Original MultiNews Article #{i+1}:\\n\", article[:500], \"...\\n\")\n",
    "\n",
    "    summary = generate_summary(article)\n",
    "    generated_summaries.append(summary)\n",
    "\n",
    "    print(f\"✍️ BART Summary #{i+1}:\\n\", summary)\n",
    "    print(\"-\" * 80)"
   ]
  },
  {
   "cell_type": "markdown",
   "id": "0d785a8a",
   "metadata": {},
   "source": [
    "**🔹 Step 5: Save Predictions and References**"
   ]
  },
  {
   "cell_type": "code",
   "execution_count": 59,
   "id": "a4747c0c",
   "metadata": {},
   "outputs": [],
   "source": [
    "bart_multi_preds = generated_summaries\n",
    "bart_multi_refs = df_multi[\"summary\"][:len(generated_summaries)]"
   ]
  },
  {
   "cell_type": "markdown",
   "id": "69b9a63a",
   "metadata": {},
   "source": [
    "**🔹 Step 6: Evaluate**"
   ]
  },
  {
   "cell_type": "code",
   "execution_count": 60,
   "id": "cc4f7635",
   "metadata": {},
   "outputs": [
    {
     "name": "stderr",
     "output_type": "stream",
     "text": [
      "C:\\Users\\SAMIM IMTIAZ\\anaconda3\\Lib\\site-packages\\torch\\nn\\modules\\module.py:1750: FutureWarning: `encoder_attention_mask` is deprecated and will be removed in version 4.55.0 for `RobertaSdpaSelfAttention.forward`.\n",
      "  return forward_call(*args, **kwargs)\n"
     ]
    }
   ],
   "source": [
    "evaluate_metrics(\"MultiNews\", bart_multi_preds, bart_multi_refs)"
   ]
  },
  {
   "cell_type": "markdown",
   "id": "34fc1101",
   "metadata": {},
   "source": [
    "**🔹Step 7: BART with CNN,XSUM & MultiNews ROUGE & BERTScore**"
   ]
  },
  {
   "cell_type": "code",
   "execution_count": 61,
   "id": "09c6a776",
   "metadata": {},
   "outputs": [
    {
     "name": "stdout",
     "output_type": "stream",
     "text": [
      "✅ PEGASUS Model ROUGE + BERTScore Summary\n",
      "      Dataset  ROUGE-1  ROUGE-2  ROUGE-L  BERTScore\n",
      "CNN DailyMail   0.5277   0.2867   0.3625     0.8904\n",
      "         XSum   0.2018   0.0347   0.1296     0.8680\n",
      "    MultiNews   0.2866   0.1078   0.1727     0.8510\n"
     ]
    }
   ],
   "source": [
    "# Final BART results summary\n",
    "df_summary = pd.DataFrame(summary_results)\n",
    "print(\"✅ PEGASUS Model ROUGE + BERTScore Summary\")\n",
    "print(df_summary.to_string(index=False))"
   ]
  },
  {
   "cell_type": "markdown",
   "id": "89e62e5e",
   "metadata": {},
   "source": [
    "# 💾 Save the Scores to .CSV Files\n",
    "\n",
    "**So that we can use to comapair models in different NoteBooks**"
   ]
  },
  {
   "cell_type": "code",
   "execution_count": 62,
   "id": "085f3bf8",
   "metadata": {},
   "outputs": [],
   "source": [
    "# Save to CSV\n",
    "df_summary[\"Model\"] = \"BART\"  \n",
    "df_summary.to_csv(\"bart_scores.csv\", index=False)"
   ]
  }
 ],
 "metadata": {
  "kernelspec": {
   "display_name": "Python 3",
   "language": "python",
   "name": "python3"
  },
  "language_info": {
   "codemirror_mode": {
    "name": "ipython",
    "version": 3
   },
   "file_extension": ".py",
   "mimetype": "text/x-python",
   "name": "python",
   "nbconvert_exporter": "python",
   "pygments_lexer": "ipython3",
   "version": "3.11.5"
  }
 },
 "nbformat": 4,
 "nbformat_minor": 5
}
